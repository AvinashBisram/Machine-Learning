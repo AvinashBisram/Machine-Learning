{
 "cells": [
  {
   "cell_type": "markdown",
   "id": "46b8f908",
   "metadata": {},
   "source": [
    "# Classification Comparison Project  \n",
    "By: Avinash Bisram"
   ]
  },
  {
   "cell_type": "markdown",
   "id": "781e8fe4",
   "metadata": {},
   "source": [
    "This project aims to juxtapose the intuition and implementation of various supervised classification ML models and find the most accurate one in relation to the goal of classifying labeled data."
   ]
  },
  {
   "cell_type": "markdown",
   "id": "3bd20886",
   "metadata": {},
   "source": [
    "It contains the following sections...  \n",
    "1. Data Selection\n",
    "2. Initial Data Exploration\n",
    "3. Data Cleaning\n",
    "4. Exploratory Data Analysis\n",
    "5. Machine Learning Intuition\n",
    "6. Preprocessing\n",
    "7. Model Creation and Training\n",
    "8. Model Evaluation\n",
    "9. Best Model Selection and Dataset Insights\n",
    "10. Model Generalization\n",
    "11. Model Productionization\n",
    "12. Next Steps"
   ]
  },
  {
   "cell_type": "markdown",
   "id": "bb88090c",
   "metadata": {},
   "source": [
    "## Import Libraries"
   ]
  },
  {
   "cell_type": "code",
   "execution_count": 1,
   "id": "8d677880",
   "metadata": {},
   "outputs": [],
   "source": [
    "import pandas as pd\n",
    "import numpy as np\n",
    "import seaborn as sns\n",
    "import matplotlib.pyplot as plt\n",
    "import sklearn as sk"
   ]
  },
  {
   "cell_type": "markdown",
   "id": "5d437e2b",
   "metadata": {},
   "source": [
    "## Data Selection"
   ]
  },
  {
   "cell_type": "markdown",
   "id": "19aa2297",
   "metadata": {},
   "source": [
    "The data that will be used in this project is the \"Mushroom Classification\" dataset by UCI Machine Learning. It was downloaded from Kaggle [here](https://www.kaggle.com/datasets/uciml/mushroom-classification), and can be found in this project's repository as \"mushrooms.csv\".  \n",
    "It contains information about mushrooms as well as labels for each record indicating if the mushroom is edible or poisonous."
   ]
  },
  {
   "cell_type": "markdown",
   "id": "16c62842",
   "metadata": {},
   "source": [
    "Attribute Information:\n",
    "- (TARGET) classes: edible=e, poisonous=p\n",
    "- cap-shape: bell=b,conical=c,convex=x,flat=f, knobbed=k,sunken=s\n",
    "- cap-surface: fibrous=f,grooves=g,scaly=y,smooth=s\n",
    "- cap-color: brown=n,buff=b,cinnamon=c,gray=g,green=r,pink=p,purple=u,red=e,white=w,yellow=y\n",
    "- bruises: bruises=t,no=f\n",
    "- odor: almond=a,anise=l,creosote=c,fishy=y,foul=f,musty=m,none=n,pungent=p,spicy=s\n",
    "- gill-attachment: attached=a,descending=d,free=f,notched=n\n",
    "- gill-spacing: close=c,crowded=w,distant=d\n",
    "- gill-size: broad=b,narrow=n\n",
    "- gill-color: black=k,brown=n,buff=b,chocolate=h,gray=g, green=r,orange=o,pink=p,purple=u,red=e,white=w,yellow=y\n",
    "- stalk-shape: enlarging=e,tapering=t\n",
    "- stalk-root: bulbous=b,club=c,cup=u,equal=e,rhizomorphs=z,rooted=r,missing=?\n",
    "- stalk-surface-above-ring: fibrous=f,scaly=y,silky=k,smooth=s\n",
    "- stalk-surface-below-ring: fibrous=f,scaly=y,silky=k,smooth=s\n",
    "- stalk-color-above-ring: brown=n,buff=b,cinnamon=c,gray=g,orange=o,pink=p,red=e,white=w,yellow=y\n",
    "- stalk-color-below-ring: brown=n,buff=b,cinnamon=c,gray=g,orange=o,pink=p,red=e,white=w,yellow=y\n",
    "- veil-type: partial=p,universal=u\n",
    "- veil-color: brown=n,orange=o,white=w,yellow=y\n",
    "- ring-number: none=n,one=o,two=t\n",
    "- ring-type: cobwebby=c,evanescent=e,flaring=f,large=l,none=n,pendant=p,sheathing=s,zone=z\n",
    "- spore-print-color: black=k,brown=n,buff=b,chocolate=h,green=r,orange=o,purple=u,white=w,yellow=y\n",
    "- population: abundant=a,clustered=c,numerous=n,scattered=s,several=v,solitary=y\n",
    "- habitat: grasses=g,leaves=l,meadows=m,paths=p,urban=u,waste=w,woods=d"
   ]
  },
  {
   "cell_type": "code",
   "execution_count": 2,
   "id": "bb7e0a83",
   "metadata": {},
   "outputs": [],
   "source": [
    "# Storing the dataset in a DataFrame\n",
    "\n",
    "rawData = pd.read_csv('mushrooms.csv')"
   ]
  },
  {
   "cell_type": "markdown",
   "id": "395c8ee2",
   "metadata": {},
   "source": [
    "## Initial Data Exploration"
   ]
  },
  {
   "cell_type": "code",
   "execution_count": 3,
   "id": "0757ea0b",
   "metadata": {
    "scrolled": true
   },
   "outputs": [
    {
     "data": {
      "text/html": [
       "<div>\n",
       "<style scoped>\n",
       "    .dataframe tbody tr th:only-of-type {\n",
       "        vertical-align: middle;\n",
       "    }\n",
       "\n",
       "    .dataframe tbody tr th {\n",
       "        vertical-align: top;\n",
       "    }\n",
       "\n",
       "    .dataframe thead th {\n",
       "        text-align: right;\n",
       "    }\n",
       "</style>\n",
       "<table border=\"1\" class=\"dataframe\">\n",
       "  <thead>\n",
       "    <tr style=\"text-align: right;\">\n",
       "      <th></th>\n",
       "      <th>class</th>\n",
       "      <th>cap-shape</th>\n",
       "      <th>cap-surface</th>\n",
       "      <th>cap-color</th>\n",
       "      <th>bruises</th>\n",
       "      <th>odor</th>\n",
       "      <th>gill-attachment</th>\n",
       "      <th>gill-spacing</th>\n",
       "      <th>gill-size</th>\n",
       "      <th>gill-color</th>\n",
       "      <th>...</th>\n",
       "      <th>stalk-surface-below-ring</th>\n",
       "      <th>stalk-color-above-ring</th>\n",
       "      <th>stalk-color-below-ring</th>\n",
       "      <th>veil-type</th>\n",
       "      <th>veil-color</th>\n",
       "      <th>ring-number</th>\n",
       "      <th>ring-type</th>\n",
       "      <th>spore-print-color</th>\n",
       "      <th>population</th>\n",
       "      <th>habitat</th>\n",
       "    </tr>\n",
       "  </thead>\n",
       "  <tbody>\n",
       "    <tr>\n",
       "      <th>0</th>\n",
       "      <td>p</td>\n",
       "      <td>x</td>\n",
       "      <td>s</td>\n",
       "      <td>n</td>\n",
       "      <td>t</td>\n",
       "      <td>p</td>\n",
       "      <td>f</td>\n",
       "      <td>c</td>\n",
       "      <td>n</td>\n",
       "      <td>k</td>\n",
       "      <td>...</td>\n",
       "      <td>s</td>\n",
       "      <td>w</td>\n",
       "      <td>w</td>\n",
       "      <td>p</td>\n",
       "      <td>w</td>\n",
       "      <td>o</td>\n",
       "      <td>p</td>\n",
       "      <td>k</td>\n",
       "      <td>s</td>\n",
       "      <td>u</td>\n",
       "    </tr>\n",
       "    <tr>\n",
       "      <th>1</th>\n",
       "      <td>e</td>\n",
       "      <td>x</td>\n",
       "      <td>s</td>\n",
       "      <td>y</td>\n",
       "      <td>t</td>\n",
       "      <td>a</td>\n",
       "      <td>f</td>\n",
       "      <td>c</td>\n",
       "      <td>b</td>\n",
       "      <td>k</td>\n",
       "      <td>...</td>\n",
       "      <td>s</td>\n",
       "      <td>w</td>\n",
       "      <td>w</td>\n",
       "      <td>p</td>\n",
       "      <td>w</td>\n",
       "      <td>o</td>\n",
       "      <td>p</td>\n",
       "      <td>n</td>\n",
       "      <td>n</td>\n",
       "      <td>g</td>\n",
       "    </tr>\n",
       "    <tr>\n",
       "      <th>2</th>\n",
       "      <td>e</td>\n",
       "      <td>b</td>\n",
       "      <td>s</td>\n",
       "      <td>w</td>\n",
       "      <td>t</td>\n",
       "      <td>l</td>\n",
       "      <td>f</td>\n",
       "      <td>c</td>\n",
       "      <td>b</td>\n",
       "      <td>n</td>\n",
       "      <td>...</td>\n",
       "      <td>s</td>\n",
       "      <td>w</td>\n",
       "      <td>w</td>\n",
       "      <td>p</td>\n",
       "      <td>w</td>\n",
       "      <td>o</td>\n",
       "      <td>p</td>\n",
       "      <td>n</td>\n",
       "      <td>n</td>\n",
       "      <td>m</td>\n",
       "    </tr>\n",
       "    <tr>\n",
       "      <th>3</th>\n",
       "      <td>p</td>\n",
       "      <td>x</td>\n",
       "      <td>y</td>\n",
       "      <td>w</td>\n",
       "      <td>t</td>\n",
       "      <td>p</td>\n",
       "      <td>f</td>\n",
       "      <td>c</td>\n",
       "      <td>n</td>\n",
       "      <td>n</td>\n",
       "      <td>...</td>\n",
       "      <td>s</td>\n",
       "      <td>w</td>\n",
       "      <td>w</td>\n",
       "      <td>p</td>\n",
       "      <td>w</td>\n",
       "      <td>o</td>\n",
       "      <td>p</td>\n",
       "      <td>k</td>\n",
       "      <td>s</td>\n",
       "      <td>u</td>\n",
       "    </tr>\n",
       "    <tr>\n",
       "      <th>4</th>\n",
       "      <td>e</td>\n",
       "      <td>x</td>\n",
       "      <td>s</td>\n",
       "      <td>g</td>\n",
       "      <td>f</td>\n",
       "      <td>n</td>\n",
       "      <td>f</td>\n",
       "      <td>w</td>\n",
       "      <td>b</td>\n",
       "      <td>k</td>\n",
       "      <td>...</td>\n",
       "      <td>s</td>\n",
       "      <td>w</td>\n",
       "      <td>w</td>\n",
       "      <td>p</td>\n",
       "      <td>w</td>\n",
       "      <td>o</td>\n",
       "      <td>e</td>\n",
       "      <td>n</td>\n",
       "      <td>a</td>\n",
       "      <td>g</td>\n",
       "    </tr>\n",
       "  </tbody>\n",
       "</table>\n",
       "<p>5 rows × 23 columns</p>\n",
       "</div>"
      ],
      "text/plain": [
       "  class cap-shape cap-surface cap-color bruises odor gill-attachment  \\\n",
       "0     p         x           s         n       t    p               f   \n",
       "1     e         x           s         y       t    a               f   \n",
       "2     e         b           s         w       t    l               f   \n",
       "3     p         x           y         w       t    p               f   \n",
       "4     e         x           s         g       f    n               f   \n",
       "\n",
       "  gill-spacing gill-size gill-color  ... stalk-surface-below-ring  \\\n",
       "0            c         n          k  ...                        s   \n",
       "1            c         b          k  ...                        s   \n",
       "2            c         b          n  ...                        s   \n",
       "3            c         n          n  ...                        s   \n",
       "4            w         b          k  ...                        s   \n",
       "\n",
       "  stalk-color-above-ring stalk-color-below-ring veil-type veil-color  \\\n",
       "0                      w                      w         p          w   \n",
       "1                      w                      w         p          w   \n",
       "2                      w                      w         p          w   \n",
       "3                      w                      w         p          w   \n",
       "4                      w                      w         p          w   \n",
       "\n",
       "  ring-number ring-type spore-print-color population habitat  \n",
       "0           o         p                 k          s       u  \n",
       "1           o         p                 n          n       g  \n",
       "2           o         p                 n          n       m  \n",
       "3           o         p                 k          s       u  \n",
       "4           o         e                 n          a       g  \n",
       "\n",
       "[5 rows x 23 columns]"
      ]
     },
     "execution_count": 3,
     "metadata": {},
     "output_type": "execute_result"
    }
   ],
   "source": [
    "# Viewing the head of the DataFrame to get a general idea of how it looks\n",
    "\n",
    "rawData.head()"
   ]
  },
  {
   "cell_type": "code",
   "execution_count": 4,
   "id": "a72f3731",
   "metadata": {},
   "outputs": [
    {
     "data": {
      "text/plain": [
       "(8124, 23)"
      ]
     },
     "execution_count": 4,
     "metadata": {},
     "output_type": "execute_result"
    }
   ],
   "source": [
    "# Dataset Shape\n",
    "\n",
    "rawData.shape\n",
    "\n",
    "# 8124 Observations (rows), 23 Features (columns)"
   ]
  },
  {
   "cell_type": "code",
   "execution_count": 5,
   "id": "c7829922",
   "metadata": {},
   "outputs": [
    {
     "data": {
      "text/plain": [
       "Index(['class', 'cap-shape', 'cap-surface', 'cap-color', 'bruises', 'odor',\n",
       "       'gill-attachment', 'gill-spacing', 'gill-size', 'gill-color',\n",
       "       'stalk-shape', 'stalk-root', 'stalk-surface-above-ring',\n",
       "       'stalk-surface-below-ring', 'stalk-color-above-ring',\n",
       "       'stalk-color-below-ring', 'veil-type', 'veil-color', 'ring-number',\n",
       "       'ring-type', 'spore-print-color', 'population', 'habitat'],\n",
       "      dtype='object')"
      ]
     },
     "execution_count": 5,
     "metadata": {},
     "output_type": "execute_result"
    }
   ],
   "source": [
    "# Column Names\n",
    "\n",
    "rawData.columns"
   ]
  },
  {
   "cell_type": "code",
   "execution_count": 6,
   "id": "f2d4ec1a",
   "metadata": {
    "scrolled": false
   },
   "outputs": [
    {
     "data": {
      "text/plain": [
       "class                       object\n",
       "cap-shape                   object\n",
       "cap-surface                 object\n",
       "cap-color                   object\n",
       "bruises                     object\n",
       "odor                        object\n",
       "gill-attachment             object\n",
       "gill-spacing                object\n",
       "gill-size                   object\n",
       "gill-color                  object\n",
       "stalk-shape                 object\n",
       "stalk-root                  object\n",
       "stalk-surface-above-ring    object\n",
       "stalk-surface-below-ring    object\n",
       "stalk-color-above-ring      object\n",
       "stalk-color-below-ring      object\n",
       "veil-type                   object\n",
       "veil-color                  object\n",
       "ring-number                 object\n",
       "ring-type                   object\n",
       "spore-print-color           object\n",
       "population                  object\n",
       "habitat                     object\n",
       "dtype: object"
      ]
     },
     "execution_count": 6,
     "metadata": {},
     "output_type": "execute_result"
    }
   ],
   "source": [
    "# Column Datatypes\n",
    "\n",
    "rawData.dtypes\n",
    "\n",
    "# All feature data types seem to be in line with what we expect based on the Attribute Information above."
   ]
  },
  {
   "cell_type": "code",
   "execution_count": 7,
   "id": "6273f30b",
   "metadata": {},
   "outputs": [],
   "source": [
    "# Descriptive Statistics\n",
    "\n",
    "# Since all of our features are categorical and non-numeric, it is not appropriate to view descriptive statistics\n",
    "# right now.\n",
    "\n",
    "# rawData.describe()"
   ]
  },
  {
   "cell_type": "code",
   "execution_count": 8,
   "id": "443c43b2",
   "metadata": {},
   "outputs": [
    {
     "data": {
      "text/plain": [
       "class                       0\n",
       "spore-print-color           0\n",
       "ring-type                   0\n",
       "ring-number                 0\n",
       "veil-color                  0\n",
       "veil-type                   0\n",
       "stalk-color-below-ring      0\n",
       "stalk-color-above-ring      0\n",
       "stalk-surface-below-ring    0\n",
       "stalk-surface-above-ring    0\n",
       "population                  0\n",
       "stalk-root                  0\n",
       "gill-color                  0\n",
       "gill-size                   0\n",
       "gill-spacing                0\n",
       "gill-attachment             0\n",
       "odor                        0\n",
       "bruises                     0\n",
       "cap-color                   0\n",
       "cap-surface                 0\n",
       "cap-shape                   0\n",
       "stalk-shape                 0\n",
       "habitat                     0\n",
       "dtype: int64"
      ]
     },
     "execution_count": 8,
     "metadata": {},
     "output_type": "execute_result"
    }
   ],
   "source": [
    "# Identifying Missing data\n",
    "\n",
    "rawData.isnull().sum().sort_values()\n",
    "\n",
    "# It looks like none of our features contain missing data."
   ]
  },
  {
   "cell_type": "code",
   "execution_count": 9,
   "id": "76e5a361",
   "metadata": {},
   "outputs": [
    {
     "data": {
      "text/plain": [
       "0"
      ]
     },
     "execution_count": 9,
     "metadata": {},
     "output_type": "execute_result"
    }
   ],
   "source": [
    "# Identifying Duplicate Records\n",
    "\n",
    "rawData.duplicated().sum()\n",
    "\n",
    "# It appears that we do not have any duplicate records in this dataset either."
   ]
  },
  {
   "cell_type": "code",
   "execution_count": 10,
   "id": "f0bbfc6c",
   "metadata": {},
   "outputs": [
    {
     "name": "stdout",
     "output_type": "stream",
     "text": [
      "<class 'pandas.core.frame.DataFrame'>\n",
      "RangeIndex: 8124 entries, 0 to 8123\n",
      "Data columns (total 23 columns):\n",
      " #   Column                    Non-Null Count  Dtype \n",
      "---  ------                    --------------  ----- \n",
      " 0   class                     8124 non-null   object\n",
      " 1   cap-shape                 8124 non-null   object\n",
      " 2   cap-surface               8124 non-null   object\n",
      " 3   cap-color                 8124 non-null   object\n",
      " 4   bruises                   8124 non-null   object\n",
      " 5   odor                      8124 non-null   object\n",
      " 6   gill-attachment           8124 non-null   object\n",
      " 7   gill-spacing              8124 non-null   object\n",
      " 8   gill-size                 8124 non-null   object\n",
      " 9   gill-color                8124 non-null   object\n",
      " 10  stalk-shape               8124 non-null   object\n",
      " 11  stalk-root                8124 non-null   object\n",
      " 12  stalk-surface-above-ring  8124 non-null   object\n",
      " 13  stalk-surface-below-ring  8124 non-null   object\n",
      " 14  stalk-color-above-ring    8124 non-null   object\n",
      " 15  stalk-color-below-ring    8124 non-null   object\n",
      " 16  veil-type                 8124 non-null   object\n",
      " 17  veil-color                8124 non-null   object\n",
      " 18  ring-number               8124 non-null   object\n",
      " 19  ring-type                 8124 non-null   object\n",
      " 20  spore-print-color         8124 non-null   object\n",
      " 21  population                8124 non-null   object\n",
      " 22  habitat                   8124 non-null   object\n",
      "dtypes: object(23)\n",
      "memory usage: 1.4+ MB\n"
     ]
    }
   ],
   "source": [
    "# A nice method call that displays column names, indirect null counts, and feature data types\n",
    "\n",
    "rawData.info()"
   ]
  },
  {
   "cell_type": "markdown",
   "id": "cea379d9",
   "metadata": {},
   "source": [
    "## Data Cleaning"
   ]
  },
  {
   "cell_type": "code",
   "execution_count": 11,
   "id": "aee1b40f",
   "metadata": {},
   "outputs": [],
   "source": [
    "# We saw above that our dataset has...\n",
    "    # No missing values\n",
    "    # No duplicate records\n",
    "    # Appropriate feature datatypes\n",
    "\n",
    "# The last consideration we need to make is whether any features contain typos (multiple strings being used to refer to the\n",
    "# same category). We will check each feature for this now."
   ]
  },
  {
   "cell_type": "code",
   "execution_count": 12,
   "id": "76b6b7e8",
   "metadata": {},
   "outputs": [
    {
     "name": "stdout",
     "output_type": "stream",
     "text": [
      "Feature\t| Unique Values\n",
      "\n",
      "class\t['e', 'p']\n",
      "cap-shape\t['b', 'c', 'f', 'k', 's', 'x']\n",
      "cap-surface\t['f', 'g', 's', 'y']\n",
      "cap-color\t['b', 'c', 'e', 'g', 'n', 'p', 'r', 'u', 'w', 'y']\n",
      "bruises\t['f', 't']\n",
      "odor\t['a', 'c', 'f', 'l', 'm', 'n', 'p', 's', 'y']\n",
      "gill-attachment\t['a', 'f']\n",
      "gill-spacing\t['c', 'w']\n",
      "gill-size\t['b', 'n']\n",
      "gill-color\t['b', 'e', 'g', 'h', 'k', 'n', 'o', 'p', 'r', 'u', 'w', 'y']\n",
      "stalk-shape\t['e', 't']\n",
      "stalk-root\t['?', 'b', 'c', 'e', 'r']\n",
      "stalk-surface-above-ring\t['f', 'k', 's', 'y']\n",
      "stalk-surface-below-ring\t['f', 'k', 's', 'y']\n",
      "stalk-color-above-ring\t['b', 'c', 'e', 'g', 'n', 'o', 'p', 'w', 'y']\n",
      "stalk-color-below-ring\t['b', 'c', 'e', 'g', 'n', 'o', 'p', 'w', 'y']\n",
      "veil-type\t['p']\n",
      "veil-color\t['n', 'o', 'w', 'y']\n",
      "ring-number\t['n', 'o', 't']\n",
      "ring-type\t['e', 'f', 'l', 'n', 'p']\n",
      "spore-print-color\t['b', 'h', 'k', 'n', 'o', 'r', 'u', 'w', 'y']\n",
      "population\t['a', 'c', 'n', 's', 'v', 'y']\n",
      "habitat\t['d', 'g', 'l', 'm', 'p', 'u', 'w']\n"
     ]
    }
   ],
   "source": [
    "print(\"Feature\\t| Unique Values\\n\")\n",
    "for column in rawData.columns:\n",
    "    print(f\"{column}\\t{sorted(rawData[column].unique())}\")\n",
    "    \n",
    "# There does not appear to be any typos when comparing this list of values with the Attribute Information of the source."
   ]
  },
  {
   "cell_type": "markdown",
   "id": "63793d38",
   "metadata": {},
   "source": [
    "## Exploratory Data Analysis"
   ]
  },
  {
   "cell_type": "markdown",
   "id": "6aa74204",
   "metadata": {},
   "source": [
    "As this data is completely categorical and non-numeric, in our EDA process we are going to visualize the distribution of each class within our dataset as a whole and in relation to our target feature ('class').  \n",
    "\n",
    "Our goals in this process are:\n",
    "1. understand the distribution and balance of values within each feature\n",
    "2. gain insight on the distribution of our target variable within each feature\n",
    "\n",
    "Generally speaking, we want to avoid imbalance in the total counts of values within each feature (this is very important for our target feature but is also beneficial for independent features to generalize well with unseen data). However, it can be beneficial to have an imbalance in our class feature within each value of our independent features. This means some values in each feature have high amounts of one class over others. This occurence might point us to indicative attributes of our records (in this case attributes of mushrooms) that can help correctly differentiate their 'class' (whether they are poisonous or not).\n",
    "\n",
    "Miscellaneous goals within this EDA process also include:\n",
    "1. identifying potential outliers\n",
    "2. feature selection or need for additional data cleaning (insignificant features can be dropped to improve compute time)"
   ]
  },
  {
   "cell_type": "markdown",
   "id": "3932c66e",
   "metadata": {},
   "source": [
    "### EDA Helper Functions"
   ]
  },
  {
   "cell_type": "code",
   "execution_count": 13,
   "id": "126eaec4",
   "metadata": {},
   "outputs": [],
   "source": [
    "'''Given a feature, visualize the counts of each value within and the breakdown of \"class\" for each value'''\n",
    "\n",
    "def visualizeCounts(columnName):\n",
    "    plt.figure(figsize=(12,6))\n",
    "\n",
    "    plt.subplot(1,2,1)\n",
    "    sns.countplot(x=rawData[columnName])\n",
    "    plt.title(f\"Count Plot of '{columnName}'\")\n",
    "    \n",
    "    plt.subplot(1,2,2)\n",
    "    sns.countplot(data=rawData, x=columnName, hue='class')\n",
    "    plt.title(f\"Distribution of 'Class' within '{columnName}'\")\n",
    "    plt.legend(title='class', loc=('upper left'), bbox_to_anchor=(1,1))\n",
    "\n",
    "    plt.show()"
   ]
  },
  {
   "cell_type": "code",
   "execution_count": 14,
   "id": "b3342599",
   "metadata": {},
   "outputs": [],
   "source": [
    "'''Display the percentages of each unique value within a given feature'''\n",
    "\n",
    "def valuePercentages(columnName):\n",
    "    print(f\"{columnName} | Percentage\")\n",
    "    print( round(rawData[columnName].value_counts() / rawData.shape[0] * 100, 2))"
   ]
  },
  {
   "cell_type": "code",
   "execution_count": 15,
   "id": "52c613d6",
   "metadata": {},
   "outputs": [],
   "source": [
    "'''Display the percentages of \"class\" within a given feature'''\n",
    "\n",
    "def classPercentages(columnName):\n",
    "    \n",
    "    def calculatePercentage(row):\n",
    "        return round(row[0] / valueCounts[row[columnName]] * 100,2)\n",
    "    \n",
    "    valueCounts = rawData[columnName].value_counts()\n",
    "    \n",
    "    tempPercentages = rawData[[columnName,'class']].groupby([columnName,'class']).agg(len).reset_index().copy(deep=True)\n",
    "    tempPercentages[0] = tempPercentages.apply(calculatePercentage, axis=1)\n",
    "    tempPercentages.set_index(columnName, inplace=True)\n",
    "    tempPercentages.rename({0:'%'},axis=1, inplace=True)\n",
    "    \n",
    "    print(tempPercentages)"
   ]
  },
  {
   "cell_type": "markdown",
   "id": "ee897040",
   "metadata": {},
   "source": [
    "### 'Class' (our Target)"
   ]
  },
  {
   "cell_type": "code",
   "execution_count": 16,
   "id": "39de77e0",
   "metadata": {},
   "outputs": [
    {
     "data": {
      "image/png": "[encoded data removed]",
      "text/plain": [
       "<Figure size 432x288 with 1 Axes>"
      ]
     },
     "metadata": {
      "needs_background": "light"
     },
     "output_type": "display_data"
    }
   ],
   "source": [
    "# 'Class' (our Target Feature)\n",
    "\n",
    "sns.countplot(x=rawData['class'])\n",
    "plt.title('Count Plot of \"Class\"')\n",
    "plt.show()\n",
    "\n",
    "# We can see that both distinct values in the 'class' feature have roughly the same count.\n",
    "# This is good because if our target feature was unbalanced and had a large majority of one value over another,\n",
    "# our Classification models could just identify most/all records as that majority value giving us a high accuracy\n",
    "# but largely misclassifying records of the other category.\n",
    "\n",
    "# Example, if our dataset had 99% dogs and 1% cats, our model could label everything as a dog and achieve 99% accuracy.\n",
    "# However, it would be terrible at correctly identifying cats!"
   ]
  },
  {
   "cell_type": "code",
   "execution_count": 17,
   "id": "d359fbee",
   "metadata": {},
   "outputs": [
    {
     "name": "stdout",
     "output_type": "stream",
     "text": [
      "Class | Percentage\n"
     ]
    },
    {
     "data": {
      "text/plain": [
       "e    51.8\n",
       "p    48.2\n",
       "Name: class, dtype: float64"
      ]
     },
     "execution_count": 17,
     "metadata": {},
     "output_type": "execute_result"
    }
   ],
   "source": [
    "# Let's express the counts from above as percentages\n",
    "\n",
    "print('Class | Percentage')\n",
    "round(rawData['class'].value_counts() / rawData.shape[0] *100,2)\n",
    "\n",
    "# There are slightly more edible mushrooms in our dataset than poisonous but these values can still be considered \"balanced\"\n",
    "# since the minority class ('p') has a percentage > 40%."
   ]
  },
  {
   "cell_type": "markdown",
   "id": "4cf7ccda",
   "metadata": {},
   "source": [
    "### Cap Shape"
   ]
  },
  {
   "cell_type": "code",
   "execution_count": 18,
   "id": "85cdaef3",
   "metadata": {},
   "outputs": [
    {
     "data": {
      "image/png": "[encoded data removed]",
      "text/plain": [
       "<Figure size 864x432 with 2 Axes>"
      ]
     },
     "metadata": {
      "needs_background": "light"
     },
     "output_type": "display_data"
    }
   ],
   "source": [
    "# 'Cap Shape'\n",
    "\n",
    "visualizeCounts('cap-shape')\n",
    "\n",
    "# LEFT FIGURE:\n",
    "# This feature appears quite unbalanced with very large counts for cap shapes of 'x' and 'f' with very few for cap shapes\n",
    "# of 's' and 'c'.\n",
    "\n",
    "# RIGHT FIGURE:\n",
    "# Here, we are looking for large differences in counts WITHIN each distinct cap shape. We can see a relatively significant\n",
    "# difference in counts for poisonous and edible mushrooms when cap shapes are 'b' (possible 'x' and 'k' as well).\n",
    "# It is hard to visually discern significant differences in cap shapes of 's' and 'c' due to their small total counts."
   ]
  },
  {
   "cell_type": "code",
   "execution_count": 19,
   "id": "bb7ab619",
   "metadata": {},
   "outputs": [
    {
     "name": "stdout",
     "output_type": "stream",
     "text": [
      "cap-shape | Percentage\n",
      "x    45.00\n",
      "f    38.80\n",
      "k    10.19\n",
      "b     5.56\n",
      "s     0.39\n",
      "c     0.05\n",
      "Name: cap-shape, dtype: float64\n"
     ]
    }
   ],
   "source": [
    "# Let's take a quick look at the value counts for Cap Shape\n",
    "\n",
    "valuePercentages('cap-shape')\n",
    "\n",
    "# It looks like the minority features of sunken and conical cap shapes make up less than 1% of our data.\n",
    "# Therefore, this feature has EXTREME imbalance."
   ]
  },
  {
   "cell_type": "code",
   "execution_count": 20,
   "id": "15313d43",
   "metadata": {},
   "outputs": [
    {
     "name": "stdout",
     "output_type": "stream",
     "text": [
      "          class       %\n",
      "cap-shape              \n",
      "b             e   89.38\n",
      "b             p   10.62\n",
      "c             p  100.00\n",
      "f             e   50.63\n",
      "f             p   49.37\n",
      "k             e   27.54\n",
      "k             p   72.46\n",
      "s             e  100.00\n",
      "x             e   53.28\n",
      "x             p   46.72\n"
     ]
    }
   ],
   "source": [
    "# Let's also look at the concentration of 'class' within each cap-shape\n",
    "\n",
    "classPercentages('cap-shape')\n",
    "\n",
    "# BALANCED (minority % > 40): 'f', 'x'\n",
    "# MILD IMBALANCE (minority % between 20 and 40): 'k'\n",
    "# MODERATE IMBALANCE (minority % between 1 and 20): 'b', \n",
    "# EXTREME IMBALANCE (minority % < 1): 'c', 's'\n",
    "\n",
    "# Both of our majority values identified above, 'x' and 'f' are balanced.\n",
    "# Cap shapes of 'k' and 'b' are mildly to moderately imbalanced so they might be useful in identifying poison mushrooms.\n",
    "# Suprisingly, the two minority values in 's' and 'c' have 100% class concentration. All mushrooms with 'c' cap shapes\n",
    "    # are POISONOUS while all mushrooms with 's' cap shapes are EDIBLE. However, we saw above that the total counts\n",
    "    # for both values are extremely small, we can't say for certain that this isn't a result of a small sample size."
   ]
  },
  {
   "cell_type": "markdown",
   "id": "e08897ff",
   "metadata": {},
   "source": [
    "### Cap Surface"
   ]
  },
  {
   "cell_type": "code",
   "execution_count": 21,
   "id": "4d5e98ee",
   "metadata": {},
   "outputs": [
    {
     "data": {
      "image/png": "[encoded data removed]",
      "text/plain": [
       "<Figure size 864x432 with 2 Axes>"
      ]
     },
     "metadata": {
      "needs_background": "light"
     },
     "output_type": "display_data"
    }
   ],
   "source": [
    "# 'Cap Surface'\n",
    "\n",
    "visualizeCounts('cap-surface')\n",
    "\n",
    "# LEFT FIGURE:\n",
    "# It appears most of the values are relatively balanced (or slightly imbalanced) with the\n",
    "# exception of cap surface 'g' which is a very significant minority.\n",
    "\n",
    "# RIGHT FIGURE:\n",
    "# Cap surfaces of 's' and 'y' seem to be relatively balanced in relation to class breakdown\n",
    "# but 'f' looks to be more imbalanced. It is hard to identify an insight for 'g' with this\n",
    "# visualization."
   ]
  },
  {
   "cell_type": "code",
   "execution_count": 22,
   "id": "eb35bdbb",
   "metadata": {},
   "outputs": [
    {
     "name": "stdout",
     "output_type": "stream",
     "text": [
      "cap-surface | Percentage\n",
      "y    39.93\n",
      "s    31.46\n",
      "f    28.56\n",
      "g     0.05\n",
      "Name: cap-surface, dtype: float64\n"
     ]
    }
   ],
   "source": [
    "# Comparing the value counts (in relative percentage) for Cap Surface\n",
    "\n",
    "valuePercentages('cap-surface')\n",
    "\n",
    "# As we thought, the top three frequent values are relatively balanced (within ~10% count)\n",
    "# but 'g' is a significant minority. In the current state this feature illustrates EXTREME\n",
    "# imbalance (the minority category has < 1% total percentage)."
   ]
  },
  {
   "cell_type": "code",
   "execution_count": 23,
   "id": "ccdc4448",
   "metadata": {},
   "outputs": [
    {
     "name": "stdout",
     "output_type": "stream",
     "text": [
      "            class       %\n",
      "cap-surface              \n",
      "f               e   67.24\n",
      "f               p   32.76\n",
      "g               p  100.00\n",
      "s               e   44.76\n",
      "s               p   55.24\n",
      "y               e   46.36\n",
      "y               p   53.64\n"
     ]
    }
   ],
   "source": [
    "# Percentage of 'class' in each cap-surface\n",
    "\n",
    "classPercentages('cap-surface')\n",
    "\n",
    "# BALANCED: 's', 'y'\n",
    "# MILD IMBALANCE: 'f'\n",
    "# MODERATE IMBALANCE: N/A\n",
    "# EXTREME IMBALANCE: 'g'\n",
    "\n",
    "# Similar to the trend of the previous feature, the values with the highest counts are relatively\n",
    "# balanced. The 'g' cap surface has 100% concentration of poisonous mushrooms however, as we \n",
    "# saw above, it makes up so little of our dataset that it could be an issue of sample size.\n",
    "\n",
    "# To note, the cap surface of 'f' has a decent count and is mildly imbalanced relating to 'class'\n",
    "# so this might be a beneficial indicator for predicting a mushroom as being poisonous or not."
   ]
  },
  {
   "cell_type": "markdown",
   "id": "5937cc4a",
   "metadata": {},
   "source": [
    "### Cap Color"
   ]
  },
  {
   "cell_type": "code",
   "execution_count": 24,
   "id": "f172e3c7",
   "metadata": {},
   "outputs": [
    {
     "data": {
      "image/png": "[encoded data removed]",
      "text/plain": [
       "<Figure size 864x432 with 2 Axes>"
      ]
     },
     "metadata": {
      "needs_background": "light"
     },
     "output_type": "display_data"
    }
   ],
   "source": [
    "# 'Cap Color'\n",
    "\n",
    "visualizeCounts('cap-color')\n",
    "\n",
    "# LEFT FIGURE:\n",
    "# We can see clear imbalance. 5 distinct values have medium to high counts while the other 5\n",
    "# have significantly lower counts.\n",
    "\n",
    "# RIGHT FIGURE:\n",
    "# We can't clearly quantify the class balance of most features from this visualization however,\n",
    "# it appears that 'y' and 'w' has slightly more imbalance than the other values."
   ]
  },
  {
   "cell_type": "code",
   "execution_count": 25,
   "id": "32bcb56a",
   "metadata": {},
   "outputs": [
    {
     "name": "stdout",
     "output_type": "stream",
     "text": [
      "cap-color | Percentage\n",
      "n    28.11\n",
      "g    22.65\n",
      "e    18.46\n",
      "y    13.20\n",
      "w    12.80\n",
      "b     2.07\n",
      "p     1.77\n",
      "c     0.54\n",
      "u     0.20\n",
      "r     0.20\n",
      "Name: cap-color, dtype: float64\n"
     ]
    }
   ],
   "source": [
    "# Quantifying the total counts of values within Cap Color\n",
    "\n",
    "valuePercentages('cap-color')\n",
    "\n",
    "# As the minority values of 'u' and 'r' have total count percentages <1%, this feature has\n",
    "# EXTREME imbalance.\n",
    "\n",
    "# The 5 least frequent values make up < 5% of our total dataset."
   ]
  },
  {
   "cell_type": "code",
   "execution_count": 26,
   "id": "faefa651",
   "metadata": {},
   "outputs": [
    {
     "name": "stdout",
     "output_type": "stream",
     "text": [
      "          class       %\n",
      "cap-color              \n",
      "b             e   28.57\n",
      "b             p   71.43\n",
      "c             e   72.73\n",
      "c             p   27.27\n",
      "e             e   41.60\n",
      "e             p   58.40\n",
      "g             e   56.09\n",
      "g             p   43.91\n",
      "n             e   55.34\n",
      "n             p   44.66\n",
      "p             e   38.89\n",
      "p             p   61.11\n",
      "r             e  100.00\n",
      "u             e  100.00\n",
      "w             e   69.23\n",
      "w             p   30.77\n",
      "y             e   37.31\n",
      "y             p   62.69\n"
     ]
    }
   ],
   "source": [
    "# Breakdown of 'class' within Cap Color\n",
    "\n",
    "classPercentages('cap-color')\n",
    "\n",
    "# BALANCED: 'e', 'g', 'n'\n",
    "# MILD IMBALANCE: 'b', 'c', 'p', 'w', 'y'\n",
    "# MODERATE IMBALANCE: N/A\n",
    "# EXTREME IMBALANCE: 'r', 'u'\n",
    "\n",
    "# In our relatively frequent values from above, the values of 'w' and 'y' are also imbalanced\n",
    "# so they might be useful for determining the 'class' of a mushroom.\n",
    "# As expected from the previous trend, the values with extreme imbalance are very small minorities\n",
    "# in terms of overall counts and have 100% class concentration so it is possibly an issue of\n",
    "# sample size."
   ]
  },
  {
   "cell_type": "markdown",
   "id": "8264bcff",
   "metadata": {},
   "source": [
    "### Bruises"
   ]
  },
  {
   "cell_type": "code",
   "execution_count": 27,
   "id": "1078c3b2",
   "metadata": {},
   "outputs": [
    {
     "data": {
      "image/png": "[encoded data removed]",
      "text/plain": [
       "<Figure size 864x432 with 2 Axes>"
      ]
     },
     "metadata": {
      "needs_background": "light"
     },
     "output_type": "display_data"
    }
   ],
   "source": [
    "# 'Bruises'\n",
    "\n",
    "visualizeCounts('bruises')\n",
    "\n",
    "# LEFT FIGURE:\n",
    "# The two values in this feature seem to be relatively balanced (or perhaps barely imbalanced).\n",
    "\n",
    "# RIGHT FIGURE:\n",
    "# Surprisingly, both distinct values in this feature seem to have imbalance in relation to 'class'\n",
    "# concentration. We'll quantify this shortly but this could turn out to be a useful find."
   ]
  },
  {
   "cell_type": "code",
   "execution_count": 28,
   "id": "dd404310",
   "metadata": {},
   "outputs": [
    {
     "name": "stdout",
     "output_type": "stream",
     "text": [
      "bruises | Percentage\n",
      "f    58.44\n",
      "t    41.56\n",
      "Name: bruises, dtype: float64\n"
     ]
    }
   ],
   "source": [
    "# Quantifying count percentage per value in Bruises\n",
    "\n",
    "valuePercentages('bruises')\n",
    "\n",
    "# Since the minority category of 't' has a percenage >40%, this feature can be considered BALANCED."
   ]
  },
  {
   "cell_type": "code",
   "execution_count": 29,
   "id": "8a6e1696",
   "metadata": {},
   "outputs": [
    {
     "name": "stdout",
     "output_type": "stream",
     "text": [
      "        class      %\n",
      "bruises             \n",
      "f           e  30.67\n",
      "f           p  69.33\n",
      "t           e  81.52\n",
      "t           p  18.48\n"
     ]
    }
   ],
   "source": [
    "# Breakdown of 'class' within each value of Bruises\n",
    "\n",
    "classPercentages('bruises')\n",
    "\n",
    "# BALANCED: N/A\n",
    "# MILD IMBALANCE: 'f'\n",
    "# MODERATE IMBALANCE: 't'\n",
    "# EXTREME IMBALANCE: N/A\n",
    "\n",
    "# Both distinct values are imbalanced relative to 'class' concentration. Mushrooms with bruises are predominantly\n",
    "# edible while mushrooms without bruises are predominantly poisonous. Since the distinct bruises categories have\n",
    "# opposite class majorities, this feature will probably be beneficial for correctly predicting the class of mushrooms."
   ]
  },
  {
   "cell_type": "markdown",
   "id": "aa807dd2",
   "metadata": {},
   "source": [
    "### Odor"
   ]
  },
  {
   "cell_type": "code",
   "execution_count": 30,
   "id": "26bc1ebe",
   "metadata": {},
   "outputs": [
    {
     "data": {
      "image/png": "[encoded data removed]",
      "text/plain": [
       "<Figure size 864x432 with 2 Axes>"
      ]
     },
     "metadata": {
      "needs_background": "light"
     },
     "output_type": "display_data"
    }
   ],
   "source": [
    "# 'Odor'\n",
    "\n",
    "visualizeCounts('odor')\n",
    "\n",
    "# LEFT FIGURE:\n",
    "# We can see clear imbalance in this feature. There counts of 'n' and 'f' odors are much larger compared to the other\n",
    "# categories such as 'p', 'c', and 'm'.\n",
    "\n",
    "# RIGHT FIGURE:\n",
    "# There appears to be significant class imbalance in most of the odor categories. Odors of 'n' and 'f' will probably\n",
    "# be the best for our models as they have high counts and high imbalance but we need to see if there is 100% class\n",
    "# concentrations in many categorie as the minority class bars are hard to see."
   ]
  },
  {
   "cell_type": "code",
   "execution_count": 31,
   "id": "a3b01512",
   "metadata": {},
   "outputs": [
    {
     "name": "stdout",
     "output_type": "stream",
     "text": [
      "odor | Percentage\n",
      "n    43.43\n",
      "f    26.59\n",
      "y     7.09\n",
      "s     7.09\n",
      "a     4.92\n",
      "l     4.92\n",
      "p     3.15\n",
      "c     2.36\n",
      "m     0.44\n",
      "Name: odor, dtype: float64\n"
     ]
    }
   ],
   "source": [
    "# Quantifying count percentage for distinct values in Odor\n",
    "\n",
    "valuePercentages('odor')\n",
    "\n",
    "# Since the minority category of 'm' is < 1% of the total count, this feature has EXTREME IMBALANCE.\n",
    "# It seems the two most frequent values of 'n' and 'f' make up roughly 65% of the total counts leaving the other 35%\n",
    "# for the other 7 categories!"
   ]
  },
  {
   "cell_type": "code",
   "execution_count": 32,
   "id": "a6e2b77c",
   "metadata": {},
   "outputs": [
    {
     "name": "stdout",
     "output_type": "stream",
     "text": [
      "     class      %\n",
      "odor             \n",
      "a        e  100.0\n",
      "c        p  100.0\n",
      "f        p  100.0\n",
      "l        e  100.0\n",
      "m        p  100.0\n",
      "n        e   96.6\n",
      "n        p    3.4\n",
      "p        p  100.0\n",
      "s        p  100.0\n",
      "y        p  100.0\n"
     ]
    }
   ],
   "source": [
    "# Breakdown of 'class' within each Odor category\n",
    "\n",
    "classPercentages('odor')\n",
    "\n",
    "# BALANCED: N/A\n",
    "# MILD IMBALANCE: N/A \n",
    "# MODERATE IMBALANCE: N/A \n",
    "# EXTREME IMBALANCE:  'a', 'c', 'f', 'l', 'm', 'n', 'p', 's', 'y'\n",
    "\n",
    "# Wow. It looks like all distinct categories in Odor are Extremely Imbalanced. As expected, most of the values that were\n",
    "# hard to quantify relative to minority concentrations have 100% class concentration.\n",
    "# It is unlikely that most of these odor values will lend predictive power as their counts are so low but as we mentioned\n",
    "# while viewing the histograms, 'n' and 'f' have relatively high counts and opposite class majorities so they might be\n",
    "# useful for correctly classifying mushrooms."
   ]
  },
  {
   "cell_type": "markdown",
   "id": "a0c58ad0",
   "metadata": {},
   "source": [
    "### Gill Attachment"
   ]
  },
  {
   "cell_type": "code",
   "execution_count": 33,
   "id": "5aac33b3",
   "metadata": {},
   "outputs": [
    {
     "data": {
      "image/png": "[encoded data removed]",
      "text/plain": [
       "<Figure size 864x432 with 2 Axes>"
      ]
     },
     "metadata": {
      "needs_background": "light"
     },
     "output_type": "display_data"
    }
   ],
   "source": [
    "# 'Gill Attachment'\n",
    "\n",
    "visualizeCounts('gill-attachment')\n",
    "\n",
    "# LEFT FIGURE:\n",
    "# Visually, this feature appears extremely imbalanced. Most mushrooms have gill-attachment values of 'f' compared to 'a'.\n",
    "\n",
    "# RIGHT FIGURE:\n",
    "# It appears the 'f' category is relatively balanced. It is hard to quantify the 'class' balance of 'a' but it is probably\n",
    "# imbalanced."
   ]
  },
  {
   "cell_type": "code",
   "execution_count": 34,
   "id": "e40a0b82",
   "metadata": {},
   "outputs": [
    {
     "name": "stdout",
     "output_type": "stream",
     "text": [
      "gill-attachment | Percentage\n",
      "f    97.42\n",
      "a     2.58\n",
      "Name: gill-attachment, dtype: float64\n"
     ]
    }
   ],
   "source": [
    "# Quantifying counts of values in 'Gill Attachment'\n",
    "\n",
    "valuePercentages('gill-attachment')\n",
    "\n",
    "# Since the minority category of 'a' has a count percentage between 1% and 20%, this feature has MODERATE IMBALANCE."
   ]
  },
  {
   "cell_type": "code",
   "execution_count": 35,
   "id": "18160b4e",
   "metadata": {},
   "outputs": [
    {
     "name": "stdout",
     "output_type": "stream",
     "text": [
      "                class      %\n",
      "gill-attachment             \n",
      "a                   e  91.43\n",
      "a                   p   8.57\n",
      "f                   e  50.75\n",
      "f                   p  49.25\n"
     ]
    }
   ],
   "source": [
    "# 'Class' breakdown per value in 'Gill Attachment'\n",
    "\n",
    "classPercentages('gill-attachment')\n",
    "\n",
    "# BALANCED: 'f'\n",
    "# MILD IMBALANCE: N/A\n",
    "# MODERATE IMBALANCE: 'a'\n",
    "# EXTREME IMBALANCE: N/A\n",
    "\n",
    "# As we expected, 'f' is considered balanced relative to 'class'. Since it also makes up the large majority of values\n",
    "# in the gill-attachment feature, this feature will probably not be very useful for correct mushroom classification.\n",
    "# The 'a' category has moderate imbalance but it is possibly a result of small sample size. It may be predictive though."
   ]
  },
  {
   "cell_type": "markdown",
   "id": "25a2da5a",
   "metadata": {},
   "source": [
    "### Gill Spacing"
   ]
  },
  {
   "cell_type": "code",
   "execution_count": 36,
   "id": "8bf9c82a",
   "metadata": {},
   "outputs": [
    {
     "data": {
      "image/png": "[encoded data removed]",
      "text/plain": [
       "<Figure size 864x432 with 2 Axes>"
      ]
     },
     "metadata": {
      "needs_background": "light"
     },
     "output_type": "display_data"
    }
   ],
   "source": [
    "# 'Gill Spacing'\n",
    "\n",
    "visualizeCounts('gill-spacing')\n",
    "\n",
    "# LEFT FIGURE:\n",
    "# This feature appears moderately imbalanced with a majority of 'c' values and minority of 'w' values.\n",
    "\n",
    "# RIGHT FIGURE:\n",
    "# The 'c' category appears relatively balanced relative to 'class' breakdown but 'w' appears moderate-extremely imbalanced."
   ]
  },
  {
   "cell_type": "code",
   "execution_count": 37,
   "id": "3bc4e984",
   "metadata": {},
   "outputs": [
    {
     "name": "stdout",
     "output_type": "stream",
     "text": [
      "gill-spacing | Percentage\n",
      "c    83.85\n",
      "w    16.15\n",
      "Name: gill-spacing, dtype: float64\n"
     ]
    }
   ],
   "source": [
    "# Quantifying counts of values in 'Gill Spacing'\n",
    "\n",
    "valuePercentages('gill-spacing')\n",
    "\n",
    "# Since the minority value 'w' has a count percentage >1% and <20%, this feature has MODERATE IMBALANCE."
   ]
  },
  {
   "cell_type": "code",
   "execution_count": 38,
   "id": "63199b17",
   "metadata": {},
   "outputs": [
    {
     "name": "stdout",
     "output_type": "stream",
     "text": [
      "             class      %\n",
      "gill-spacing             \n",
      "c                e  44.16\n",
      "c                p  55.84\n",
      "w                e  91.46\n",
      "w                p   8.54\n"
     ]
    }
   ],
   "source": [
    "# Class breakdown per value in 'Gill Spacing'\n",
    "\n",
    "classPercentages('gill-spacing')\n",
    "\n",
    "# BALANCED: 'c'\n",
    "# MILD IMBALANCE: N/A\n",
    "# MODERATE IMBALANCE: 'w'\n",
    "# EXTREME IMBALANCE: N/A\n",
    "\n",
    "# The count majority category of 'c' is balanced but the minority category of 'w' has moderate imbalance. As the count\n",
    "# percentage of 'w' is nearly 1/5 of the total values in the feature, mushrooms with this value for 'gill spacing' might\n",
    "# be useful for correctly classifying mushrooms but this is probably not the case for those with values of 'c'."
   ]
  },
  {
   "cell_type": "markdown",
   "id": "ca91ff96",
   "metadata": {},
   "source": [
    "### Gill Size"
   ]
  },
  {
   "cell_type": "code",
   "execution_count": 39,
   "id": "1befa090",
   "metadata": {},
   "outputs": [
    {
     "data": {
      "image/png": "[encoded data removed]",
      "text/plain": [
       "<Figure size 864x432 with 2 Axes>"
      ]
     },
     "metadata": {
      "needs_background": "light"
     },
     "output_type": "display_data"
    }
   ],
   "source": [
    "# 'Gill Size'\n",
    "\n",
    "visualizeCounts('gill-size')\n",
    "\n",
    "# LEFT FIGURE:\n",
    "# This features appears mild-moderately imbalanced with a majority of 'b' values and minority of 'n' values.\n",
    "\n",
    "# RIGHT FIGURE:\n",
    "# Both distinct 'gill size' categories appear imbalanced relative to 'class' breakdown. Furthermore, 'n' has a majority of\n",
    "# poisonous mushrooms while 'b' has a majority of edible mushrooms. This shows potential for predictive significance."
   ]
  },
  {
   "cell_type": "code",
   "execution_count": 40,
   "id": "632362ca",
   "metadata": {},
   "outputs": [
    {
     "name": "stdout",
     "output_type": "stream",
     "text": [
      "gill-size | Percentage\n",
      "b    69.08\n",
      "n    30.92\n",
      "Name: gill-size, dtype: float64\n"
     ]
    }
   ],
   "source": [
    "# Quantifying counts for values in 'Gill Size'\n",
    "\n",
    "valuePercentages('gill-size')\n",
    "\n",
    "# Since the minority category 'n' has a count percentage between 20% and 40%, this feature has MILD IMBALANCE."
   ]
  },
  {
   "cell_type": "code",
   "execution_count": 41,
   "id": "4ceab1aa",
   "metadata": {},
   "outputs": [
    {
     "name": "stdout",
     "output_type": "stream",
     "text": [
      "          class      %\n",
      "gill-size             \n",
      "b             e  69.85\n",
      "b             p  30.15\n",
      "n             e  11.46\n",
      "n             p  88.54\n"
     ]
    }
   ],
   "source": [
    "# Class balance in each value of 'Gill Size'\n",
    "\n",
    "classPercentages('gill-size')\n",
    "\n",
    "# BALANCED: N/A\n",
    "# MILD IMBALANCE: 'b'\n",
    "# MODERATE IMBALANCE: 'n'\n",
    "# EXTREME IMBALANCE: N/A\n",
    "\n",
    "# Both categories of 'gill size' have imbalance relative to 'class'. This is a good sign as there isn't a significant\n",
    "# imbalance in the counts of the categories meaning the 'class' imabalance is likely not an issue of sample size.\n",
    "# This feature will likely be beneficial for correct mushroom classification."
   ]
  },
  {
   "cell_type": "markdown",
   "id": "cb9babe5",
   "metadata": {},
   "source": [
    "### Gill Color"
   ]
  },
  {
   "cell_type": "code",
   "execution_count": 42,
   "id": "6f0bb030",
   "metadata": {},
   "outputs": [
    {
     "data": {
      "image/png": "[encoded data removed]",
      "text/plain": [
       "<Figure size 864x432 with 2 Axes>"
      ]
     },
     "metadata": {
      "needs_background": "light"
     },
     "output_type": "display_data"
    }
   ],
   "source": [
    "# 'Gill Color'\n",
    "\n",
    "visualizeCounts('gill-color')\n",
    "\n",
    "# LEFT FIGURE:\n",
    "# We can see there are many distinct values in this feature. While there is extreme imbalance relative to the majority\n",
    "# and minority categories, most of the distinct values in this feature have count percentages within an acceptable range.\n",
    "# Most of the feature is balanced with the exception of 4 to 5 categories.\n",
    "\n",
    "# RIGHT FIGURE:\n",
    "# It is hard to quantify the significance of imbalance in 'e', 'b', 'r', and 'o', but the categories to the left of the\n",
    "# plot have decent counts and some imbalance. A few of those categories may lend predictive power."
   ]
  },
  {
   "cell_type": "code",
   "execution_count": 43,
   "id": "152b2266",
   "metadata": {},
   "outputs": [
    {
     "name": "stdout",
     "output_type": "stream",
     "text": [
      "gill-color | Percentage\n",
      "b    21.27\n",
      "p    18.37\n",
      "w    14.80\n",
      "n    12.90\n",
      "g     9.26\n",
      "h     9.01\n",
      "u     6.06\n",
      "k     5.02\n",
      "e     1.18\n",
      "y     1.06\n",
      "o     0.79\n",
      "r     0.30\n",
      "Name: gill-color, dtype: float64\n"
     ]
    }
   ],
   "source": [
    "# Quantifying counts for values in 'Gill Color'\n",
    "\n",
    "valuePercentages('gill-color')\n",
    "\n",
    "# Since the minority category of 'r' has a count percentage <1%, this feature has EXTREME IMBALANCE.\n",
    "# However, the most frequent 6 categories have count percentages close to 10-20% of the total so they may be useful."
   ]
  },
  {
   "cell_type": "code",
   "execution_count": 44,
   "id": "4b71d4e9",
   "metadata": {},
   "outputs": [
    {
     "name": "stdout",
     "output_type": "stream",
     "text": [
      "           class       %\n",
      "gill-color              \n",
      "b              p  100.00\n",
      "e              e  100.00\n",
      "g              e   32.98\n",
      "g              p   67.02\n",
      "h              e   27.87\n",
      "h              p   72.13\n",
      "k              e   84.31\n",
      "k              p   15.69\n",
      "n              e   89.31\n",
      "n              p   10.69\n",
      "o              e  100.00\n",
      "p              e   57.10\n",
      "p              p   42.90\n",
      "r              p  100.00\n",
      "u              e   90.24\n",
      "u              p    9.76\n",
      "w              e   79.53\n",
      "w              p   20.47\n",
      "y              e   74.42\n",
      "y              p   25.58\n"
     ]
    }
   ],
   "source": [
    "# 'Class' balance within values of 'Gill Color'\n",
    "\n",
    "classPercentages('gill-color')\n",
    "\n",
    "# BALANCED: 'p'\n",
    "# MILD IMBALANCE: 'g', 'h', 'w', 'y'\n",
    "# MODERATE IMBALANCE: 'k', 'n', 'u'\n",
    "# EXTREME IMBALANCE: 'b', 'e', 'o', 'r'\n",
    "\n",
    "# Categories with very low count percentages and high 'class' imbalance may result in false classification in our model\n",
    "# due to small sample sizes (e.g. 'e', 'o', 'r').\n",
    "# Categories with high counts and relative imbalance are probably the best for accurate mushroom classification. The values\n",
    "# of 'w' and 'n' satisfy these conditions."
   ]
  },
  {
   "cell_type": "markdown",
   "id": "69587cc7",
   "metadata": {},
   "source": [
    "### Stalk Shape"
   ]
  },
  {
   "cell_type": "code",
   "execution_count": 45,
   "id": "d9f27f70",
   "metadata": {},
   "outputs": [
    {
     "data": {
      "image/png": "[encoded data removed]",
      "text/plain": [
       "<Figure size 864x432 with 2 Axes>"
      ]
     },
     "metadata": {
      "needs_background": "light"
     },
     "output_type": "display_data"
    }
   ],
   "source": [
    "# 'Stalk Shape'\n",
    "\n",
    "visualizeCounts('stalk-shape')\n",
    "\n",
    "# lEFT FIGURE:\n",
    "# This feature appears relatively balance. There is a slight majority of 't' values.\n",
    "\n",
    "# RIGHT FIGURE:\n",
    "# Relative to 'class' balance within each category, the values in this feature appear relatively balanced once again."
   ]
  },
  {
   "cell_type": "code",
   "execution_count": 46,
   "id": "8064d11b",
   "metadata": {},
   "outputs": [
    {
     "name": "stdout",
     "output_type": "stream",
     "text": [
      "stalk-shape | Percentage\n",
      "t    56.72\n",
      "e    43.28\n",
      "Name: stalk-shape, dtype: float64\n"
     ]
    }
   ],
   "source": [
    "# Quantifying counts of values in 'Stalk Shape'\n",
    "\n",
    "valuePercentages('stalk-shape')\n",
    "\n",
    "# Since the minority category of 'e' has a count percentage >40%, this feature is BALANCED."
   ]
  },
  {
   "cell_type": "code",
   "execution_count": 47,
   "id": "b1bb6816",
   "metadata": {},
   "outputs": [
    {
     "name": "stdout",
     "output_type": "stream",
     "text": [
      "            class      %\n",
      "stalk-shape             \n",
      "e               e  45.96\n",
      "e               p  54.04\n",
      "t               e  56.25\n",
      "t               p  43.75\n"
     ]
    }
   ],
   "source": [
    "classPercentages('stalk-shape')\n",
    "\n",
    "# BALANCED: 'e', 't'\n",
    "# MILD IMBALANCE: N/A\n",
    "# MODERATE IMBALANCE: N/A\n",
    "# EXTREME IMBALANCE: N/A\n",
    "\n",
    "# Since all distinct categories in this feature are balanced relative to 'class', this feature probably won't be very\n",
    "# beneficial in properly classifying mushrooms."
   ]
  },
  {
   "cell_type": "markdown",
   "id": "c04ca38c",
   "metadata": {},
   "source": [
    "### Stalk Root"
   ]
  },
  {
   "cell_type": "code",
   "execution_count": 48,
   "id": "56c31022",
   "metadata": {},
   "outputs": [
    {
     "data": {
      "image/png": "[encoded data removed]",
      "text/plain": [
       "<Figure size 864x432 with 2 Axes>"
      ]
     },
     "metadata": {
      "needs_background": "light"
     },
     "output_type": "display_data"
    }
   ],
   "source": [
    "# 'Stalk Root'\n",
    "\n",
    "visualizeCounts('stalk-root')\n",
    "\n",
    "# lEFT FIGURE:\n",
    "# This feature appears pretty imbalanced. There is a large majority of 'b' values followed by '?' which was likely included\n",
    "# during data preparation to represent mushrooms with unknown 'stalk root'. \n",
    "\n",
    "# RIGHT FIGURE:\n",
    "# Our majority category of 'b' is balanced while the minority value 'r' likely has 100% class concentration leading to\n",
    "# its appearance of extreme imbalance. Categories of 'e' and 'c' have relatively significant imbalance so they might\n",
    "# be useful as they don't have terribly low counts either."
   ]
  },
  {
   "cell_type": "code",
   "execution_count": 49,
   "id": "023dbcc4",
   "metadata": {},
   "outputs": [
    {
     "name": "stdout",
     "output_type": "stream",
     "text": [
      "stalk-root | Percentage\n",
      "b    46.48\n",
      "?    30.53\n",
      "e    13.79\n",
      "c     6.84\n",
      "r     2.36\n",
      "Name: stalk-root, dtype: float64\n"
     ]
    }
   ],
   "source": [
    "# Quantifying counts of values in 'Stalk Root'\n",
    "\n",
    "valuePercentages('stalk-root')\n",
    "\n",
    "# Since the minority category 'r' has a count percentage between 1% and 20%, this feature has MODERATE IMBALANCE.\n",
    "# Roughly 1/3 of this feature has unknown values (marked as '?') and nearly half has the 'b' category which is likely\n",
    "# not predictive as it is balanced relative to 'class'. This is somewhat concerning."
   ]
  },
  {
   "cell_type": "code",
   "execution_count": 50,
   "id": "24b6ad76",
   "metadata": {},
   "outputs": [
    {
     "name": "stdout",
     "output_type": "stream",
     "text": [
      "           class       %\n",
      "stalk-root              \n",
      "?              e   29.03\n",
      "?              p   70.97\n",
      "b              e   50.85\n",
      "b              p   49.15\n",
      "c              e   92.09\n",
      "c              p    7.91\n",
      "e              e   77.14\n",
      "e              p   22.86\n",
      "r              e  100.00\n"
     ]
    }
   ],
   "source": [
    "# Breakdown of 'class' within values of 'Stalk Root'\n",
    "\n",
    "classPercentages('stalk-root')\n",
    "\n",
    "# BALANCED: 'b'\n",
    "# MILD IMBALANCE: '?', 'e' \n",
    "# MODERATE IMBALANCE: 'c' \n",
    "# EXTREME IMBALANCE: 'r'\n",
    "\n",
    "# As we expected, the 'r' category has 100% class concentration so this is likely an issue of sample size and may lead to\n",
    "# false classification. Out of the remaining categories that are not balanced nor unknown, 'e' has more than 10% count\n",
    "# percentage and is mildly imbalanced so it may be slightly predictive. The 'c' category has more imbalance but makes up\n",
    "# roughly 7% of this feature so there is a possibility of an issue of small sample size here."
   ]
  },
  {
   "cell_type": "markdown",
   "id": "5b895a4f",
   "metadata": {},
   "source": [
    "### Stalk Surface Above Ring"
   ]
  },
  {
   "cell_type": "code",
   "execution_count": 50,
   "id": "242b5a9d",
   "metadata": {},
   "outputs": [
    {
     "data": {
      "image/png": "[encoded data removed]",
      "text/plain": [
       "<Figure size 864x432 with 2 Axes>"
      ]
     },
     "metadata": {
      "needs_background": "light"
     },
     "output_type": "display_data"
    }
   ],
   "source": [
    "# 'Stalk Surface Above Ring'\n",
    "\n",
    "visualizeCounts('stalk-surface-above-ring')\n",
    "\n",
    "# lEFT FIGURE:\n",
    "# There is clear imbalance here. This feature is dominated by 's' values with very few 'f' and 'y' values. There is likely\n",
    "# extreme imbalance.\n",
    "\n",
    "# RIGHT FIGURE:\n",
    "# It appears that all categories of 'stalk surface above ring' have imbalance relative to 'class'. The two most frequent\n",
    "# categories, 's' and 'k' have opposite class majorities (which is good) so this feature might be beneficia for prediction\n",
    "# after all."
   ]
  },
  {
   "cell_type": "code",
   "execution_count": 51,
   "id": "5823dfc4",
   "metadata": {},
   "outputs": [
    {
     "name": "stdout",
     "output_type": "stream",
     "text": [
      "stalk-surface-above-ring | Percentage\n",
      "s    63.71\n",
      "k    29.20\n",
      "f     6.79\n",
      "y     0.30\n",
      "Name: stalk-surface-above-ring, dtype: float64\n"
     ]
    }
   ],
   "source": [
    "# Quantifying counts of values in 'Stalk Surface Above Ring'\n",
    "\n",
    "valuePercentages('stalk-surface-above-ring')\n",
    "\n",
    "# Since the minority category of 'y' has count percentage < 1%, this feature has EXTREME IMBALANCE.\n",
    "# The two most frequent categories of 's' and 'k' comprise over 90% of the total feature values."
   ]
  },
  {
   "cell_type": "code",
   "execution_count": 52,
   "id": "8f7870b1",
   "metadata": {},
   "outputs": [
    {
     "name": "stdout",
     "output_type": "stream",
     "text": [
      "                         class      %\n",
      "stalk-surface-above-ring             \n",
      "f                            e  73.91\n",
      "f                            p  26.09\n",
      "k                            e   6.07\n",
      "k                            p  93.93\n",
      "s                            e  70.32\n",
      "s                            p  29.68\n",
      "y                            e  66.67\n",
      "y                            p  33.33\n"
     ]
    }
   ],
   "source": [
    "# 'Class' breakdown within values of 'Stalk Surface Above Ring'\n",
    "\n",
    "classPercentages('stalk-surface-above-ring')\n",
    "\n",
    "# BALANCED: N/A\n",
    "# MILD IMBALANCE: 'f', 's', 'y'\n",
    "# MODERATE IMBALANCE: 'k'\n",
    "# EXTREME IMBALANCE: N/A\n",
    "\n",
    "# All categories in this feature are imbalanced. Fortunately, there are no 100% class concentrations like in other features.\n",
    "# The most promising categories for accurate prediction are 's' and 'k' which have relatively high counts and imbalance \n",
    "# (while also having opposite class majorities within them)."
   ]
  },
  {
   "cell_type": "markdown",
   "id": "95cc6f8f",
   "metadata": {},
   "source": [
    "### Stalk Surface Below Ring"
   ]
  },
  {
   "cell_type": "code",
   "execution_count": 53,
   "id": "0d53e731",
   "metadata": {},
   "outputs": [
    {
     "data": {
      "image/png": "[encoded data removed]",
      "text/plain": [
       "<Figure size 864x432 with 2 Axes>"
      ]
     },
     "metadata": {
      "needs_background": "light"
     },
     "output_type": "display_data"
    }
   ],
   "source": [
    "# 'Stalk Surface Below Ring'\n",
    "\n",
    "visualizeCounts('stalk-surface-below-ring')\n",
    "\n",
    "# lEFT FIGURE:\n",
    "# This feature is quite imbalanced with majorities of 's' and 'k' values and minorities in 'f' and 'y'.\n",
    "\n",
    "# RIGHT FIGURE:\n",
    "# It appears that all categories in this feature are imbalanced. Note the class majorities in our most frequent categories\n",
    "# of 's' and 'k'."
   ]
  },
  {
   "cell_type": "code",
   "execution_count": 54,
   "id": "4e77cf6b",
   "metadata": {},
   "outputs": [
    {
     "name": "stdout",
     "output_type": "stream",
     "text": [
      "stalk-surface-below-ring | Percentage\n",
      "s    60.76\n",
      "k    28.36\n",
      "f     7.39\n",
      "y     3.50\n",
      "Name: stalk-surface-below-ring, dtype: float64\n"
     ]
    }
   ],
   "source": [
    "# Quantifying counts of values in 'Stalk Surface Below Ring'\n",
    "\n",
    "valuePercentages('stalk-surface-below-ring')\n",
    "\n",
    "# Since the minority category 'y' has a count percentage between 1% and 20%, this feature has MODERATE IMBALANCE."
   ]
  },
  {
   "cell_type": "code",
   "execution_count": 55,
   "id": "a251f68b",
   "metadata": {},
   "outputs": [
    {
     "name": "stdout",
     "output_type": "stream",
     "text": [
      "                         class      %\n",
      "stalk-surface-below-ring             \n",
      "f                            e  76.00\n",
      "f                            p  24.00\n",
      "k                            e   6.25\n",
      "k                            p  93.75\n",
      "s                            e  68.88\n",
      "s                            p  31.12\n",
      "y                            e  73.24\n",
      "y                            p  26.76\n"
     ]
    }
   ],
   "source": [
    "# Class concentration in values of 'Stalk Surface Below Ring'\n",
    "\n",
    "classPercentages('stalk-surface-below-ring')\n",
    "\n",
    "# BALANCED: N/A\n",
    "# MILD IMBALANCE: 'f', 's', 'y'\n",
    "# MODERATE IMBALANCE: 'k'\n",
    "# EXTREME IMBALANCE: N/A\n",
    "\n",
    "# As we saw in the above visualizations, all categories in this feature are imbalanced relative to 'class'.\n",
    "# The categories of 's' and 'k' have high relatively high total counts, mild to moderate class imbalance, and opposite\n",
    "# class majorities making them favorable for contributing to predictive power."
   ]
  },
  {
   "cell_type": "markdown",
   "id": "a72ba47b",
   "metadata": {},
   "source": [
    "### Stalk Color Above Ring"
   ]
  },
  {
   "cell_type": "code",
   "execution_count": 56,
   "id": "f7d51094",
   "metadata": {},
   "outputs": [
    {
     "data": {
      "image/png": "[encoded data removed]",
      "text/plain": [
       "<Figure size 864x432 with 2 Axes>"
      ]
     },
     "metadata": {
      "needs_background": "light"
     },
     "output_type": "display_data"
    }
   ],
   "source": [
    "# 'Stalk Color Above Ring'\n",
    "\n",
    "visualizeCounts('stalk-color-above-ring')\n",
    "\n",
    "# lEFT FIGURE:\n",
    "# Without a doubt, this feature has extreme imbalance. The 'w' category comprises the large majority of values while\n",
    "# categories such as 'e', 'o', 'c', and 'y' are significant minorities.\n",
    "\n",
    "# RIGHT FIGURE:\n",
    "# The categories of 'w' and 'p' have imbalance but it hard to assess the other categories in this visualization."
   ]
  },
  {
   "cell_type": "code",
   "execution_count": 57,
   "id": "a1c76e63",
   "metadata": {},
   "outputs": [
    {
     "name": "stdout",
     "output_type": "stream",
     "text": [
      "stalk-color-above-ring | Percentage\n",
      "w    54.95\n",
      "p    23.04\n",
      "g     7.09\n",
      "n     5.51\n",
      "b     5.32\n",
      "o     2.36\n",
      "e     1.18\n",
      "c     0.44\n",
      "y     0.10\n",
      "Name: stalk-color-above-ring, dtype: float64\n"
     ]
    }
   ],
   "source": [
    "# Quantifying counts of vaklues in 'Stalk Color Above Ring'\n",
    "\n",
    "valuePercentages('stalk-color-above-ring')\n",
    "\n",
    "# Since the minority category of 'y' has a count percentage <1%, this feature has EXTREME IMBALANCE.\n",
    "# The two most frequent categories comprise ~75% of the entire feature."
   ]
  },
  {
   "cell_type": "code",
   "execution_count": 58,
   "id": "63482dbb",
   "metadata": {},
   "outputs": [
    {
     "name": "stdout",
     "output_type": "stream",
     "text": [
      "                       class       %\n",
      "stalk-color-above-ring              \n",
      "b                          p  100.00\n",
      "c                          p  100.00\n",
      "e                          e  100.00\n",
      "g                          e  100.00\n",
      "n                          e    3.57\n",
      "n                          p   96.43\n",
      "o                          e  100.00\n",
      "p                          e   30.77\n",
      "p                          p   69.23\n",
      "w                          e   61.65\n",
      "w                          p   38.35\n",
      "y                          p  100.00\n"
     ]
    }
   ],
   "source": [
    "# 'Class' concentration per value in 'Stalk Color Above Ring'\n",
    "\n",
    "classPercentages('stalk-color-above-ring')\n",
    "\n",
    "# BALANCED: N/A\n",
    "# MILD IMBALANCE: 'p', 'w'\n",
    "# MODERATE IMBALANCE: 'n'\n",
    "# EXTREME IMBALANCE: 'b', 'c', 'e', 'g', 'o', 'y'\n",
    "\n",
    "# Many of the categories in this feature are extremely imbalanced relative to 'class'.\n",
    "# Filtering for categories with relatively high value counts and 'class' imbalance, we should focus on 'w' and 'p'.\n",
    "# They also have opposite class concentrations which is favorable."
   ]
  },
  {
   "cell_type": "markdown",
   "id": "aae260ea",
   "metadata": {},
   "source": [
    "### Stalk Color Below Ring"
   ]
  },
  {
   "cell_type": "code",
   "execution_count": 59,
   "id": "76acca43",
   "metadata": {},
   "outputs": [
    {
     "data": {
      "image/png": "[encoded data removed]",
      "text/plain": [
       "<Figure size 864x432 with 2 Axes>"
      ]
     },
     "metadata": {
      "needs_background": "light"
     },
     "output_type": "display_data"
    }
   ],
   "source": [
    "# 'Stalk Color Below Ring'\n",
    "\n",
    "visualizeCounts('stalk-color-below-ring')\n",
    "\n",
    "# lEFT FIGURE:\n",
    "# This feature has extreme imbalance with significant disparity between the majority 'w' and the minority 'y'.\n",
    "\n",
    "# RIGHT FIGURE:\n",
    "# Similar to 'stalk color above ring', this most of these categories appear imbalanced relative to 'class'.\n",
    "# The categories of 'w', 'p', 'g', and 'b' look promising."
   ]
  },
  {
   "cell_type": "code",
   "execution_count": 60,
   "id": "07ccbc82",
   "metadata": {},
   "outputs": [
    {
     "name": "stdout",
     "output_type": "stream",
     "text": [
      "stalk-color-below-ring | Percentage\n",
      "w    53.96\n",
      "p    23.04\n",
      "g     7.09\n",
      "n     6.30\n",
      "b     5.32\n",
      "o     2.36\n",
      "e     1.18\n",
      "c     0.44\n",
      "y     0.30\n",
      "Name: stalk-color-below-ring, dtype: float64\n"
     ]
    }
   ],
   "source": [
    "# Quantifying counts of values in 'Stalk Color Below Ring'\n",
    "\n",
    "valuePercentages('stalk-color-below-ring')\n",
    "\n",
    "# Since the minority category of 'y' has a count percentage < 1%, this feature has EXTREME IMBALANCE."
   ]
  },
  {
   "cell_type": "code",
   "execution_count": 61,
   "id": "4e0c4ac3",
   "metadata": {},
   "outputs": [
    {
     "name": "stdout",
     "output_type": "stream",
     "text": [
      "                       class       %\n",
      "stalk-color-below-ring              \n",
      "b                          p  100.00\n",
      "c                          p  100.00\n",
      "e                          e  100.00\n",
      "g                          e  100.00\n",
      "n                          e   12.50\n",
      "n                          p   87.50\n",
      "o                          e  100.00\n",
      "p                          e   30.77\n",
      "p                          p   69.23\n",
      "w                          e   61.68\n",
      "w                          p   38.32\n",
      "y                          p  100.00\n"
     ]
    }
   ],
   "source": [
    "# 'Class' concentration within values of 'Stalk Color Below Ring'\n",
    "\n",
    "classPercentages('stalk-color-below-ring')\n",
    "\n",
    "# BALANCED: N/A\n",
    "# MILD IMBALANCE: 'p', 'w'\n",
    "# MODERATE IMBALANCE: 'n'\n",
    "# EXTREME IMBALANCE: 'b', 'c', 'e', 'g', 'o'\n",
    "\n",
    "# Many features are extremely imbalanced with 100% class concentration while also having very low value counts.\n",
    "# 'w' and 'p' both have relatively high counts but are only mildly imbalanced ('w' is close to being considered balanced).\n",
    "# This feature might not be very predictive."
   ]
  },
  {
   "cell_type": "markdown",
   "id": "a39447df",
   "metadata": {},
   "source": [
    "### Veil Type"
   ]
  },
  {
   "cell_type": "code",
   "execution_count": 62,
   "id": "d38fc9f9",
   "metadata": {},
   "outputs": [
    {
     "data": {
      "image/png": "[encoded data removed]",
      "text/plain": [
       "<Figure size 864x432 with 2 Axes>"
      ]
     },
     "metadata": {
      "needs_background": "light"
     },
     "output_type": "display_data"
    }
   ],
   "source": [
    "# 'Veil Type'\n",
    "\n",
    "visualizeCounts('veil-type')\n",
    "\n",
    "# lEFT FIGURE:\n",
    "# This is a special case where there is only one distinct category in the entire feature!\n",
    "\n",
    "# RIGHT FIGURE:\n",
    "# Relative to 'class' this feature is balanced but due to it all belonging to one category, it is just a representation\n",
    "# of the 'class' feature. No new information is gained from this feature so we can probably remove it from the dataset."
   ]
  },
  {
   "cell_type": "code",
   "execution_count": 63,
   "id": "79d63756",
   "metadata": {},
   "outputs": [
    {
     "name": "stdout",
     "output_type": "stream",
     "text": [
      "veil-type | Percentage\n",
      "p    100.0\n",
      "Name: veil-type, dtype: float64\n"
     ]
    }
   ],
   "source": [
    "# Quantifying counts of values in 'Veil Type'\n",
    "\n",
    "valuePercentages('veil-type')\n",
    "\n",
    "# As we saw above, the single 'p' category comprises all values in this feature."
   ]
  },
  {
   "cell_type": "code",
   "execution_count": 64,
   "id": "3a5f0da9",
   "metadata": {},
   "outputs": [
    {
     "name": "stdout",
     "output_type": "stream",
     "text": [
      "          class     %\n",
      "veil-type            \n",
      "p             e  51.8\n",
      "p             p  48.2\n"
     ]
    }
   ],
   "source": [
    "classPercentages('veil-type')\n",
    "\n",
    "# BALANCED: 'p'\n",
    "# MILD IMBALANCE: N/A\n",
    "# MODERATE IMBALANCE: N/A\n",
    "# EXTREME IMBALANCE: N/A\n",
    "\n",
    "# The only category is balanced relative to 'class' meaning it won't contribute to significantly to predictive power."
   ]
  },
  {
   "cell_type": "markdown",
   "id": "e71b651b",
   "metadata": {},
   "source": [
    "### Veil Color"
   ]
  },
  {
   "cell_type": "code",
   "execution_count": 65,
   "id": "cc25e56b",
   "metadata": {},
   "outputs": [
    {
     "data": {
      "image/png": "[encoded data removed]",
      "text/plain": [
       "<Figure size 864x432 with 2 Axes>"
      ]
     },
     "metadata": {
      "needs_background": "light"
     },
     "output_type": "display_data"
    }
   ],
   "source": [
    "# 'Veil Color'\n",
    "\n",
    "visualizeCounts('veil-color')\n",
    "\n",
    "# lEFT FIGURE:\n",
    "# This feature is extremely imbalanced. Furthermore, one category 'w' dominates the feature while the other three categories\n",
    "# have significantly lower value counts.\n",
    "\n",
    "# RIGHT FIGURE:\n",
    "# Disregarding the categories with very low value counts, the 'w' category appears balanced. This entire feature will\n",
    "# likely not lend to predictive power."
   ]
  },
  {
   "cell_type": "code",
   "execution_count": 66,
   "id": "0a6b6d2c",
   "metadata": {},
   "outputs": [
    {
     "name": "stdout",
     "output_type": "stream",
     "text": [
      "veil-color | Percentage\n",
      "w    97.54\n",
      "n     1.18\n",
      "o     1.18\n",
      "y     0.10\n",
      "Name: veil-color, dtype: float64\n"
     ]
    }
   ],
   "source": [
    "# Quantifying counts of values in 'Veil Color'\n",
    "\n",
    "valuePercentages('veil-color')\n",
    "\n",
    "# Since the minority category of 'y' has a count percentage < 1%, this feature has EXTREME IMBALANCE."
   ]
  },
  {
   "cell_type": "code",
   "execution_count": 67,
   "id": "aa56e2e6",
   "metadata": {},
   "outputs": [
    {
     "name": "stdout",
     "output_type": "stream",
     "text": [
      "           class       %\n",
      "veil-color              \n",
      "n              e  100.00\n",
      "o              e  100.00\n",
      "w              e   50.68\n",
      "w              p   49.32\n",
      "y              p  100.00\n"
     ]
    }
   ],
   "source": [
    "classPercentages('veil-color')\n",
    "\n",
    "# BALANCED: 'w'\n",
    "# MILD IMBALANCE: N/A\n",
    "# MODERATE IMBALANCE: N/A\n",
    "# EXTREME IMBALANCE: 'n', 'o', 'y'\n",
    "\n",
    "# As expected, the three infrequent categories have 100% class concentrations. This is problematic as predictions made\n",
    "# considering these values will likely produce false classifications due to small sample size.\n",
    "# Furthermore, the only other category 'w' is balanced relative to 'class'. Therefore, no category in this feature has\n",
    "# much potential in lending to overall predictive power."
   ]
  },
  {
   "cell_type": "markdown",
   "id": "4269f007",
   "metadata": {},
   "source": [
    "### Ring Number"
   ]
  },
  {
   "cell_type": "code",
   "execution_count": 68,
   "id": "0c341652",
   "metadata": {},
   "outputs": [
    {
     "data": {
      "image/png": "[encoded data removed]",
      "text/plain": [
       "<Figure size 864x432 with 2 Axes>"
      ]
     },
     "metadata": {
      "needs_background": "light"
     },
     "output_type": "display_data"
    }
   ],
   "source": [
    "# 'Ring Number'\n",
    "\n",
    "visualizeCounts('ring-number')\n",
    "\n",
    "# lEFT FIGURE:\n",
    "# This feature appears to be extremely imbalanced with significant disparity between 'o' and 'n'.\n",
    "\n",
    "# RIGHT FIGURE:\n",
    "# Disregarding 'n', the most frequent 'o' category appears balanced. The 't' category is imbalanced but with a small\n",
    "# total value count, it might be too significant in the final model."
   ]
  },
  {
   "cell_type": "code",
   "execution_count": 69,
   "id": "578d79fc",
   "metadata": {},
   "outputs": [
    {
     "name": "stdout",
     "output_type": "stream",
     "text": [
      "ring-number | Percentage\n",
      "o    92.17\n",
      "t     7.39\n",
      "n     0.44\n",
      "Name: ring-number, dtype: float64\n"
     ]
    }
   ],
   "source": [
    "# Quantifying counts of values in 'Ring Number'\n",
    "\n",
    "valuePercentages('ring-number')\n",
    "\n",
    "# Since the minority category of 'n' has a count percentage < 1%, this feature has EXTREME IMBALANCE."
   ]
  },
  {
   "cell_type": "code",
   "execution_count": 70,
   "id": "0853a246",
   "metadata": {},
   "outputs": [
    {
     "name": "stdout",
     "output_type": "stream",
     "text": [
      "            class       %\n",
      "ring-number              \n",
      "n               p  100.00\n",
      "o               e   49.15\n",
      "o               p   50.85\n",
      "t               e   88.00\n",
      "t               p   12.00\n"
     ]
    }
   ],
   "source": [
    "classPercentages('ring-number')\n",
    "\n",
    "# BALANCED: 'o'\n",
    "# MILD IMBALANCE: N/A\n",
    "# MODERATE IMBALANCE: 't'\n",
    "# EXTREME IMBALANCE: 'n'\n",
    "\n",
    "# The most frequent category, 'o', is nearly perfectly balanced and the least frequent 'n' has 100% class concentration so\n",
    "# we should ignore it. That leaves 't' with moderate 'class' imbalance but only making up 7% of the total feature.\n",
    "# This would be another feature to consider removing during dimensionality reduction."
   ]
  },
  {
   "cell_type": "markdown",
   "id": "e3d287a3",
   "metadata": {},
   "source": [
    "### Ring Type (IN PROGRESS)"
   ]
  },
  {
   "cell_type": "code",
   "execution_count": 71,
   "id": "d4808901",
   "metadata": {},
   "outputs": [
    {
     "data": {
      "image/png": "[encoded data removed]",
      "text/plain": [
       "<Figure size 864x432 with 2 Axes>"
      ]
     },
     "metadata": {
      "needs_background": "light"
     },
     "output_type": "display_data"
    }
   ],
   "source": [
    "# 'Ring Type'\n",
    "\n",
    "visualizeCounts('ring-type')\n",
    "\n",
    "# lEFT FIGURE:\n",
    "# \n",
    "\n",
    "# RIGHT FIGURE:\n",
    "# "
   ]
  },
  {
   "cell_type": "code",
   "execution_count": 72,
   "id": "bb57ca92",
   "metadata": {},
   "outputs": [
    {
     "name": "stdout",
     "output_type": "stream",
     "text": [
      "ring-type | Percentage\n",
      "p    48.84\n",
      "e    34.17\n",
      "l    15.95\n",
      "f     0.59\n",
      "n     0.44\n",
      "Name: ring-type, dtype: float64\n"
     ]
    }
   ],
   "source": [
    "valuePercentages('ring-type')"
   ]
  },
  {
   "cell_type": "code",
   "execution_count": 73,
   "id": "2751cd98",
   "metadata": {},
   "outputs": [
    {
     "name": "stdout",
     "output_type": "stream",
     "text": [
      "          class       %\n",
      "ring-type              \n",
      "e             e   36.31\n",
      "e             p   63.69\n",
      "f             e  100.00\n",
      "l             p  100.00\n",
      "n             p  100.00\n",
      "p             e   79.44\n",
      "p             p   20.56\n"
     ]
    }
   ],
   "source": [
    "classPercentages('ring-type')\n",
    "\n",
    "# BALANCED:\n",
    "# MILD IMBALANCE:\n",
    "# MODERATE IMBALANCE:\n",
    "# EXTREME IMBALANCE:\n",
    "\n",
    "#"
   ]
  },
  {
   "cell_type": "markdown",
   "id": "f98d4233",
   "metadata": {},
   "source": [
    "### Spore Print Color"
   ]
  },
  {
   "cell_type": "code",
   "execution_count": 74,
   "id": "e8d8c34f",
   "metadata": {},
   "outputs": [
    {
     "data": {
      "image/png": "[encoded data removed]",
      "text/plain": [
       "<Figure size 864x432 with 2 Axes>"
      ]
     },
     "metadata": {
      "needs_background": "light"
     },
     "output_type": "display_data"
    }
   ],
   "source": [
    "# 'Spore Print Color'\n",
    "\n",
    "visualizeCounts('spore-print-color')\n",
    "\n",
    "# lEFT FIGURE:\n",
    "#\n",
    "\n",
    "# RIGHT FIGURE:\n",
    "# "
   ]
  },
  {
   "cell_type": "code",
   "execution_count": 75,
   "id": "48db094c",
   "metadata": {},
   "outputs": [
    {
     "name": "stdout",
     "output_type": "stream",
     "text": [
      "spore-print-color | Percentage\n",
      "w    29.39\n",
      "n    24.22\n",
      "k    23.04\n",
      "h    20.09\n",
      "r     0.89\n",
      "u     0.59\n",
      "o     0.59\n",
      "y     0.59\n",
      "b     0.59\n",
      "Name: spore-print-color, dtype: float64\n"
     ]
    }
   ],
   "source": [
    "valuePercentages('spore-print-color')"
   ]
  },
  {
   "cell_type": "code",
   "execution_count": 76,
   "id": "118f9777",
   "metadata": {},
   "outputs": [
    {
     "name": "stdout",
     "output_type": "stream",
     "text": [
      "                  class       %\n",
      "spore-print-color              \n",
      "b                     e  100.00\n",
      "h                     e    2.94\n",
      "h                     p   97.06\n",
      "k                     e   88.03\n",
      "k                     p   11.97\n",
      "n                     e   88.62\n",
      "n                     p   11.38\n",
      "o                     e  100.00\n",
      "r                     p  100.00\n",
      "u                     e  100.00\n",
      "w                     e   24.12\n",
      "w                     p   75.88\n",
      "y                     e  100.00\n"
     ]
    }
   ],
   "source": [
    "classPercentages('spore-print-color')\n",
    "\n",
    "# BALANCED:\n",
    "# MILD IMBALANCE:\n",
    "# MODERATE IMBALANCE:\n",
    "# EXTREME IMBALANCE:\n",
    "\n",
    "#"
   ]
  },
  {
   "cell_type": "markdown",
   "id": "898c991f",
   "metadata": {},
   "source": [
    "### Population"
   ]
  },
  {
   "cell_type": "code",
   "execution_count": 77,
   "id": "327b5bd3",
   "metadata": {},
   "outputs": [
    {
     "data": {
      "image/png": "[encoded data removed]",
      "text/plain": [
       "<Figure size 864x432 with 2 Axes>"
      ]
     },
     "metadata": {
      "needs_background": "light"
     },
     "output_type": "display_data"
    }
   ],
   "source": [
    "# 'Population'\n",
    "\n",
    "visualizeCounts('population')\n",
    "\n",
    "# lEFT FIGURE:\n",
    "#\n",
    "\n",
    "# RIGHT FIGURE:\n",
    "# "
   ]
  },
  {
   "cell_type": "code",
   "execution_count": 78,
   "id": "7544c58e",
   "metadata": {},
   "outputs": [
    {
     "name": "stdout",
     "output_type": "stream",
     "text": [
      "population | Percentage\n",
      "v    49.73\n",
      "y    21.07\n",
      "s    15.36\n",
      "n     4.92\n",
      "a     4.73\n",
      "c     4.19\n",
      "Name: population, dtype: float64\n"
     ]
    }
   ],
   "source": [
    "valuePercentages('population')"
   ]
  },
  {
   "cell_type": "code",
   "execution_count": 79,
   "id": "abae69e0",
   "metadata": {},
   "outputs": [
    {
     "name": "stdout",
     "output_type": "stream",
     "text": [
      "           class       %\n",
      "population              \n",
      "a              e  100.00\n",
      "c              e   84.71\n",
      "c              p   15.29\n",
      "n              e  100.00\n",
      "s              e   70.51\n",
      "s              p   29.49\n",
      "v              e   29.50\n",
      "v              p   70.50\n",
      "y              e   62.15\n",
      "y              p   37.85\n"
     ]
    }
   ],
   "source": [
    "classPercentages('population')\n",
    "\n",
    "# BALANCED:\n",
    "# MILD IMBALANCE:\n",
    "# MODERATE IMBALANCE:\n",
    "# EXTREME IMBALANCE:\n",
    "\n",
    "#"
   ]
  },
  {
   "cell_type": "markdown",
   "id": "f5c3e315",
   "metadata": {},
   "source": [
    "### Habitat"
   ]
  },
  {
   "cell_type": "code",
   "execution_count": 80,
   "id": "701750d2",
   "metadata": {},
   "outputs": [
    {
     "data": {
      "image/png": "[encoded data removed]",
      "text/plain": [
       "<Figure size 864x432 with 2 Axes>"
      ]
     },
     "metadata": {
      "needs_background": "light"
     },
     "output_type": "display_data"
    }
   ],
   "source": [
    "# 'Habitat'\n",
    "\n",
    "visualizeCounts('habitat')\n",
    "\n",
    "# lEFT FIGURE:\n",
    "#\n",
    "\n",
    "# RIGHT FIGURE:\n",
    "# "
   ]
  },
  {
   "cell_type": "code",
   "execution_count": 81,
   "id": "2681e190",
   "metadata": {},
   "outputs": [
    {
     "name": "stdout",
     "output_type": "stream",
     "text": [
      "habitat | Percentage\n",
      "d    38.75\n",
      "g    26.44\n",
      "p    14.08\n",
      "l    10.24\n",
      "u     4.53\n",
      "m     3.59\n",
      "w     2.36\n",
      "Name: habitat, dtype: float64\n"
     ]
    }
   ],
   "source": [
    "valuePercentages('habitat')"
   ]
  },
  {
   "cell_type": "code",
   "execution_count": 82,
   "id": "608bad08",
   "metadata": {},
   "outputs": [
    {
     "name": "stdout",
     "output_type": "stream",
     "text": [
      "        class       %\n",
      "habitat              \n",
      "d           e   59.72\n",
      "d           p   40.28\n",
      "g           e   65.55\n",
      "g           p   34.45\n",
      "l           e   28.85\n",
      "l           p   71.15\n",
      "m           e   87.67\n",
      "m           p   12.33\n",
      "p           e   11.89\n",
      "p           p   88.11\n",
      "u           e   26.09\n",
      "u           p   73.91\n",
      "w           e  100.00\n"
     ]
    }
   ],
   "source": [
    "classPercentages('habitat')\n",
    "\n",
    "# BALANCED:\n",
    "# MILD IMBALANCE:\n",
    "# MODERATE IMBALANCE:\n",
    "# EXTREME IMBALANCE:\n",
    "\n",
    "#"
   ]
  },
  {
   "cell_type": "markdown",
   "id": "1b7b1303",
   "metadata": {},
   "source": [
    "### Each Feature vs. Target Feature"
   ]
  },
  {
   "cell_type": "code",
   "execution_count": null,
   "id": "8a006715",
   "metadata": {
    "scrolled": false
   },
   "outputs": [],
   "source": [
    "for column in rawData.columns[1:]:\n",
    "    sns.countplot(data=rawData, x=column, hue='class')\n",
    "    plt.title(f\"Distribution of 'Class' per '{column}''\")\n",
    "    plt.show()"
   ]
  },
  {
   "cell_type": "code",
   "execution_count": null,
   "id": "564cfca8",
   "metadata": {},
   "outputs": [],
   "source": [
    "sns.countplot(data=rawData, x='cap-shape', hue='class')\n",
    "plt.title('Count Plot of \"Cap Shape\"')\n",
    "plt.show()"
   ]
  },
  {
   "cell_type": "markdown",
   "id": "8b1ca2a6",
   "metadata": {},
   "source": [
    "### Feature Correlation"
   ]
  },
  {
   "cell_type": "code",
   "execution_count": null,
   "id": "879dd429",
   "metadata": {},
   "outputs": [],
   "source": []
  },
  {
   "cell_type": "markdown",
   "id": "376b214f",
   "metadata": {},
   "source": [
    "## Machine Learning Intuition"
   ]
  },
  {
   "cell_type": "markdown",
   "id": "fa081ba7",
   "metadata": {},
   "source": [
    "Now that we have verified that the dataset is \"clean\" (no missing values, no duplicates, no typos, etc.), and have explored the distributions and relationships between them, it is time to think about how we should solve our problem of correctly predicting whether new mushrooms with certain attributes are poisonous or edible.  \n",
    "\n",
    "Since we are trying to predict which distinct category a new mushroom belongs to (being edible or poisonous), this is a Classification task.  \n",
    "\n",
    "Furthermore, since the attribute we are trying to predict has TWO categories, this is a Binary Classification task (compared to a multiclass problem)."
   ]
  },
  {
   "cell_type": "markdown",
   "id": "970919fc",
   "metadata": {},
   "source": [
    "Lastly, since all of our observations have an existing category assigned to them, they are all 'labeled', meaning we are dealing with a Supervised machine learning task. Therefore, we can summarize our task as being Supervised Binary Classification."
   ]
  },
  {
   "cell_type": "markdown",
   "id": "7f1ecee1",
   "metadata": {},
   "source": [
    "Now that we know the task we are trying to solve, we can think about which machine learning models we want to use. There are many popular Supervised Classification ML models that have various benefits and drawbacks. This project will give us an opportunity to compare a few of them and see which one performs the best with our data."
   ]
  },
  {
   "cell_type": "markdown",
   "id": "b858543e",
   "metadata": {},
   "source": [
    "The machine learning models we will be comparing in this project are:\n",
    "- Logistic Regression\n",
    "- K Nearest Neighbors Classifer\n",
    "- Support Vector Machine Classifier\n",
    "- Naive Bayes Classifer\n",
    "- Single Decision Tree  \n",
    "\n",
    "and a few Ensemble methods that build on Decision Trees including:\n",
    "- Random Forest Classifer\n",
    "- AdaBoost Classifer\n",
    "- Gradient Boost Classifer"
   ]
  },
  {
   "cell_type": "markdown",
   "id": "bfa08dfc",
   "metadata": {},
   "source": [
    "**Note:** We will save Neural Networks for a separate project!"
   ]
  },
  {
   "cell_type": "markdown",
   "id": "6eeda5f1",
   "metadata": {},
   "source": [
    "## Preprocessing"
   ]
  },
  {
   "cell_type": "code",
   "execution_count": null,
   "id": "1bffd292",
   "metadata": {},
   "outputs": [],
   "source": []
  },
  {
   "cell_type": "markdown",
   "id": "8795be23",
   "metadata": {},
   "source": [
    "## Model Creation and Training"
   ]
  },
  {
   "cell_type": "code",
   "execution_count": null,
   "id": "6f132271",
   "metadata": {},
   "outputs": [],
   "source": []
  },
  {
   "cell_type": "markdown",
   "id": "add6f855",
   "metadata": {},
   "source": [
    "## Model Evaluation"
   ]
  },
  {
   "cell_type": "code",
   "execution_count": null,
   "id": "c74ec9c2",
   "metadata": {},
   "outputs": [],
   "source": []
  },
  {
   "cell_type": "markdown",
   "id": "68a9b602",
   "metadata": {},
   "source": [
    "## Best Model Selection and Dataset Insights"
   ]
  },
  {
   "cell_type": "code",
   "execution_count": null,
   "id": "5e42bfca",
   "metadata": {},
   "outputs": [],
   "source": []
  },
  {
   "cell_type": "markdown",
   "id": "4e531853",
   "metadata": {},
   "source": [
    "## Model Generalization"
   ]
  },
  {
   "cell_type": "code",
   "execution_count": null,
   "id": "80902add",
   "metadata": {},
   "outputs": [],
   "source": []
  },
  {
   "cell_type": "markdown",
   "id": "b5838e2c",
   "metadata": {},
   "source": [
    "## Model Productionization"
   ]
  },
  {
   "cell_type": "code",
   "execution_count": null,
   "id": "3cdab8ac",
   "metadata": {},
   "outputs": [],
   "source": []
  },
  {
   "cell_type": "markdown",
   "id": "4d410f13",
   "metadata": {},
   "source": [
    "## Next Steps"
   ]
  },
  {
   "cell_type": "code",
   "execution_count": null,
   "id": "da09e262",
   "metadata": {},
   "outputs": [],
   "source": []
  }
 ],
 "metadata": {
  "kernelspec": {
   "display_name": "Python 3 (ipykernel)",
   "language": "python",
   "name": "python3"
  },
  "language_info": {
   "codemirror_mode": {
    "name": "ipython",
    "version": 3
   },
   "file_extension": ".py",
   "mimetype": "text/x-python",
   "name": "python",
   "nbconvert_exporter": "python",
   "pygments_lexer": "ipython3",
   "version": "3.9.12"
  }
 },
 "nbformat": 4,
 "nbformat_minor": 5
}
