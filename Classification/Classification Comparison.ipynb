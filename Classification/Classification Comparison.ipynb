{
 "cells": [
  {
   "cell_type": "markdown",
   "id": "46b8f908",
   "metadata": {},
   "source": [
    "# Classification Comparison Project  \n",
    "By: Avinash Bisram"
   ]
  },
  {
   "cell_type": "markdown",
   "id": "781e8fe4",
   "metadata": {},
   "source": [
    "This project aims to juxtapose the intuition and implementation of various supervised classification ML models and find the most accurate one in relation to the goal of classifying labeled data."
   ]
  },
  {
   "cell_type": "markdown",
   "id": "3bd20886",
   "metadata": {},
   "source": [
    "It contains the following sections...  \n",
    "1. Data Selection\n",
    "2. Initial Data Exploration\n",
    "3. Data Cleaning\n",
    "4. Exploratory Data Analysis\n",
    "5. Machine Learning Intuition\n",
    "6. Preprocessing\n",
    "7. Model Creation and Training\n",
    "8. Model Evaluation\n",
    "9. Best Model Selection and Dataset Insights\n",
    "10. Model Generalization\n",
    "11. Model Productionization\n",
    "12. Next Steps"
   ]
  },
  {
   "cell_type": "markdown",
   "id": "bb88090c",
   "metadata": {},
   "source": [
    "## Import Libraries"
   ]
  },
  {
   "cell_type": "code",
   "execution_count": 1,
   "id": "8d677880",
   "metadata": {},
   "outputs": [],
   "source": [
    "import pandas as pd\n",
    "import numpy as np\n",
    "import seaborn as sns\n",
    "import matplotlib.pyplot as plt\n",
    "import sklearn as sk"
   ]
  },
  {
   "cell_type": "markdown",
   "id": "5d437e2b",
   "metadata": {},
   "source": [
    "## Data Selection"
   ]
  },
  {
   "cell_type": "markdown",
   "id": "19aa2297",
   "metadata": {},
   "source": [
    "The data that will be used in this project is the \"Mushroom Classification\" dataset by UCI Machine Learning. It was downloaded from Kaggle [here](https://www.kaggle.com/datasets/uciml/mushroom-classification), and can be found in this project's repository as \"mushrooms.csv\".  \n",
    "It contains information about mushrooms as well as labels for each record indicating if the mushroom is edible or poisonous."
   ]
  },
  {
   "cell_type": "markdown",
   "id": "16c62842",
   "metadata": {},
   "source": [
    "Attribute Information:\n",
    "- (TARGET) classes: edible=e, poisonous=p\n",
    "- cap-shape: bell=b,conical=c,convex=x,flat=f, knobbed=k,sunken=s\n",
    "- cap-surface: fibrous=f,grooves=g,scaly=y,smooth=s\n",
    "- cap-color: brown=n,buff=b,cinnamon=c,gray=g,green=r,pink=p,purple=u,red=e,white=w,yellow=y\n",
    "- bruises: bruises=t,no=f\n",
    "- odor: almond=a,anise=l,creosote=c,fishy=y,foul=f,musty=m,none=n,pungent=p,spicy=s\n",
    "- gill-attachment: attached=a,descending=d,free=f,notched=n\n",
    "- gill-spacing: close=c,crowded=w,distant=d\n",
    "- gill-size: broad=b,narrow=n\n",
    "- gill-color: black=k,brown=n,buff=b,chocolate=h,gray=g, green=r,orange=o,pink=p,purple=u,red=e,white=w,yellow=y\n",
    "- stalk-shape: enlarging=e,tapering=t\n",
    "- stalk-root: bulbous=b,club=c,cup=u,equal=e,rhizomorphs=z,rooted=r,missing=?\n",
    "- stalk-surface-above-ring: fibrous=f,scaly=y,silky=k,smooth=s\n",
    "- stalk-surface-below-ring: fibrous=f,scaly=y,silky=k,smooth=s\n",
    "- stalk-color-above-ring: brown=n,buff=b,cinnamon=c,gray=g,orange=o,pink=p,red=e,white=w,yellow=y\n",
    "- stalk-color-below-ring: brown=n,buff=b,cinnamon=c,gray=g,orange=o,pink=p,red=e,white=w,yellow=y\n",
    "- veil-type: partial=p,universal=u\n",
    "- veil-color: brown=n,orange=o,white=w,yellow=y\n",
    "- ring-number: none=n,one=o,two=t\n",
    "- ring-type: cobwebby=c,evanescent=e,flaring=f,large=l,none=n,pendant=p,sheathing=s,zone=z\n",
    "- spore-print-color: black=k,brown=n,buff=b,chocolate=h,green=r,orange=o,purple=u,white=w,yellow=y\n",
    "- population: abundant=a,clustered=c,numerous=n,scattered=s,several=v,solitary=y\n",
    "- habitat: grasses=g,leaves=l,meadows=m,paths=p,urban=u,waste=w,woods=d"
   ]
  },
  {
   "cell_type": "code",
   "execution_count": 2,
   "id": "bb7e0a83",
   "metadata": {},
   "outputs": [],
   "source": [
    "# Storing the dataset in a DataFrame\n",
    "\n",
    "rawData = pd.read_csv('mushrooms.csv')"
   ]
  },
  {
   "cell_type": "markdown",
   "id": "395c8ee2",
   "metadata": {},
   "source": [
    "## Initial Data Exploration"
   ]
  },
  {
   "cell_type": "code",
   "execution_count": 3,
   "id": "0757ea0b",
   "metadata": {
    "scrolled": true
   },
   "outputs": [
    {
     "data": {
      "text/html": [
       "<div>\n",
       "<style scoped>\n",
       "    .dataframe tbody tr th:only-of-type {\n",
       "        vertical-align: middle;\n",
       "    }\n",
       "\n",
       "    .dataframe tbody tr th {\n",
       "        vertical-align: top;\n",
       "    }\n",
       "\n",
       "    .dataframe thead th {\n",
       "        text-align: right;\n",
       "    }\n",
       "</style>\n",
       "<table border=\"1\" class=\"dataframe\">\n",
       "  <thead>\n",
       "    <tr style=\"text-align: right;\">\n",
       "      <th></th>\n",
       "      <th>class</th>\n",
       "      <th>cap-shape</th>\n",
       "      <th>cap-surface</th>\n",
       "      <th>cap-color</th>\n",
       "      <th>bruises</th>\n",
       "      <th>odor</th>\n",
       "      <th>gill-attachment</th>\n",
       "      <th>gill-spacing</th>\n",
       "      <th>gill-size</th>\n",
       "      <th>gill-color</th>\n",
       "      <th>...</th>\n",
       "      <th>stalk-surface-below-ring</th>\n",
       "      <th>stalk-color-above-ring</th>\n",
       "      <th>stalk-color-below-ring</th>\n",
       "      <th>veil-type</th>\n",
       "      <th>veil-color</th>\n",
       "      <th>ring-number</th>\n",
       "      <th>ring-type</th>\n",
       "      <th>spore-print-color</th>\n",
       "      <th>population</th>\n",
       "      <th>habitat</th>\n",
       "    </tr>\n",
       "  </thead>\n",
       "  <tbody>\n",
       "    <tr>\n",
       "      <th>0</th>\n",
       "      <td>p</td>\n",
       "      <td>x</td>\n",
       "      <td>s</td>\n",
       "      <td>n</td>\n",
       "      <td>t</td>\n",
       "      <td>p</td>\n",
       "      <td>f</td>\n",
       "      <td>c</td>\n",
       "      <td>n</td>\n",
       "      <td>k</td>\n",
       "      <td>...</td>\n",
       "      <td>s</td>\n",
       "      <td>w</td>\n",
       "      <td>w</td>\n",
       "      <td>p</td>\n",
       "      <td>w</td>\n",
       "      <td>o</td>\n",
       "      <td>p</td>\n",
       "      <td>k</td>\n",
       "      <td>s</td>\n",
       "      <td>u</td>\n",
       "    </tr>\n",
       "    <tr>\n",
       "      <th>1</th>\n",
       "      <td>e</td>\n",
       "      <td>x</td>\n",
       "      <td>s</td>\n",
       "      <td>y</td>\n",
       "      <td>t</td>\n",
       "      <td>a</td>\n",
       "      <td>f</td>\n",
       "      <td>c</td>\n",
       "      <td>b</td>\n",
       "      <td>k</td>\n",
       "      <td>...</td>\n",
       "      <td>s</td>\n",
       "      <td>w</td>\n",
       "      <td>w</td>\n",
       "      <td>p</td>\n",
       "      <td>w</td>\n",
       "      <td>o</td>\n",
       "      <td>p</td>\n",
       "      <td>n</td>\n",
       "      <td>n</td>\n",
       "      <td>g</td>\n",
       "    </tr>\n",
       "    <tr>\n",
       "      <th>2</th>\n",
       "      <td>e</td>\n",
       "      <td>b</td>\n",
       "      <td>s</td>\n",
       "      <td>w</td>\n",
       "      <td>t</td>\n",
       "      <td>l</td>\n",
       "      <td>f</td>\n",
       "      <td>c</td>\n",
       "      <td>b</td>\n",
       "      <td>n</td>\n",
       "      <td>...</td>\n",
       "      <td>s</td>\n",
       "      <td>w</td>\n",
       "      <td>w</td>\n",
       "      <td>p</td>\n",
       "      <td>w</td>\n",
       "      <td>o</td>\n",
       "      <td>p</td>\n",
       "      <td>n</td>\n",
       "      <td>n</td>\n",
       "      <td>m</td>\n",
       "    </tr>\n",
       "    <tr>\n",
       "      <th>3</th>\n",
       "      <td>p</td>\n",
       "      <td>x</td>\n",
       "      <td>y</td>\n",
       "      <td>w</td>\n",
       "      <td>t</td>\n",
       "      <td>p</td>\n",
       "      <td>f</td>\n",
       "      <td>c</td>\n",
       "      <td>n</td>\n",
       "      <td>n</td>\n",
       "      <td>...</td>\n",
       "      <td>s</td>\n",
       "      <td>w</td>\n",
       "      <td>w</td>\n",
       "      <td>p</td>\n",
       "      <td>w</td>\n",
       "      <td>o</td>\n",
       "      <td>p</td>\n",
       "      <td>k</td>\n",
       "      <td>s</td>\n",
       "      <td>u</td>\n",
       "    </tr>\n",
       "    <tr>\n",
       "      <th>4</th>\n",
       "      <td>e</td>\n",
       "      <td>x</td>\n",
       "      <td>s</td>\n",
       "      <td>g</td>\n",
       "      <td>f</td>\n",
       "      <td>n</td>\n",
       "      <td>f</td>\n",
       "      <td>w</td>\n",
       "      <td>b</td>\n",
       "      <td>k</td>\n",
       "      <td>...</td>\n",
       "      <td>s</td>\n",
       "      <td>w</td>\n",
       "      <td>w</td>\n",
       "      <td>p</td>\n",
       "      <td>w</td>\n",
       "      <td>o</td>\n",
       "      <td>e</td>\n",
       "      <td>n</td>\n",
       "      <td>a</td>\n",
       "      <td>g</td>\n",
       "    </tr>\n",
       "  </tbody>\n",
       "</table>\n",
       "<p>5 rows × 23 columns</p>\n",
       "</div>"
      ],
      "text/plain": [
       "  class cap-shape cap-surface cap-color bruises odor gill-attachment  \\\n",
       "0     p         x           s         n       t    p               f   \n",
       "1     e         x           s         y       t    a               f   \n",
       "2     e         b           s         w       t    l               f   \n",
       "3     p         x           y         w       t    p               f   \n",
       "4     e         x           s         g       f    n               f   \n",
       "\n",
       "  gill-spacing gill-size gill-color  ... stalk-surface-below-ring  \\\n",
       "0            c         n          k  ...                        s   \n",
       "1            c         b          k  ...                        s   \n",
       "2            c         b          n  ...                        s   \n",
       "3            c         n          n  ...                        s   \n",
       "4            w         b          k  ...                        s   \n",
       "\n",
       "  stalk-color-above-ring stalk-color-below-ring veil-type veil-color  \\\n",
       "0                      w                      w         p          w   \n",
       "1                      w                      w         p          w   \n",
       "2                      w                      w         p          w   \n",
       "3                      w                      w         p          w   \n",
       "4                      w                      w         p          w   \n",
       "\n",
       "  ring-number ring-type spore-print-color population habitat  \n",
       "0           o         p                 k          s       u  \n",
       "1           o         p                 n          n       g  \n",
       "2           o         p                 n          n       m  \n",
       "3           o         p                 k          s       u  \n",
       "4           o         e                 n          a       g  \n",
       "\n",
       "[5 rows x 23 columns]"
      ]
     },
     "execution_count": 3,
     "metadata": {},
     "output_type": "execute_result"
    }
   ],
   "source": [
    "# Viewing the head of the DataFrame to get a general idea of how it looks\n",
    "\n",
    "rawData.head()"
   ]
  },
  {
   "cell_type": "code",
   "execution_count": 4,
   "id": "a72f3731",
   "metadata": {},
   "outputs": [
    {
     "data": {
      "text/plain": [
       "(8124, 23)"
      ]
     },
     "execution_count": 4,
     "metadata": {},
     "output_type": "execute_result"
    }
   ],
   "source": [
    "# Dataset Shape\n",
    "\n",
    "rawData.shape\n",
    "\n",
    "# 8124 Observations (rows), 23 Features (columns)"
   ]
  },
  {
   "cell_type": "code",
   "execution_count": 5,
   "id": "c7829922",
   "metadata": {},
   "outputs": [
    {
     "data": {
      "text/plain": [
       "Index(['class', 'cap-shape', 'cap-surface', 'cap-color', 'bruises', 'odor',\n",
       "       'gill-attachment', 'gill-spacing', 'gill-size', 'gill-color',\n",
       "       'stalk-shape', 'stalk-root', 'stalk-surface-above-ring',\n",
       "       'stalk-surface-below-ring', 'stalk-color-above-ring',\n",
       "       'stalk-color-below-ring', 'veil-type', 'veil-color', 'ring-number',\n",
       "       'ring-type', 'spore-print-color', 'population', 'habitat'],\n",
       "      dtype='object')"
      ]
     },
     "execution_count": 5,
     "metadata": {},
     "output_type": "execute_result"
    }
   ],
   "source": [
    "# Column Names\n",
    "\n",
    "rawData.columns"
   ]
  },
  {
   "cell_type": "code",
   "execution_count": 6,
   "id": "f2d4ec1a",
   "metadata": {
    "scrolled": false
   },
   "outputs": [
    {
     "data": {
      "text/plain": [
       "class                       object\n",
       "cap-shape                   object\n",
       "cap-surface                 object\n",
       "cap-color                   object\n",
       "bruises                     object\n",
       "odor                        object\n",
       "gill-attachment             object\n",
       "gill-spacing                object\n",
       "gill-size                   object\n",
       "gill-color                  object\n",
       "stalk-shape                 object\n",
       "stalk-root                  object\n",
       "stalk-surface-above-ring    object\n",
       "stalk-surface-below-ring    object\n",
       "stalk-color-above-ring      object\n",
       "stalk-color-below-ring      object\n",
       "veil-type                   object\n",
       "veil-color                  object\n",
       "ring-number                 object\n",
       "ring-type                   object\n",
       "spore-print-color           object\n",
       "population                  object\n",
       "habitat                     object\n",
       "dtype: object"
      ]
     },
     "execution_count": 6,
     "metadata": {},
     "output_type": "execute_result"
    }
   ],
   "source": [
    "# Column Datatypes\n",
    "\n",
    "rawData.dtypes\n",
    "\n",
    "# All feature data types seem to be in line with what we expect based on the Attribute Information above."
   ]
  },
  {
   "cell_type": "code",
   "execution_count": 7,
   "id": "6273f30b",
   "metadata": {},
   "outputs": [],
   "source": [
    "# Descriptive Statistics\n",
    "\n",
    "# Since all of our features are categorical and non-numeric, it is not appropriate to view descriptive statistics\n",
    "# right now.\n",
    "\n",
    "# rawData.describe()"
   ]
  },
  {
   "cell_type": "code",
   "execution_count": 8,
   "id": "443c43b2",
   "metadata": {},
   "outputs": [
    {
     "data": {
      "text/plain": [
       "class                       0\n",
       "spore-print-color           0\n",
       "ring-type                   0\n",
       "ring-number                 0\n",
       "veil-color                  0\n",
       "veil-type                   0\n",
       "stalk-color-below-ring      0\n",
       "stalk-color-above-ring      0\n",
       "stalk-surface-below-ring    0\n",
       "stalk-surface-above-ring    0\n",
       "population                  0\n",
       "stalk-root                  0\n",
       "gill-color                  0\n",
       "gill-size                   0\n",
       "gill-spacing                0\n",
       "gill-attachment             0\n",
       "odor                        0\n",
       "bruises                     0\n",
       "cap-color                   0\n",
       "cap-surface                 0\n",
       "cap-shape                   0\n",
       "stalk-shape                 0\n",
       "habitat                     0\n",
       "dtype: int64"
      ]
     },
     "execution_count": 8,
     "metadata": {},
     "output_type": "execute_result"
    }
   ],
   "source": [
    "# Identifying Missing data\n",
    "\n",
    "rawData.isnull().sum().sort_values()\n",
    "\n",
    "# It looks like none of our features contain missing data."
   ]
  },
  {
   "cell_type": "code",
   "execution_count": 9,
   "id": "76e5a361",
   "metadata": {},
   "outputs": [
    {
     "data": {
      "text/plain": [
       "0"
      ]
     },
     "execution_count": 9,
     "metadata": {},
     "output_type": "execute_result"
    }
   ],
   "source": [
    "# Identifying Duplicate Records\n",
    "\n",
    "rawData.duplicated().sum()\n",
    "\n",
    "# It appears that we do not have any duplicate records in this dataset either."
   ]
  },
  {
   "cell_type": "code",
   "execution_count": 10,
   "id": "f0bbfc6c",
   "metadata": {},
   "outputs": [
    {
     "name": "stdout",
     "output_type": "stream",
     "text": [
      "<class 'pandas.core.frame.DataFrame'>\n",
      "RangeIndex: 8124 entries, 0 to 8123\n",
      "Data columns (total 23 columns):\n",
      " #   Column                    Non-Null Count  Dtype \n",
      "---  ------                    --------------  ----- \n",
      " 0   class                     8124 non-null   object\n",
      " 1   cap-shape                 8124 non-null   object\n",
      " 2   cap-surface               8124 non-null   object\n",
      " 3   cap-color                 8124 non-null   object\n",
      " 4   bruises                   8124 non-null   object\n",
      " 5   odor                      8124 non-null   object\n",
      " 6   gill-attachment           8124 non-null   object\n",
      " 7   gill-spacing              8124 non-null   object\n",
      " 8   gill-size                 8124 non-null   object\n",
      " 9   gill-color                8124 non-null   object\n",
      " 10  stalk-shape               8124 non-null   object\n",
      " 11  stalk-root                8124 non-null   object\n",
      " 12  stalk-surface-above-ring  8124 non-null   object\n",
      " 13  stalk-surface-below-ring  8124 non-null   object\n",
      " 14  stalk-color-above-ring    8124 non-null   object\n",
      " 15  stalk-color-below-ring    8124 non-null   object\n",
      " 16  veil-type                 8124 non-null   object\n",
      " 17  veil-color                8124 non-null   object\n",
      " 18  ring-number               8124 non-null   object\n",
      " 19  ring-type                 8124 non-null   object\n",
      " 20  spore-print-color         8124 non-null   object\n",
      " 21  population                8124 non-null   object\n",
      " 22  habitat                   8124 non-null   object\n",
      "dtypes: object(23)\n",
      "memory usage: 1.4+ MB\n"
     ]
    }
   ],
   "source": [
    "# A nice method call that displays column names, indirect null counts, and feature data types\n",
    "\n",
    "rawData.info()"
   ]
  },
  {
   "cell_type": "markdown",
   "id": "cea379d9",
   "metadata": {},
   "source": [
    "## Data Cleaning"
   ]
  },
  {
   "cell_type": "code",
   "execution_count": 11,
   "id": "aee1b40f",
   "metadata": {},
   "outputs": [],
   "source": [
    "# We saw above that our dataset has...\n",
    "    # No missing values\n",
    "    # No duplicate records\n",
    "    # Appropriate feature datatypes\n",
    "\n",
    "# The last consideration we need to make is whether any features contain typos (multiple strings being used to refer to the\n",
    "# same category). We will check each feature for this now."
   ]
  },
  {
   "cell_type": "code",
   "execution_count": 12,
   "id": "76b6b7e8",
   "metadata": {},
   "outputs": [
    {
     "name": "stdout",
     "output_type": "stream",
     "text": [
      "Feature\t| Unique Values\n",
      "\n",
      "class\t['e', 'p']\n",
      "cap-shape\t['b', 'c', 'f', 'k', 's', 'x']\n",
      "cap-surface\t['f', 'g', 's', 'y']\n",
      "cap-color\t['b', 'c', 'e', 'g', 'n', 'p', 'r', 'u', 'w', 'y']\n",
      "bruises\t['f', 't']\n",
      "odor\t['a', 'c', 'f', 'l', 'm', 'n', 'p', 's', 'y']\n",
      "gill-attachment\t['a', 'f']\n",
      "gill-spacing\t['c', 'w']\n",
      "gill-size\t['b', 'n']\n",
      "gill-color\t['b', 'e', 'g', 'h', 'k', 'n', 'o', 'p', 'r', 'u', 'w', 'y']\n",
      "stalk-shape\t['e', 't']\n",
      "stalk-root\t['?', 'b', 'c', 'e', 'r']\n",
      "stalk-surface-above-ring\t['f', 'k', 's', 'y']\n",
      "stalk-surface-below-ring\t['f', 'k', 's', 'y']\n",
      "stalk-color-above-ring\t['b', 'c', 'e', 'g', 'n', 'o', 'p', 'w', 'y']\n",
      "stalk-color-below-ring\t['b', 'c', 'e', 'g', 'n', 'o', 'p', 'w', 'y']\n",
      "veil-type\t['p']\n",
      "veil-color\t['n', 'o', 'w', 'y']\n",
      "ring-number\t['n', 'o', 't']\n",
      "ring-type\t['e', 'f', 'l', 'n', 'p']\n",
      "spore-print-color\t['b', 'h', 'k', 'n', 'o', 'r', 'u', 'w', 'y']\n",
      "population\t['a', 'c', 'n', 's', 'v', 'y']\n",
      "habitat\t['d', 'g', 'l', 'm', 'p', 'u', 'w']\n"
     ]
    }
   ],
   "source": [
    "print(\"Feature\\t| Unique Values\\n\")\n",
    "for column in rawData.columns:\n",
    "    print(f\"{column}\\t{sorted(rawData[column].unique())}\")\n",
    "    \n",
    "# There does not appear to be any typos when comparing this list of values with the Attribute Information of the source."
   ]
  },
  {
   "cell_type": "markdown",
   "id": "63793d38",
   "metadata": {},
   "source": [
    "## Exploratory Data Analysis"
   ]
  },
  {
   "cell_type": "markdown",
   "id": "6aa74204",
   "metadata": {},
   "source": [
    "As this data is completely categorical and non-numeric, in our EDA process we are going to visualize the distribution of each class within our dataset as a whole and in relation to our target feature ('class').  \n",
    "\n",
    "Our goals in this process are:\n",
    "1. understand the distribution and balance of values within each feature\n",
    "2. gain insight on the distribution of our target variable within each feature (do values of one feature have predominantly poisonous mushrooms?)."
   ]
  },
  {
   "cell_type": "markdown",
   "id": "3932c66e",
   "metadata": {},
   "source": [
    "### EDA Helper Functions"
   ]
  },
  {
   "cell_type": "code",
   "execution_count": 13,
   "id": "126eaec4",
   "metadata": {},
   "outputs": [],
   "source": [
    "'''Given a feature, visualize the counts of each value within and the breakdown of \"class\" for each value'''\n",
    "\n",
    "def visualizeCounts(columnName):\n",
    "    plt.figure(figsize=(12,6))\n",
    "\n",
    "    plt.subplot(1,2,1)\n",
    "    sns.countplot(x=rawData[columnName])\n",
    "    plt.title(f\"Count Plot of '{columnName}'\")\n",
    "    \n",
    "    plt.subplot(1,2,2)\n",
    "    sns.countplot(data=rawData, x=columnName, hue='class')\n",
    "    plt.title(f\"Distribution of 'Class' within '{columnName}'\")\n",
    "    plt.legend(title='class', loc=('upper left'), bbox_to_anchor=(1,1))\n",
    "\n",
    "    plt.show()"
   ]
  },
  {
   "cell_type": "code",
   "execution_count": 14,
   "id": "b3342599",
   "metadata": {},
   "outputs": [],
   "source": [
    "'''Display the percentages of each unique value within a given feature'''\n",
    "\n",
    "def valuePercentages(columnName):\n",
    "    print(f\"{columnName} | Percentage\")\n",
    "    print( round(rawData[columnName].value_counts() / rawData.shape[0] * 100, 2))"
   ]
  },
  {
   "cell_type": "code",
   "execution_count": 15,
   "id": "52c613d6",
   "metadata": {},
   "outputs": [],
   "source": [
    "'''Display the percentages of \"class\" within a given feature'''\n",
    "\n",
    "def classPercentages(columnName):\n",
    "    \n",
    "    def calculatePercentage(row):\n",
    "        return round(row[0] / valueCounts[row[columnName]] * 100,2)\n",
    "    \n",
    "    valueCounts = rawData[columnName].value_counts()\n",
    "    \n",
    "    tempPercentages = rawData[[columnName,'class']].groupby([columnName,'class']).agg(len).reset_index().copy(deep=True)\n",
    "    tempPercentages[0] = tempPercentages.apply(calculatePercentage, axis=1)\n",
    "    tempPercentages.set_index(columnName, inplace=True)\n",
    "    tempPercentages.rename({0:'%'},axis=1, inplace=True)\n",
    "    \n",
    "    print(tempPercentages)"
   ]
  },
  {
   "cell_type": "markdown",
   "id": "ee897040",
   "metadata": {},
   "source": [
    "### 'Class' (our Target)"
   ]
  },
  {
   "cell_type": "code",
   "execution_count": 16,
   "id": "39de77e0",
   "metadata": {},
   "outputs": [
    {
     "data": {
      "image/png": "[encoded data removed]",
      "text/plain": [
       "<Figure size 432x288 with 1 Axes>"
      ]
     },
     "metadata": {
      "needs_background": "light"
     },
     "output_type": "display_data"
    }
   ],
   "source": [
    "# 'Class' (our Target Feature)\n",
    "\n",
    "sns.countplot(x=rawData['class'])\n",
    "plt.title('Count Plot of \"Class\"')\n",
    "plt.show()\n",
    "\n",
    "# We can see that both distinct values in the 'class' feature have roughly the same count.\n",
    "# This is good because if our target feature was unbalanced and had a large majority of one value over another,\n",
    "# our Classification models could just identify most/all records as that majority value giving us a high accuracy\n",
    "# but largely misclassifying records of the other category.\n",
    "\n",
    "# Example, if our dataset had 99% dogs and 1% cats, our model could label everything as a dog and achieve 99% accuracy.\n",
    "# However, it would be terrible at correctly identifying cats!"
   ]
  },
  {
   "cell_type": "code",
   "execution_count": 17,
   "id": "d359fbee",
   "metadata": {},
   "outputs": [
    {
     "name": "stdout",
     "output_type": "stream",
     "text": [
      "Class | Percentage\n"
     ]
    },
    {
     "data": {
      "text/plain": [
       "e    51.8\n",
       "p    48.2\n",
       "Name: class, dtype: float64"
      ]
     },
     "execution_count": 17,
     "metadata": {},
     "output_type": "execute_result"
    }
   ],
   "source": [
    "# Let's express the counts from above as percentages\n",
    "\n",
    "print('Class | Percentage')\n",
    "round(rawData['class'].value_counts() / rawData.shape[0] *100,2)\n",
    "\n",
    "# There are slightly more edible mushrooms in our dataset than poisonous but these values can still be considered \"balanced\"\n",
    "# since the minority class ('p') has a percentage > 40%."
   ]
  },
  {
   "cell_type": "markdown",
   "id": "4cf7ccda",
   "metadata": {},
   "source": [
    "### Cap Shape"
   ]
  },
  {
   "cell_type": "code",
   "execution_count": 18,
   "id": "85cdaef3",
   "metadata": {},
   "outputs": [
    {
     "data": {
      "image/png": "[encoded data removed]",
      "text/plain": [
       "<Figure size 864x432 with 2 Axes>"
      ]
     },
     "metadata": {
      "needs_background": "light"
     },
     "output_type": "display_data"
    }
   ],
   "source": [
    "# 'Cap Shape'\n",
    "\n",
    "visualizeCounts('cap-shape')\n",
    "\n",
    "# LEFT FIGURE:\n",
    "# This feature appears quite unbalanced with very large counts for cap shapes of 'x' and 'f' with very few for cap shapes\n",
    "# of 's' and 'c'.\n",
    "\n",
    "# RIGHT FIGURE:\n",
    "# Here, we are looking for large differences in counts WITHIN each distinct cap shape. We can see a relatively significant\n",
    "# difference in counts for poisonous and edible mushrooms when cap shapes are 'b' (possible 'x' and 'k' as well).\n",
    "# It is hard to visually discern significant differences in cap shapes of 's' and 'c' due to their small total counts."
   ]
  },
  {
   "cell_type": "code",
   "execution_count": 19,
   "id": "bb7ab619",
   "metadata": {},
   "outputs": [
    {
     "name": "stdout",
     "output_type": "stream",
     "text": [
      "cap-shape | Percentage\n",
      "x    45.00\n",
      "f    38.80\n",
      "k    10.19\n",
      "b     5.56\n",
      "s     0.39\n",
      "c     0.05\n",
      "Name: cap-shape, dtype: float64\n"
     ]
    }
   ],
   "source": [
    "# Let's take a quick look at the value counts for Cap Shape\n",
    "\n",
    "valuePercentages('cap-shape')\n",
    "\n",
    "# It looks like the minority features of sunken and conical cap shapes make up less than 1% of our data.\n",
    "# Therefore, this feature has EXTREME imbalance."
   ]
  },
  {
   "cell_type": "code",
   "execution_count": 20,
   "id": "15313d43",
   "metadata": {},
   "outputs": [
    {
     "name": "stdout",
     "output_type": "stream",
     "text": [
      "          class       %\n",
      "cap-shape              \n",
      "b             e   89.38\n",
      "b             p   10.62\n",
      "c             p  100.00\n",
      "f             e   50.63\n",
      "f             p   49.37\n",
      "k             e   27.54\n",
      "k             p   72.46\n",
      "s             e  100.00\n",
      "x             e   53.28\n",
      "x             p   46.72\n"
     ]
    }
   ],
   "source": [
    "# Let's also look at the concentration of 'class' within each cap-shape\n",
    "\n",
    "classPercentages('cap-shape')\n",
    "\n",
    "# BALANCED (minority % > 40): 'f', 'x'\n",
    "# MILD IMBALANCE (minority % between 20 and 40): 'k'\n",
    "# MODERATE IMBALANCE (minority % between 1 and 20): 'b', \n",
    "# EXTREME IMBALANCE (minority % < 1): 'c', 's'\n",
    "\n",
    "# Both of our majority values identified above, 'x' and 'f' are balanced.\n",
    "# Cap shapes of 'k' and 'b' are mildly to moderately imbalanced so they might be useful in identifying poison mushrooms.\n",
    "# Suprisingly, the two minority values in 's' and 'c' have 100% class concentration. All mushrooms with 'c' cap shapes\n",
    "    # are POISONOUS while all mushrooms with 's' cap shapes are EDIBLE. However, we saw above that the total counts\n",
    "    # for both values are extremely small, we can't say for certain that this isn't a result of a small sample size."
   ]
  },
  {
   "cell_type": "markdown",
   "id": "e08897ff",
   "metadata": {},
   "source": [
    "### Cap Surface"
   ]
  },
  {
   "cell_type": "code",
   "execution_count": null,
   "id": "4d5e98ee",
   "metadata": {},
   "outputs": [],
   "source": [
    "# 'Cap Surface'\n",
    "\n",
    "visualizeCounts('cap-surface')\n",
    "\n",
    "# This feature is mostly uniform but has little to no values for 'cap-surface'='g' (grooves)."
   ]
  },
  {
   "cell_type": "code",
   "execution_count": null,
   "id": "eb35bdbb",
   "metadata": {},
   "outputs": [],
   "source": [
    "# Comparing the value counts (in relative percentage) for Cap Surface\n",
    "\n",
    "valuePercentages('cap-surface')\n",
    "\n",
    "# We can see that mushrooms having grooved cap surfaces make up 0.04% of our data so our models probably won't get much\n",
    "# information from that quality."
   ]
  },
  {
   "cell_type": "code",
   "execution_count": null,
   "id": "ccdc4448",
   "metadata": {},
   "outputs": [],
   "source": [
    "# Percentage of 'class' in each cap-surface\n",
    "\n",
    "classPercentages('cap-surface')"
   ]
  },
  {
   "cell_type": "markdown",
   "id": "5937cc4a",
   "metadata": {},
   "source": [
    "### Cap Color"
   ]
  },
  {
   "cell_type": "code",
   "execution_count": null,
   "id": "f172e3c7",
   "metadata": {},
   "outputs": [],
   "source": [
    "# 'Cap Color'\n",
    "\n",
    "visualizeCounts('cap-color')\n",
    "\n",
    "# This feature isn't very uniform. We have quite a few values with very little appearance in our dataset."
   ]
  },
  {
   "cell_type": "code",
   "execution_count": null,
   "id": "32bcb56a",
   "metadata": {},
   "outputs": [],
   "source": [
    "valuePercentages('cap-color')"
   ]
  },
  {
   "cell_type": "code",
   "execution_count": null,
   "id": "faefa651",
   "metadata": {},
   "outputs": [],
   "source": []
  },
  {
   "cell_type": "markdown",
   "id": "8264bcff",
   "metadata": {},
   "source": [
    "### Bruises"
   ]
  },
  {
   "cell_type": "code",
   "execution_count": null,
   "id": "1078c3b2",
   "metadata": {},
   "outputs": [],
   "source": [
    "# 'Bruises'\n",
    "\n",
    "visualizeCounts('bruises')\n",
    "\n",
    "# This feature isn't necessarily uniform but there isn't a huge disparity in value counts like some of the other \n",
    "# features."
   ]
  },
  {
   "cell_type": "code",
   "execution_count": null,
   "id": "dd404310",
   "metadata": {},
   "outputs": [],
   "source": [
    "valuePercentages('bruises')\n",
    "\n",
    "# Only a 17% difference in value counts. This feature should hold some value in our final model."
   ]
  },
  {
   "cell_type": "code",
   "execution_count": null,
   "id": "8a6e1696",
   "metadata": {},
   "outputs": [],
   "source": []
  },
  {
   "cell_type": "markdown",
   "id": "aa807dd2",
   "metadata": {},
   "source": [
    "### Odor"
   ]
  },
  {
   "cell_type": "code",
   "execution_count": null,
   "id": "26bc1ebe",
   "metadata": {},
   "outputs": [],
   "source": [
    "# 'Odor'\n",
    "\n",
    "visualizeCounts('odor')\n",
    "\n",
    "# "
   ]
  },
  {
   "cell_type": "code",
   "execution_count": null,
   "id": "a3b01512",
   "metadata": {},
   "outputs": [],
   "source": [
    "valuePercentages('odor')"
   ]
  },
  {
   "cell_type": "code",
   "execution_count": null,
   "id": "a6e2b77c",
   "metadata": {},
   "outputs": [],
   "source": []
  },
  {
   "cell_type": "markdown",
   "id": "a0c58ad0",
   "metadata": {},
   "source": [
    "### Gill Attachment"
   ]
  },
  {
   "cell_type": "code",
   "execution_count": null,
   "id": "5aac33b3",
   "metadata": {},
   "outputs": [],
   "source": [
    "# 'Gill Attachment'\n",
    "\n",
    "visualizeCounts('gill-attachment')\n",
    "\n",
    "# "
   ]
  },
  {
   "cell_type": "code",
   "execution_count": null,
   "id": "e40a0b82",
   "metadata": {},
   "outputs": [],
   "source": [
    "valuePercentages('gill-attachment')"
   ]
  },
  {
   "cell_type": "code",
   "execution_count": null,
   "id": "18160b4e",
   "metadata": {},
   "outputs": [],
   "source": []
  },
  {
   "cell_type": "markdown",
   "id": "25a2da5a",
   "metadata": {},
   "source": [
    "### Gill Spacing"
   ]
  },
  {
   "cell_type": "code",
   "execution_count": null,
   "id": "8bf9c82a",
   "metadata": {},
   "outputs": [],
   "source": [
    "# 'Gill Spacing'\n",
    "\n",
    "visualizeCounts('gill-spacing')"
   ]
  },
  {
   "cell_type": "code",
   "execution_count": null,
   "id": "3bc4e984",
   "metadata": {},
   "outputs": [],
   "source": [
    "valuePercentages('gill-spacing')"
   ]
  },
  {
   "cell_type": "code",
   "execution_count": null,
   "id": "63199b17",
   "metadata": {},
   "outputs": [],
   "source": []
  },
  {
   "cell_type": "markdown",
   "id": "ca91ff96",
   "metadata": {},
   "source": [
    "### Gill Size"
   ]
  },
  {
   "cell_type": "code",
   "execution_count": null,
   "id": "1befa090",
   "metadata": {},
   "outputs": [],
   "source": [
    "# 'Gill Size'\n",
    "\n",
    "visualizeCounts('gill-size')"
   ]
  },
  {
   "cell_type": "code",
   "execution_count": null,
   "id": "632362ca",
   "metadata": {},
   "outputs": [],
   "source": [
    "valuePercentages('gill-size')"
   ]
  },
  {
   "cell_type": "code",
   "execution_count": null,
   "id": "4ceab1aa",
   "metadata": {},
   "outputs": [],
   "source": []
  },
  {
   "cell_type": "markdown",
   "id": "cb9babe5",
   "metadata": {},
   "source": [
    "### Gill Color"
   ]
  },
  {
   "cell_type": "code",
   "execution_count": null,
   "id": "6f0bb030",
   "metadata": {},
   "outputs": [],
   "source": [
    "# 'Gill Color'\n",
    "\n",
    "visualizeCounts('gill-color')"
   ]
  },
  {
   "cell_type": "code",
   "execution_count": null,
   "id": "152b2266",
   "metadata": {},
   "outputs": [],
   "source": [
    "valuePercentages('gill-color')"
   ]
  },
  {
   "cell_type": "code",
   "execution_count": null,
   "id": "4b71d4e9",
   "metadata": {},
   "outputs": [],
   "source": []
  },
  {
   "cell_type": "markdown",
   "id": "69587cc7",
   "metadata": {},
   "source": [
    "### Stalk Shape"
   ]
  },
  {
   "cell_type": "code",
   "execution_count": null,
   "id": "d9f27f70",
   "metadata": {},
   "outputs": [],
   "source": [
    "# 'Stalk Shape'\n",
    "\n",
    "visualizeCounts('stalk-shape')"
   ]
  },
  {
   "cell_type": "code",
   "execution_count": null,
   "id": "8064d11b",
   "metadata": {},
   "outputs": [],
   "source": [
    "valuePercentages('stalk-shape')"
   ]
  },
  {
   "cell_type": "code",
   "execution_count": null,
   "id": "b1bb6816",
   "metadata": {},
   "outputs": [],
   "source": []
  },
  {
   "cell_type": "markdown",
   "id": "c04ca38c",
   "metadata": {},
   "source": [
    "### Stalk Root"
   ]
  },
  {
   "cell_type": "code",
   "execution_count": null,
   "id": "56c31022",
   "metadata": {},
   "outputs": [],
   "source": [
    "# 'Stalk Root'\n",
    "\n",
    "visualizeCounts('stalk-root')"
   ]
  },
  {
   "cell_type": "code",
   "execution_count": null,
   "id": "023dbcc4",
   "metadata": {},
   "outputs": [],
   "source": [
    "valuePercentages('stalk-root')"
   ]
  },
  {
   "cell_type": "code",
   "execution_count": null,
   "id": "24b6ad76",
   "metadata": {},
   "outputs": [],
   "source": []
  },
  {
   "cell_type": "markdown",
   "id": "5b895a4f",
   "metadata": {},
   "source": [
    "### Stalk Surface Above Ring"
   ]
  },
  {
   "cell_type": "code",
   "execution_count": null,
   "id": "242b5a9d",
   "metadata": {},
   "outputs": [],
   "source": [
    "# 'Stalk Surface Above Ring'\n",
    "\n",
    "visualizeCounts('stalk-surface-above-ring')"
   ]
  },
  {
   "cell_type": "code",
   "execution_count": null,
   "id": "5823dfc4",
   "metadata": {},
   "outputs": [],
   "source": [
    "valuePercentages('stalk-surface-above-ring')"
   ]
  },
  {
   "cell_type": "code",
   "execution_count": null,
   "id": "8f7870b1",
   "metadata": {},
   "outputs": [],
   "source": []
  },
  {
   "cell_type": "markdown",
   "id": "95cc6f8f",
   "metadata": {},
   "source": [
    "### Stalk Surface Below Ring"
   ]
  },
  {
   "cell_type": "code",
   "execution_count": null,
   "id": "0d53e731",
   "metadata": {},
   "outputs": [],
   "source": [
    "# 'Stalk Surface Below Ring'\n",
    "\n",
    "visualizeCounts('stalk-surface-below-ring')"
   ]
  },
  {
   "cell_type": "code",
   "execution_count": null,
   "id": "4e77cf6b",
   "metadata": {},
   "outputs": [],
   "source": [
    "valuePercentages('stalk-surface-below-ring')"
   ]
  },
  {
   "cell_type": "code",
   "execution_count": null,
   "id": "a251f68b",
   "metadata": {},
   "outputs": [],
   "source": []
  },
  {
   "cell_type": "markdown",
   "id": "a72ba47b",
   "metadata": {},
   "source": [
    "### Stalk Color Above Ring"
   ]
  },
  {
   "cell_type": "code",
   "execution_count": null,
   "id": "f7d51094",
   "metadata": {},
   "outputs": [],
   "source": [
    "# 'Stalk Color Above Ring'\n",
    "\n",
    "visualizeCounts('stalk-color-above-ring')"
   ]
  },
  {
   "cell_type": "code",
   "execution_count": null,
   "id": "a1c76e63",
   "metadata": {},
   "outputs": [],
   "source": [
    "valuePercentages('stalk-color-above-ring')"
   ]
  },
  {
   "cell_type": "code",
   "execution_count": null,
   "id": "63482dbb",
   "metadata": {},
   "outputs": [],
   "source": []
  },
  {
   "cell_type": "markdown",
   "id": "aae260ea",
   "metadata": {},
   "source": [
    "### Stalk Color Below Ring"
   ]
  },
  {
   "cell_type": "code",
   "execution_count": null,
   "id": "76acca43",
   "metadata": {},
   "outputs": [],
   "source": [
    "# 'Stalk Color Below Ring'\n",
    "\n",
    "visualizeCounts('stalk-color-below-ring')"
   ]
  },
  {
   "cell_type": "code",
   "execution_count": null,
   "id": "07ccbc82",
   "metadata": {},
   "outputs": [],
   "source": [
    "valuePercentages('stalk-color-below-ring')"
   ]
  },
  {
   "cell_type": "code",
   "execution_count": null,
   "id": "4e0c4ac3",
   "metadata": {},
   "outputs": [],
   "source": []
  },
  {
   "cell_type": "markdown",
   "id": "a39447df",
   "metadata": {},
   "source": [
    "### Veil Type"
   ]
  },
  {
   "cell_type": "code",
   "execution_count": null,
   "id": "d38fc9f9",
   "metadata": {},
   "outputs": [],
   "source": [
    "# 'Veil Type'\n",
    "\n",
    "visualizeCounts('veil-type')"
   ]
  },
  {
   "cell_type": "code",
   "execution_count": null,
   "id": "79d63756",
   "metadata": {},
   "outputs": [],
   "source": [
    "valuePercentages('veil-type')"
   ]
  },
  {
   "cell_type": "code",
   "execution_count": null,
   "id": "3a5f0da9",
   "metadata": {},
   "outputs": [],
   "source": []
  },
  {
   "cell_type": "markdown",
   "id": "e71b651b",
   "metadata": {},
   "source": [
    "### Veil Color"
   ]
  },
  {
   "cell_type": "code",
   "execution_count": null,
   "id": "cc25e56b",
   "metadata": {},
   "outputs": [],
   "source": [
    "# 'Veil Color'\n",
    "\n",
    "visualizeCounts('veil-color')"
   ]
  },
  {
   "cell_type": "code",
   "execution_count": null,
   "id": "0a6b6d2c",
   "metadata": {},
   "outputs": [],
   "source": [
    "valuePercentages('veil-color')"
   ]
  },
  {
   "cell_type": "code",
   "execution_count": null,
   "id": "aa56e2e6",
   "metadata": {},
   "outputs": [],
   "source": []
  },
  {
   "cell_type": "markdown",
   "id": "4269f007",
   "metadata": {},
   "source": [
    "### Ring Number"
   ]
  },
  {
   "cell_type": "code",
   "execution_count": null,
   "id": "0c341652",
   "metadata": {},
   "outputs": [],
   "source": [
    "# 'Ring Number'\n",
    "\n",
    "visualizeCounts('ring-number')"
   ]
  },
  {
   "cell_type": "code",
   "execution_count": null,
   "id": "578d79fc",
   "metadata": {},
   "outputs": [],
   "source": [
    "valuePercentages('ring-number')"
   ]
  },
  {
   "cell_type": "code",
   "execution_count": null,
   "id": "0853a246",
   "metadata": {},
   "outputs": [],
   "source": []
  },
  {
   "cell_type": "markdown",
   "id": "e3d287a3",
   "metadata": {},
   "source": [
    "### Ring Type"
   ]
  },
  {
   "cell_type": "code",
   "execution_count": null,
   "id": "d4808901",
   "metadata": {},
   "outputs": [],
   "source": [
    "# 'Ring Type'\n",
    "\n",
    "visualizeCounts('ring-type')"
   ]
  },
  {
   "cell_type": "code",
   "execution_count": null,
   "id": "bb57ca92",
   "metadata": {},
   "outputs": [],
   "source": [
    "valuePercentages('ring-type')"
   ]
  },
  {
   "cell_type": "code",
   "execution_count": null,
   "id": "2751cd98",
   "metadata": {},
   "outputs": [],
   "source": []
  },
  {
   "cell_type": "markdown",
   "id": "f98d4233",
   "metadata": {},
   "source": [
    "### Spore Print Color"
   ]
  },
  {
   "cell_type": "code",
   "execution_count": null,
   "id": "e8d8c34f",
   "metadata": {},
   "outputs": [],
   "source": [
    "# 'Spore Print Color'\n",
    "\n",
    "visualizeCounts('spore-print-color')"
   ]
  },
  {
   "cell_type": "code",
   "execution_count": null,
   "id": "48db094c",
   "metadata": {},
   "outputs": [],
   "source": [
    "valuePercentages('spore-print-color')"
   ]
  },
  {
   "cell_type": "code",
   "execution_count": null,
   "id": "118f9777",
   "metadata": {},
   "outputs": [],
   "source": []
  },
  {
   "cell_type": "markdown",
   "id": "898c991f",
   "metadata": {},
   "source": [
    "### Population"
   ]
  },
  {
   "cell_type": "code",
   "execution_count": null,
   "id": "327b5bd3",
   "metadata": {},
   "outputs": [],
   "source": [
    "# 'Population'\n",
    "\n",
    "visualizeCounts('population')"
   ]
  },
  {
   "cell_type": "code",
   "execution_count": null,
   "id": "7544c58e",
   "metadata": {},
   "outputs": [],
   "source": [
    "valuePercentages('population')"
   ]
  },
  {
   "cell_type": "code",
   "execution_count": null,
   "id": "abae69e0",
   "metadata": {},
   "outputs": [],
   "source": []
  },
  {
   "cell_type": "markdown",
   "id": "f5c3e315",
   "metadata": {},
   "source": [
    "### Habitat"
   ]
  },
  {
   "cell_type": "code",
   "execution_count": null,
   "id": "701750d2",
   "metadata": {},
   "outputs": [],
   "source": [
    "# 'Habitat'\n",
    "\n",
    "visualizeCounts('habitat')"
   ]
  },
  {
   "cell_type": "code",
   "execution_count": null,
   "id": "2681e190",
   "metadata": {},
   "outputs": [],
   "source": [
    "valuePercentages('habitat')"
   ]
  },
  {
   "cell_type": "code",
   "execution_count": null,
   "id": "608bad08",
   "metadata": {},
   "outputs": [],
   "source": []
  },
  {
   "cell_type": "markdown",
   "id": "1b7b1303",
   "metadata": {},
   "source": [
    "### Each Feature vs. Target Feature"
   ]
  },
  {
   "cell_type": "code",
   "execution_count": null,
   "id": "8a006715",
   "metadata": {
    "scrolled": false
   },
   "outputs": [],
   "source": [
    "for column in rawData.columns[1:]:\n",
    "    sns.countplot(data=rawData, x=column, hue='class')\n",
    "    plt.title(f\"Distribution of 'Class' per '{column}''\")\n",
    "    plt.show()"
   ]
  },
  {
   "cell_type": "code",
   "execution_count": null,
   "id": "564cfca8",
   "metadata": {},
   "outputs": [],
   "source": [
    "sns.countplot(data=rawData, x='cap-shape', hue='class')\n",
    "plt.title('Count Plot of \"Cap Shape\"')\n",
    "plt.show()"
   ]
  },
  {
   "cell_type": "markdown",
   "id": "8b1ca2a6",
   "metadata": {},
   "source": [
    "### Feature Correlation"
   ]
  },
  {
   "cell_type": "code",
   "execution_count": null,
   "id": "879dd429",
   "metadata": {},
   "outputs": [],
   "source": []
  },
  {
   "cell_type": "markdown",
   "id": "376b214f",
   "metadata": {},
   "source": [
    "## Machine Learning Intuition"
   ]
  },
  {
   "cell_type": "markdown",
   "id": "fa081ba7",
   "metadata": {},
   "source": [
    "Now that we have verified that the dataset is \"clean\" (no missing values, no duplicates, no typos, etc.), and have explored the distributions and relationships between them, it is time to think about how we should solve our problem of correctly predicting whether new mushrooms with certain attributes are poisonous or edible.  \n",
    "\n",
    "Since we are trying to predict which distinct category a new mushroom belongs to (being edible or poisonous), this is a Classification task.  \n",
    "\n",
    "Furthermore, since the attribute we are trying to predict has TWO categories, this is a Binary Classification task (compared to a multiclass problem)."
   ]
  },
  {
   "cell_type": "markdown",
   "id": "970919fc",
   "metadata": {},
   "source": [
    "Lastly, since all of our observations have an existing category assigned to them, they are all 'labeled', meaning we are dealing with a Supervised machine learning task. Therefore, we can summarize our task as being Supervised Binary Classification."
   ]
  },
  {
   "cell_type": "markdown",
   "id": "7f1ecee1",
   "metadata": {},
   "source": [
    "Now that we know the task we are trying to solve, we can think about which machine learning models we want to use. There are many popular Supervised Classification ML models that have various benefits and drawbacks. This project will give us an opportunity to compare a few of them and see which one performs the best with our data."
   ]
  },
  {
   "cell_type": "markdown",
   "id": "b858543e",
   "metadata": {},
   "source": [
    "The machine learning models we will be comparing in this project are:\n",
    "- Logistic Regression\n",
    "- K Nearest Neighbors Classifer\n",
    "- Support Vector Machine Classifier\n",
    "- Naive Bayes Classifer\n",
    "- Single Decision Tree  \n",
    "\n",
    "and a few Ensemble methods that build on Decision Trees including:\n",
    "- Random Forest Classifer\n",
    "- AdaBoost Classifer\n",
    "- Gradient Boost Classifer"
   ]
  },
  {
   "cell_type": "markdown",
   "id": "bfa08dfc",
   "metadata": {},
   "source": [
    "**Note:** We will save Neural Networks for a separate project!"
   ]
  },
  {
   "cell_type": "markdown",
   "id": "6eeda5f1",
   "metadata": {},
   "source": [
    "## Preprocessing"
   ]
  },
  {
   "cell_type": "code",
   "execution_count": null,
   "id": "1bffd292",
   "metadata": {},
   "outputs": [],
   "source": []
  },
  {
   "cell_type": "markdown",
   "id": "8795be23",
   "metadata": {},
   "source": [
    "## Model Creation and Training"
   ]
  },
  {
   "cell_type": "code",
   "execution_count": null,
   "id": "6f132271",
   "metadata": {},
   "outputs": [],
   "source": []
  },
  {
   "cell_type": "markdown",
   "id": "add6f855",
   "metadata": {},
   "source": [
    "## Model Evaluation"
   ]
  },
  {
   "cell_type": "code",
   "execution_count": null,
   "id": "c74ec9c2",
   "metadata": {},
   "outputs": [],
   "source": []
  },
  {
   "cell_type": "markdown",
   "id": "68a9b602",
   "metadata": {},
   "source": [
    "## Best Model Selection and Dataset Insights"
   ]
  },
  {
   "cell_type": "code",
   "execution_count": null,
   "id": "5e42bfca",
   "metadata": {},
   "outputs": [],
   "source": []
  },
  {
   "cell_type": "markdown",
   "id": "4e531853",
   "metadata": {},
   "source": [
    "## Model Generalization"
   ]
  },
  {
   "cell_type": "code",
   "execution_count": null,
   "id": "80902add",
   "metadata": {},
   "outputs": [],
   "source": []
  },
  {
   "cell_type": "markdown",
   "id": "b5838e2c",
   "metadata": {},
   "source": [
    "## Model Productionization"
   ]
  },
  {
   "cell_type": "code",
   "execution_count": null,
   "id": "3cdab8ac",
   "metadata": {},
   "outputs": [],
   "source": []
  },
  {
   "cell_type": "markdown",
   "id": "4d410f13",
   "metadata": {},
   "source": [
    "## Next Steps"
   ]
  },
  {
   "cell_type": "code",
   "execution_count": null,
   "id": "da09e262",
   "metadata": {},
   "outputs": [],
   "source": []
  }
 ],
 "metadata": {
  "kernelspec": {
   "display_name": "Python 3 (ipykernel)",
   "language": "python",
   "name": "python3"
  },
  "language_info": {
   "codemirror_mode": {
    "name": "ipython",
    "version": 3
   },
   "file_extension": ".py",
   "mimetype": "text/x-python",
   "name": "python",
   "nbconvert_exporter": "python",
   "pygments_lexer": "ipython3",
   "version": "3.9.12"
  }
 },
 "nbformat": 4,
 "nbformat_minor": 5
}
