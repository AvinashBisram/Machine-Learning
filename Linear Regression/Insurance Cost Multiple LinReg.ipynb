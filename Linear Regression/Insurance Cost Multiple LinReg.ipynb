{
 "cells": [
  {
   "cell_type": "markdown",
   "id": "bf07b2e1",
   "metadata": {},
   "source": [
    "# Predicting Insurance Costs with Multiple Linear Regression"
   ]
  },
  {
   "cell_type": "markdown",
   "id": "64e06943",
   "metadata": {},
   "source": [
    "# Project Introduction"
   ]
  },
  {
   "cell_type": "markdown",
   "id": "ae252892",
   "metadata": {},
   "source": [
    "This project will attempt to train a Machine Learning model that is capable of predicting insurance costs when given patient information (age, sex, bmi, number of children, and region of residence)."
   ]
  },
  {
   "cell_type": "markdown",
   "id": "64024997",
   "metadata": {},
   "source": [
    "# Importing our Data"
   ]
  },
  {
   "cell_type": "code",
   "execution_count": 1,
   "id": "39e52f4e",
   "metadata": {},
   "outputs": [],
   "source": [
    "# Import necessary modules\n",
    "import pandas as pd\n",
    "import numpy as np\n",
    "import seaborn as sns\n",
    "import matplotlib.pyplot as plt\n",
    "import sklearn"
   ]
  },
  {
   "cell_type": "code",
   "execution_count": 2,
   "id": "0eae72e4",
   "metadata": {},
   "outputs": [],
   "source": [
    "# Importing our dataset\n",
    "raw = pd.read_csv('./insurance.csv')"
   ]
  },
  {
   "cell_type": "code",
   "execution_count": 3,
   "id": "2a996e66",
   "metadata": {},
   "outputs": [],
   "source": [
    "# This data was found on Kaggle: https://www.kaggle.com/mirichoi0218/insurance"
   ]
  },
  {
   "cell_type": "markdown",
   "id": "1e07cdd3",
   "metadata": {},
   "source": [
    "# Exploratory Data Analysis"
   ]
  },
  {
   "cell_type": "markdown",
   "id": "49ad32d8",
   "metadata": {},
   "source": [
    "Before we can create a ML model capable of making predictions with our data, we need to understand our data. The goal of Exploratory Data Analysis is to gain a general idea of the types and format of data present in our dataset, and a very basic understanding of our dataset as a whole. During this process, we may also spot aspects of our data that need to be addressed in Data Cleaning as Machine Learning models typically require data to be in a very specific format."
   ]
  },
  {
   "cell_type": "code",
   "execution_count": 4,
   "id": "dcc68cca",
   "metadata": {},
   "outputs": [
    {
     "data": {
      "text/html": [
       "<div>\n",
       "<style scoped>\n",
       "    .dataframe tbody tr th:only-of-type {\n",
       "        vertical-align: middle;\n",
       "    }\n",
       "\n",
       "    .dataframe tbody tr th {\n",
       "        vertical-align: top;\n",
       "    }\n",
       "\n",
       "    .dataframe thead th {\n",
       "        text-align: right;\n",
       "    }\n",
       "</style>\n",
       "<table border=\"1\" class=\"dataframe\">\n",
       "  <thead>\n",
       "    <tr style=\"text-align: right;\">\n",
       "      <th></th>\n",
       "      <th>age</th>\n",
       "      <th>sex</th>\n",
       "      <th>bmi</th>\n",
       "      <th>children</th>\n",
       "      <th>smoker</th>\n",
       "      <th>region</th>\n",
       "      <th>charges</th>\n",
       "    </tr>\n",
       "  </thead>\n",
       "  <tbody>\n",
       "    <tr>\n",
       "      <th>0</th>\n",
       "      <td>19</td>\n",
       "      <td>female</td>\n",
       "      <td>27.900</td>\n",
       "      <td>0</td>\n",
       "      <td>yes</td>\n",
       "      <td>southwest</td>\n",
       "      <td>16884.92400</td>\n",
       "    </tr>\n",
       "    <tr>\n",
       "      <th>1</th>\n",
       "      <td>18</td>\n",
       "      <td>male</td>\n",
       "      <td>33.770</td>\n",
       "      <td>1</td>\n",
       "      <td>no</td>\n",
       "      <td>southeast</td>\n",
       "      <td>1725.55230</td>\n",
       "    </tr>\n",
       "    <tr>\n",
       "      <th>2</th>\n",
       "      <td>28</td>\n",
       "      <td>male</td>\n",
       "      <td>33.000</td>\n",
       "      <td>3</td>\n",
       "      <td>no</td>\n",
       "      <td>southeast</td>\n",
       "      <td>4449.46200</td>\n",
       "    </tr>\n",
       "    <tr>\n",
       "      <th>3</th>\n",
       "      <td>33</td>\n",
       "      <td>male</td>\n",
       "      <td>22.705</td>\n",
       "      <td>0</td>\n",
       "      <td>no</td>\n",
       "      <td>northwest</td>\n",
       "      <td>21984.47061</td>\n",
       "    </tr>\n",
       "    <tr>\n",
       "      <th>4</th>\n",
       "      <td>32</td>\n",
       "      <td>male</td>\n",
       "      <td>28.880</td>\n",
       "      <td>0</td>\n",
       "      <td>no</td>\n",
       "      <td>northwest</td>\n",
       "      <td>3866.85520</td>\n",
       "    </tr>\n",
       "  </tbody>\n",
       "</table>\n",
       "</div>"
      ],
      "text/plain": [
       "   age     sex     bmi  children smoker     region      charges\n",
       "0   19  female  27.900         0    yes  southwest  16884.92400\n",
       "1   18    male  33.770         1     no  southeast   1725.55230\n",
       "2   28    male  33.000         3     no  southeast   4449.46200\n",
       "3   33    male  22.705         0     no  northwest  21984.47061\n",
       "4   32    male  28.880         0     no  northwest   3866.85520"
      ]
     },
     "execution_count": 4,
     "metadata": {},
     "output_type": "execute_result"
    }
   ],
   "source": [
    "# Taking a look at the general format of our data\n",
    "\n",
    "raw.head()"
   ]
  },
  {
   "cell_type": "code",
   "execution_count": 5,
   "id": "779a50a1",
   "metadata": {},
   "outputs": [
    {
     "data": {
      "text/plain": [
       "(1338, 7)"
      ]
     },
     "execution_count": 5,
     "metadata": {},
     "output_type": "execute_result"
    }
   ],
   "source": [
    "# Checking how many total rows and columns are in our dataset\n",
    "\n",
    "raw.shape #1338 rows/records and 7 columns/features"
   ]
  },
  {
   "cell_type": "code",
   "execution_count": 6,
   "id": "8f5a6483",
   "metadata": {},
   "outputs": [
    {
     "name": "stdout",
     "output_type": "stream",
     "text": [
      "<class 'pandas.core.frame.DataFrame'>\n",
      "RangeIndex: 1338 entries, 0 to 1337\n",
      "Data columns (total 7 columns):\n",
      " #   Column    Non-Null Count  Dtype  \n",
      "---  ------    --------------  -----  \n",
      " 0   age       1338 non-null   int64  \n",
      " 1   sex       1338 non-null   object \n",
      " 2   bmi       1338 non-null   float64\n",
      " 3   children  1338 non-null   int64  \n",
      " 4   smoker    1338 non-null   object \n",
      " 5   region    1338 non-null   object \n",
      " 6   charges   1338 non-null   float64\n",
      "dtypes: float64(2), int64(2), object(3)\n",
      "memory usage: 73.3+ KB\n"
     ]
    }
   ],
   "source": [
    "# General overview of the types of data stored in our dataset (data-types and non-null counts)\n",
    "\n",
    "raw.info()"
   ]
  },
  {
   "cell_type": "code",
   "execution_count": 7,
   "id": "1db7c9f2",
   "metadata": {},
   "outputs": [
    {
     "data": {
      "text/html": [
       "<div>\n",
       "<style scoped>\n",
       "    .dataframe tbody tr th:only-of-type {\n",
       "        vertical-align: middle;\n",
       "    }\n",
       "\n",
       "    .dataframe tbody tr th {\n",
       "        vertical-align: top;\n",
       "    }\n",
       "\n",
       "    .dataframe thead th {\n",
       "        text-align: right;\n",
       "    }\n",
       "</style>\n",
       "<table border=\"1\" class=\"dataframe\">\n",
       "  <thead>\n",
       "    <tr style=\"text-align: right;\">\n",
       "      <th></th>\n",
       "      <th>count</th>\n",
       "      <th>mean</th>\n",
       "      <th>std</th>\n",
       "      <th>min</th>\n",
       "      <th>25%</th>\n",
       "      <th>50%</th>\n",
       "      <th>75%</th>\n",
       "      <th>max</th>\n",
       "    </tr>\n",
       "  </thead>\n",
       "  <tbody>\n",
       "    <tr>\n",
       "      <th>age</th>\n",
       "      <td>1338.0</td>\n",
       "      <td>39.207025</td>\n",
       "      <td>14.049960</td>\n",
       "      <td>18.0000</td>\n",
       "      <td>27.00000</td>\n",
       "      <td>39.000</td>\n",
       "      <td>51.000000</td>\n",
       "      <td>64.00000</td>\n",
       "    </tr>\n",
       "    <tr>\n",
       "      <th>bmi</th>\n",
       "      <td>1338.0</td>\n",
       "      <td>30.663397</td>\n",
       "      <td>6.098187</td>\n",
       "      <td>15.9600</td>\n",
       "      <td>26.29625</td>\n",
       "      <td>30.400</td>\n",
       "      <td>34.693750</td>\n",
       "      <td>53.13000</td>\n",
       "    </tr>\n",
       "    <tr>\n",
       "      <th>children</th>\n",
       "      <td>1338.0</td>\n",
       "      <td>1.094918</td>\n",
       "      <td>1.205493</td>\n",
       "      <td>0.0000</td>\n",
       "      <td>0.00000</td>\n",
       "      <td>1.000</td>\n",
       "      <td>2.000000</td>\n",
       "      <td>5.00000</td>\n",
       "    </tr>\n",
       "    <tr>\n",
       "      <th>charges</th>\n",
       "      <td>1338.0</td>\n",
       "      <td>13270.422265</td>\n",
       "      <td>12110.011237</td>\n",
       "      <td>1121.8739</td>\n",
       "      <td>4740.28715</td>\n",
       "      <td>9382.033</td>\n",
       "      <td>16639.912515</td>\n",
       "      <td>63770.42801</td>\n",
       "    </tr>\n",
       "  </tbody>\n",
       "</table>\n",
       "</div>"
      ],
      "text/plain": [
       "           count          mean           std        min         25%       50%  \\\n",
       "age       1338.0     39.207025     14.049960    18.0000    27.00000    39.000   \n",
       "bmi       1338.0     30.663397      6.098187    15.9600    26.29625    30.400   \n",
       "children  1338.0      1.094918      1.205493     0.0000     0.00000     1.000   \n",
       "charges   1338.0  13270.422265  12110.011237  1121.8739  4740.28715  9382.033   \n",
       "\n",
       "                   75%          max  \n",
       "age          51.000000     64.00000  \n",
       "bmi          34.693750     53.13000  \n",
       "children      2.000000      5.00000  \n",
       "charges   16639.912515  63770.42801  "
      ]
     },
     "execution_count": 7,
     "metadata": {},
     "output_type": "execute_result"
    }
   ],
   "source": [
    "# Basic statistical descriptions of our numeric columns\n",
    "\n",
    "raw.describe().transpose()"
   ]
  },
  {
   "cell_type": "code",
   "execution_count": 8,
   "id": "1ecc29fd",
   "metadata": {},
   "outputs": [
    {
     "data": {
      "text/plain": [
       "age           int64\n",
       "sex          object\n",
       "bmi         float64\n",
       "children      int64\n",
       "smoker       object\n",
       "region       object\n",
       "charges     float64\n",
       "dtype: object"
      ]
     },
     "execution_count": 8,
     "metadata": {},
     "output_type": "execute_result"
    }
   ],
   "source": [
    "# Looking at just our column datatypes\n",
    "\n",
    "raw.dtypes"
   ]
  },
  {
   "cell_type": "markdown",
   "id": "b404abc5",
   "metadata": {},
   "source": [
    "# Data Cleaning"
   ]
  },
  {
   "cell_type": "markdown",
   "id": "a5e27f4c",
   "metadata": {},
   "source": [
    "After performing Exploratory Data Analysis, it is now time for Data Cleaning. The goal of the Data Cleaning process is to prepare our data in a way that is compatible with Machine Learning models. This can include resolving inconsistent formatting (misspellings, incorrect data-types, and other issues that hinder our model from interacting properly with the data), removing duplicates (if the exact same information is present multiple times, that can skew our data and our final models ability to make accurate predictions), and most importantly: filling missing data. Most Machine Learning models are incapable of working with missing data so those instances need to be either filled or removed completely (these decisions are made with the help of domain experts)."
   ]
  },
  {
   "cell_type": "markdown",
   "id": "bef14865",
   "metadata": {},
   "source": [
    "## Fix inconsistent formatting"
   ]
  },
  {
   "cell_type": "markdown",
   "id": "42f8af5f",
   "metadata": {},
   "source": [
    "Inconsistent formatting is typically seen in data with the 'object' data-type which can refer to strings/text, combinations of letters and numeric characters, or data that may not be stored as the appropriate data-types due to errors while recording or uploading data. To find and resolve these formatting issues, we'll be looking at the unique values in each of our 'object' columns. Inconsistencies such as misspelling, varying letter casing, extra whitespace, etc., can cause data values that refer to the same thing to be recorded separately. If fed into our model as is, this can cause data leakage and inaccurate predictions as our model was trained on an inaccurate representation of our meaningful data."
   ]
  },
  {
   "cell_type": "code",
   "execution_count": 9,
   "id": "4921c08f",
   "metadata": {},
   "outputs": [
    {
     "data": {
      "text/plain": [
       "array(['female', 'male'], dtype=object)"
      ]
     },
     "execution_count": 9,
     "metadata": {},
     "output_type": "execute_result"
    }
   ],
   "source": [
    "# Unique values in 'sex' column\n",
    "raw['sex'].unique()\n",
    "\n",
    "# it looks like there are only two unique values and no issues with spelling nor formatting"
   ]
  },
  {
   "cell_type": "code",
   "execution_count": 10,
   "id": "aeaa00cb",
   "metadata": {},
   "outputs": [
    {
     "data": {
      "text/plain": [
       "array(['yes', 'no'], dtype=object)"
      ]
     },
     "execution_count": 10,
     "metadata": {},
     "output_type": "execute_result"
    }
   ],
   "source": [
    "# Unique values in 'smoker' column\n",
    "raw['smoker'].unique()\n",
    "\n",
    "# no apparent problems with formatting here (differences in uppercase vs. lowercase, misspellings, etc.)"
   ]
  },
  {
   "cell_type": "code",
   "execution_count": 11,
   "id": "013c3089",
   "metadata": {},
   "outputs": [
    {
     "data": {
      "text/plain": [
       "array(['southwest', 'southeast', 'northwest', 'northeast'], dtype=object)"
      ]
     },
     "execution_count": 11,
     "metadata": {},
     "output_type": "execute_result"
    }
   ],
   "source": [
    "# Unique values in 'region'\n",
    "raw['region'].unique()\n",
    "\n",
    "# no spelling or case inconsistencies"
   ]
  },
  {
   "cell_type": "markdown",
   "id": "6245c91e",
   "metadata": {},
   "source": [
    "## Remove duplicates"
   ]
  },
  {
   "cell_type": "markdown",
   "id": "477ce3a3",
   "metadata": {},
   "source": [
    "After we have resolved any formatting inconsistencies, it is now time to remove instances of duplicate data. We want to do this process after handling misspellings and other issues so we can identify records in our dataset that relate to the same object or signal. If we were to leave these duplicates in our dataset when training our model, this would result in a skewed representation of our real data (causing our model to be trained on an unrealistic representation of real-world data). It is important we identify and remove any duplicates present in our current dataset."
   ]
  },
  {
   "cell_type": "code",
   "execution_count": 12,
   "id": "b1f258fc",
   "metadata": {},
   "outputs": [
    {
     "data": {
      "text/plain": [
       "False    1337\n",
       "True        1\n",
       "dtype: int64"
      ]
     },
     "execution_count": 12,
     "metadata": {},
     "output_type": "execute_result"
    }
   ],
   "source": [
    "# Identifying duplicates\n",
    "\n",
    "# This method in combination with keep='first' identifies any records that contain duplicate values in EVERY column (after\n",
    "# the first instance). Those records are returned as 'True' while other records are returned as 'False'.\n",
    "\n",
    "raw.duplicated(keep='first').value_counts()\n",
    "\n",
    "# it looks like we have one duplicate in our dataset (using keep='first' excludes the first element in each duplicate set)"
   ]
  },
  {
   "cell_type": "code",
   "execution_count": 13,
   "id": "66059b21",
   "metadata": {},
   "outputs": [
    {
     "data": {
      "text/html": [
       "<div>\n",
       "<style scoped>\n",
       "    .dataframe tbody tr th:only-of-type {\n",
       "        vertical-align: middle;\n",
       "    }\n",
       "\n",
       "    .dataframe tbody tr th {\n",
       "        vertical-align: top;\n",
       "    }\n",
       "\n",
       "    .dataframe thead th {\n",
       "        text-align: right;\n",
       "    }\n",
       "</style>\n",
       "<table border=\"1\" class=\"dataframe\">\n",
       "  <thead>\n",
       "    <tr style=\"text-align: right;\">\n",
       "      <th></th>\n",
       "      <th>age</th>\n",
       "      <th>sex</th>\n",
       "      <th>bmi</th>\n",
       "      <th>children</th>\n",
       "      <th>smoker</th>\n",
       "      <th>region</th>\n",
       "      <th>charges</th>\n",
       "    </tr>\n",
       "  </thead>\n",
       "  <tbody>\n",
       "    <tr>\n",
       "      <th>581</th>\n",
       "      <td>19</td>\n",
       "      <td>male</td>\n",
       "      <td>30.59</td>\n",
       "      <td>0</td>\n",
       "      <td>no</td>\n",
       "      <td>northwest</td>\n",
       "      <td>1639.5631</td>\n",
       "    </tr>\n",
       "  </tbody>\n",
       "</table>\n",
       "</div>"
      ],
      "text/plain": [
       "     age   sex    bmi  children smoker     region    charges\n",
       "581   19  male  30.59         0     no  northwest  1639.5631"
      ]
     },
     "execution_count": 13,
     "metadata": {},
     "output_type": "execute_result"
    }
   ],
   "source": [
    "# Let's see which row that is\n",
    "\n",
    "raw[raw.duplicated()]\n",
    "\n",
    "# This row being returned means that there is another record in our dataset (before this one) that contains the same values in\n",
    "# every column. "
   ]
  },
  {
   "cell_type": "code",
   "execution_count": 14,
   "id": "6bf7722b",
   "metadata": {},
   "outputs": [
    {
     "data": {
      "text/html": [
       "<div>\n",
       "<style scoped>\n",
       "    .dataframe tbody tr th:only-of-type {\n",
       "        vertical-align: middle;\n",
       "    }\n",
       "\n",
       "    .dataframe tbody tr th {\n",
       "        vertical-align: top;\n",
       "    }\n",
       "\n",
       "    .dataframe thead th {\n",
       "        text-align: right;\n",
       "    }\n",
       "</style>\n",
       "<table border=\"1\" class=\"dataframe\">\n",
       "  <thead>\n",
       "    <tr style=\"text-align: right;\">\n",
       "      <th></th>\n",
       "      <th>age</th>\n",
       "      <th>sex</th>\n",
       "      <th>bmi</th>\n",
       "      <th>children</th>\n",
       "      <th>smoker</th>\n",
       "      <th>region</th>\n",
       "      <th>charges</th>\n",
       "    </tr>\n",
       "  </thead>\n",
       "  <tbody>\n",
       "    <tr>\n",
       "      <th>195</th>\n",
       "      <td>19</td>\n",
       "      <td>male</td>\n",
       "      <td>30.59</td>\n",
       "      <td>0</td>\n",
       "      <td>no</td>\n",
       "      <td>northwest</td>\n",
       "      <td>1639.5631</td>\n",
       "    </tr>\n",
       "    <tr>\n",
       "      <th>581</th>\n",
       "      <td>19</td>\n",
       "      <td>male</td>\n",
       "      <td>30.59</td>\n",
       "      <td>0</td>\n",
       "      <td>no</td>\n",
       "      <td>northwest</td>\n",
       "      <td>1639.5631</td>\n",
       "    </tr>\n",
       "  </tbody>\n",
       "</table>\n",
       "</div>"
      ],
      "text/plain": [
       "     age   sex    bmi  children smoker     region    charges\n",
       "195   19  male  30.59         0     no  northwest  1639.5631\n",
       "581   19  male  30.59         0     no  northwest  1639.5631"
      ]
     },
     "execution_count": 14,
     "metadata": {},
     "output_type": "execute_result"
    }
   ],
   "source": [
    "# Let's verify that there is more than one row with these exact values\n",
    "\n",
    "raw[(raw['age']==19) & (raw['sex']=='male') & (raw['bmi']==30.59)]\n",
    "\n",
    "# as we can see, we have two rows that contain the exact same value for every feature. Without a field indicating the name of \n",
    "# each patient or some form of unique patient identifier, we can't be sure that these two rows are really duplicates.\n",
    "# Regardless, removing the one duplicate row would probably not have a significant effect on the rest of our data (1337 other\n",
    "# rows), so let's go ahead and remove the one duplicate."
   ]
  },
  {
   "cell_type": "code",
   "execution_count": 15,
   "id": "fef21852",
   "metadata": {},
   "outputs": [],
   "source": [
    "# Removing the duplicate row\n",
    "\n",
    "raw = raw.drop_duplicates(keep='first')"
   ]
  },
  {
   "cell_type": "code",
   "execution_count": 16,
   "id": "7884a4e7",
   "metadata": {},
   "outputs": [
    {
     "data": {
      "text/plain": [
       "False    1337\n",
       "dtype: int64"
      ]
     },
     "execution_count": 16,
     "metadata": {},
     "output_type": "execute_result"
    }
   ],
   "source": [
    "# Checking how many duplicate rows we have now\n",
    "\n",
    "raw.duplicated().value_counts() # Now we have no True values indicating all duplicates are removed"
   ]
  },
  {
   "cell_type": "code",
   "execution_count": 17,
   "id": "d3f2023d",
   "metadata": {},
   "outputs": [
    {
     "data": {
      "text/plain": [
       "1337"
      ]
     },
     "execution_count": 17,
     "metadata": {},
     "output_type": "execute_result"
    }
   ],
   "source": [
    "# If the drop duplicates worked, we should have one less row in our total dataset (1338-1=1337). Let's confirm that.\n",
    "\n",
    "len(raw) # As expected, we now have 1337 records in our dataset instead of the original 1338."
   ]
  },
  {
   "cell_type": "code",
   "execution_count": 18,
   "id": "3dab27c4",
   "metadata": {},
   "outputs": [
    {
     "data": {
      "text/html": [
       "<div>\n",
       "<style scoped>\n",
       "    .dataframe tbody tr th:only-of-type {\n",
       "        vertical-align: middle;\n",
       "    }\n",
       "\n",
       "    .dataframe tbody tr th {\n",
       "        vertical-align: top;\n",
       "    }\n",
       "\n",
       "    .dataframe thead th {\n",
       "        text-align: right;\n",
       "    }\n",
       "</style>\n",
       "<table border=\"1\" class=\"dataframe\">\n",
       "  <thead>\n",
       "    <tr style=\"text-align: right;\">\n",
       "      <th></th>\n",
       "      <th>age</th>\n",
       "      <th>sex</th>\n",
       "      <th>bmi</th>\n",
       "      <th>children</th>\n",
       "      <th>smoker</th>\n",
       "      <th>region</th>\n",
       "      <th>charges</th>\n",
       "    </tr>\n",
       "  </thead>\n",
       "  <tbody>\n",
       "    <tr>\n",
       "      <th>195</th>\n",
       "      <td>19</td>\n",
       "      <td>male</td>\n",
       "      <td>30.59</td>\n",
       "      <td>0</td>\n",
       "      <td>no</td>\n",
       "      <td>northwest</td>\n",
       "      <td>1639.5631</td>\n",
       "    </tr>\n",
       "  </tbody>\n",
       "</table>\n",
       "</div>"
      ],
      "text/plain": [
       "     age   sex    bmi  children smoker     region    charges\n",
       "195   19  male  30.59         0     no  northwest  1639.5631"
      ]
     },
     "execution_count": 18,
     "metadata": {},
     "output_type": "execute_result"
    }
   ],
   "source": [
    "# Finally, let's repeat the query we made above to view the duplicated rows. Now, only one row should be returned.\n",
    "\n",
    "raw[(raw['age']==19) & (raw['sex']=='male') & (raw['bmi']==30.59)]\n",
    "\n",
    "# Only one row was returned, so can be sure that our duplicate row was removed."
   ]
  },
  {
   "cell_type": "markdown",
   "id": "6a0434d8",
   "metadata": {},
   "source": [
    "## Identify Missing data"
   ]
  },
  {
   "cell_type": "markdown",
   "id": "e1d4d4e4",
   "metadata": {},
   "source": [
    "The next step in the Data Cleaning process is to identify missing data. Intuitively, training our machine model requires that it forms relationships between each of our independent features and our target outcome (the 'charges' column in this case which represents total insurance costs). To do this, our model observes how well changes in the values of each independent feature column explains changes in our target outcome. Training a good model (especially when data is very complex and has many records and possible features for each one) takes resources (time, space, and money). If one of our columns was filled with missing data, it would not make sense to train our model with it as there is too little information to observe a relationship between those values and our target outcome. Often the existence of missing values indicates human error during the data recording process. It doesn't always mean the value is unknown, but might rather be conveying information in itself (perhaps implying a value of 0 or none for a feature that tracks quantity). In those cases, the Machine Learning Engineer will work together with a Domain Expert (relating to our dataset) to identify the best ways of filling any missing data using a variety of methods. Once all possible values are filled, remaining missing data must be removed as most models are simply incapable of being trained on them (in most cases)."
   ]
  },
  {
   "cell_type": "code",
   "execution_count": 19,
   "id": "c47713eb",
   "metadata": {},
   "outputs": [
    {
     "data": {
      "text/plain": [
       "age         0\n",
       "sex         0\n",
       "bmi         0\n",
       "children    0\n",
       "smoker      0\n",
       "region      0\n",
       "charges     0\n",
       "dtype: int64"
      ]
     },
     "execution_count": 19,
     "metadata": {},
     "output_type": "execute_result"
    }
   ],
   "source": [
    "# Now let's identify any columns with missing data.\n",
    "\n",
    "raw.isnull().sum().sort_values()"
   ]
  },
  {
   "cell_type": "markdown",
   "id": "604ea85f",
   "metadata": {},
   "source": [
    "It looks like none of our columns have missing data. If they did, we would have to handle those cases by either dropping columns, filling the missing values, or dropping rows (since we can't have missing values in our Machine Learning model)."
   ]
  },
  {
   "cell_type": "markdown",
   "id": "6f7d2fd0",
   "metadata": {},
   "source": [
    "## Handle Missing Data"
   ]
  },
  {
   "cell_type": "markdown",
   "id": "c9c3b251",
   "metadata": {},
   "source": [
    "Since in our previous step we didn't return any instances of missing data, this step is already completed. If there were missing values present in our dataset, we likely wouldn't possess the knowledge needed to decide how to fill them. We would need to consult with a domain expert (possible an insurance agent or medical expert) to decide how we can approximate those missing values in a way that still accurately represents the information within so our model can make accurate predictions based on it."
   ]
  },
  {
   "cell_type": "markdown",
   "id": "3714f0a1",
   "metadata": {},
   "source": [
    "# Visualization"
   ]
  },
  {
   "cell_type": "markdown",
   "id": "11f0bc1e",
   "metadata": {},
   "source": [
    "Now that our data is in a form that is without duplicates or formatting issues, and also has no missing values, we proceed to Visualization. The goal of this process is to gain a better understanding of how values and features of our data are represented in the dataset. We also seek to learn about the relationships between each independent feature and our target outcome so we can choose the appropriate model. "
   ]
  },
  {
   "cell_type": "markdown",
   "id": "154531c4",
   "metadata": {},
   "source": [
    "## Visualizing the distribution of features in our dataset"
   ]
  },
  {
   "cell_type": "markdown",
   "id": "1f4f8f92",
   "metadata": {},
   "source": [
    "The first step is to visualize the distributions of each feature within our dataset. This includes the column of outcomes we are trying to predict (charges) as well as the other independent features (other columns). We want to know if different values have relatively the same frequencies, if values are concentrated together, and the ranges of values that exist in our dataset."
   ]
  },
  {
   "cell_type": "code",
   "execution_count": 20,
   "id": "a77666c1",
   "metadata": {},
   "outputs": [
    {
     "data": {
      "image/png": "[encoded data removed]",
      "text/plain": [
       "<Figure size 432x288 with 1 Axes>"
      ]
     },
     "metadata": {
      "needs_background": "light"
     },
     "output_type": "display_data"
    }
   ],
   "source": [
    "# Visualizing the distribution of age\n",
    "\n",
    "plt.title('Age Distribution')\n",
    "sns.histplot(x=raw['age'], bins=23)\n",
    "plt.show()\n",
    "\n",
    "# Since the data-type of the age columns is 'int' we know we are dealing with discrete quantitative data.\n",
    "\n",
    "# It appears we have a relatively even distribution of values for this feature with the exception of a large concentration\n",
    "# of values below the age of 20. "
   ]
  },
  {
   "cell_type": "code",
   "execution_count": 21,
   "id": "ca8c1a70",
   "metadata": {},
   "outputs": [
    {
     "data": {
      "image/png": "[encoded data removed]",
      "text/plain": [
       "<Figure size 432x288 with 1 Axes>"
      ]
     },
     "metadata": {
      "needs_background": "light"
     },
     "output_type": "display_data"
    }
   ],
   "source": [
    "# Visualizing the distribution of sex\n",
    "\n",
    "plt.title('Sex Distribution')\n",
    "sns.countplot(x=raw['sex'])\n",
    "plt.show()\n",
    "\n",
    "# With our 'sex' column having a data-type of 'object' (or string) we can see that this column represents categorical data.\n",
    "\n",
    "# We can see that there are only two distinct values {male, female} and each one holds relatively the same importance,\n",
    "# so we know we are looking at symmetric binary qualitative data. Each value has roughly the same count in our dataset\n",
    "# so they are equally disributed."
   ]
  },
  {
   "cell_type": "code",
   "execution_count": 22,
   "id": "1069d60d",
   "metadata": {},
   "outputs": [
    {
     "data": {
      "image/png": "[encoded data removed]",
      "text/plain": [
       "<Figure size 432x288 with 1 Axes>"
      ]
     },
     "metadata": {
      "needs_background": "light"
     },
     "output_type": "display_data"
    }
   ],
   "source": [
    "# Visualizing the distribution of bmi\n",
    "\n",
    "plt.title('BMI Distribution')\n",
    "sns.histplot(x=raw['bmi'], kde=True)\n",
    "plt.show()\n",
    "\n",
    "# The data-type of this column is 'float' so we know this feature represents continuous quantitative data.\n",
    "# By drawing the Kernel-Density Estimation (KDE), we can see the values are normally distributed."
   ]
  },
  {
   "cell_type": "code",
   "execution_count": 23,
   "id": "c2045491",
   "metadata": {},
   "outputs": [
    {
     "data": {
      "image/png": "[encoded data removed]",
      "text/plain": [
       "<Figure size 432x288 with 1 Axes>"
      ]
     },
     "metadata": {
      "needs_background": "light"
     },
     "output_type": "display_data"
    }
   ],
   "source": [
    "# Visualizing the distribution of children\n",
    "\n",
    "plt.title('Children Distribution')\n",
    "sns.countplot(x=raw['children'])\n",
    "plt.xlabel('Number of Children')\n",
    "plt.show()\n",
    "\n",
    "# The data-type of this column is 'int' but it contains more than 2 possible values so it can refer either to discrete\n",
    "# quantitative data or ordinal qualitative data (if it only had two values such as 0 and 1 it would be binary qualitative data).\n",
    "\n",
    "# The possible values for number of children are not countably infinite so we can say that this feature represents ordinal \n",
    "# qualitative data (there are different categories and there is a natural ordering between these values - we can compare the \n",
    "# number of children people have as being more or less).\n",
    "\n",
    "# By visualizing the relative distribution of each possible value, we can see that the values are unevenly distributed.\n",
    "# Values representing lower numbers of children are more frequent in the dataset compared to those of higher numbers."
   ]
  },
  {
   "cell_type": "code",
   "execution_count": 24,
   "id": "eb50d74f",
   "metadata": {},
   "outputs": [
    {
     "data": {
      "image/png": "[encoded data removed]",
      "text/plain": [
       "<Figure size 432x288 with 1 Axes>"
      ]
     },
     "metadata": {
      "needs_background": "light"
     },
     "output_type": "display_data"
    }
   ],
   "source": [
    "# Visualizing the distribution of smoker\n",
    "\n",
    "plt.title('Smoker Distribution')\n",
    "sns.countplot(x=raw['smoker'])\n",
    "plt.show()\n",
    "\n",
    "# The data-type of this column is 'object' and there are only 2 possible values so we know we are looking at binary \n",
    "# qualitative data. It can be said that a value of 'yes' is more important than a value of 'no' in this case so we can say\n",
    "# that this feature represents asymmetric binary qualitative data.\n",
    "\n",
    "# There is an unequal distribution of values in this feature as there are much more 'no' values compared to 'yes' values."
   ]
  },
  {
   "cell_type": "code",
   "execution_count": 25,
   "id": "527654ec",
   "metadata": {},
   "outputs": [
    {
     "data": {
      "image/png": "[encoded data removed]",
      "text/plain": [
       "<Figure size 432x288 with 1 Axes>"
      ]
     },
     "metadata": {
      "needs_background": "light"
     },
     "output_type": "display_data"
    }
   ],
   "source": [
    "# Visualizing the distribution of region\n",
    "\n",
    "plt.title('Region Distribution')\n",
    "sns.countplot(x=raw['region'])\n",
    "plt.show()\n",
    "\n",
    "# The data-type of this column is 'object' and there are 4 possible values. There is no natural ordering of these values so \n",
    "# this feature represents nominal qualitative data.\n",
    "\n",
    "# The values in this feature are equally distributed as they all have similar frequencies in this dataset. The value of \n",
    "# 'southeast' has a sligthly higher frequency than the others."
   ]
  },
  {
   "cell_type": "code",
   "execution_count": 26,
   "id": "36c08e69",
   "metadata": {},
   "outputs": [
    {
     "data": {
      "image/png": "[encoded data removed]",
      "text/plain": [
       "<Figure size 432x288 with 1 Axes>"
      ]
     },
     "metadata": {
      "needs_background": "light"
     },
     "output_type": "display_data"
    }
   ],
   "source": [
    "# Visualizing the distribution of charges\n",
    "\n",
    "plt.title('Charge Distribution')\n",
    "sns.histplot(x=raw['charges'], bins=30)\n",
    "plt.show()\n",
    "\n",
    "# The data-type of this column is 'float' so this feature represents continuous quantitative data.\n",
    "\n",
    "# It appears the values in this feature are not normally distributed but rather positively-skewed (right-skewed).\n",
    "# Lower values of 'charges' have much higher frequencies in this dataset compared to higher values. "
   ]
  },
  {
   "cell_type": "markdown",
   "id": "29da0eb5",
   "metadata": {},
   "source": [
    "## Visualizing the correlation of columns to our target outcome (charges)"
   ]
  },
  {
   "cell_type": "markdown",
   "id": "bcd765eb",
   "metadata": {},
   "source": [
    "Now that we have an understanding of how the values of each feature are distributed in our dataset, we want to pay closer attention to the relationship between each independent feature and our target outcome. We are looking to see how well the behavior of each feature can explain the behavior of insurance costs. The observation of that behavior or relationship between features is known as correlation. Features that are highly correlated to our outcome will have a higher overall impact in our final model when making predictions."
   ]
  },
  {
   "cell_type": "code",
   "execution_count": 27,
   "id": "30d8adf6",
   "metadata": {},
   "outputs": [
    {
     "data": {
      "text/plain": [
       "age         0.298308\n",
       "bmi         0.198401\n",
       "children    0.067389\n",
       "Name: charges, dtype: float64"
      ]
     },
     "execution_count": 27,
     "metadata": {},
     "output_type": "execute_result"
    }
   ],
   "source": [
    "# Using Pandas .corr() method. Unfortunately, this only works for numeric features.\n",
    "\n",
    "raw.corr()['charges'].drop('charges')"
   ]
  },
  {
   "cell_type": "code",
   "execution_count": 28,
   "id": "a2e55ad5",
   "metadata": {},
   "outputs": [
    {
     "data": {
      "image/png": "[encoded data removed]",
      "text/plain": [
       "<Figure size 432x288 with 1 Axes>"
      ]
     },
     "metadata": {
      "needs_background": "light"
     },
     "output_type": "display_data"
    }
   ],
   "source": [
    "# Age\n",
    "\n",
    "plt.title(\"Correlation of Age and Charges\")\n",
    "sns.scatterplot(x=raw['age'], y=raw['charges'])\n",
    "plt.show()\n",
    "\n",
    "# This scatterplot illustrates a very interesting relationship between 'age' and 'charges'. We can see a general behavior of\n",
    "# charges increasing as age increases. However, we can also observe these separated groups of points. Disregarding the\n",
    "# outliers, it seems that for each age there is a range of 400000 values which the charge can be found in. As age increases,\n",
    "# this general range of charge also appears to increase. The existence of these separated bands or groups imply that there \n",
    "# may be another important feature that is contributing to this relationship."
   ]
  },
  {
   "cell_type": "code",
   "execution_count": 29,
   "id": "fddda1c4",
   "metadata": {},
   "outputs": [
    {
     "data": {
      "image/png": "[encoded data removed]",
      "text/plain": [
       "<Figure size 432x288 with 1 Axes>"
      ]
     },
     "metadata": {
      "needs_background": "light"
     },
     "output_type": "display_data"
    }
   ],
   "source": [
    "# Sex\n",
    "\n",
    "plt.title(\"Correlation of Sex and Charges\")\n",
    "sns.boxplot(x=raw['sex'], y=raw['charges'])\n",
    "plt.show()\n",
    "\n",
    "# Since the 'sex' feature represents categorical data, we use a box plot to observe the relationship with charges. \n",
    "# The main body of these plots (the boxes) contain the interquartile range of the values. The horizontal lines indicate\n",
    "# the minimum and maximum values while the diamonds indicate outliers. \n",
    "\n",
    "# If we include the outliers, both males and females seem to stay in the same relative range of charges. However, if we \n",
    "# remove the outliers, we can see that males can expect a slighly larger range (the horizontal line indicating the maximum\n",
    "# value is higher than that of the female category). The main box body indicating the interquartile range is perhaps\n",
    "# the most important feature we should be looking at. It appears that both categories have relatively the same first quartile\n",
    "# and median value while the male category has a slightly higher third quartile value.\n",
    "\n",
    "# Overall, the ranges seem to be relatively similar between categories but it can be said that males have a slighlty larger\n",
    "# range of expected charges than females."
   ]
  },
  {
   "cell_type": "code",
   "execution_count": 30,
   "id": "d79bf52f",
   "metadata": {},
   "outputs": [
    {
     "data": {
      "image/png": "[encoded data removed]",
      "text/plain": [
       "<Figure size 432x288 with 1 Axes>"
      ]
     },
     "metadata": {
      "needs_background": "light"
     },
     "output_type": "display_data"
    }
   ],
   "source": [
    "# BMI\n",
    "\n",
    "plt.title(\"Correlation of BMI and Charges\")\n",
    "sns.scatterplot(x=raw['bmi'], y=raw['charges'])\n",
    "plt.show()\n",
    "\n",
    "# Since BMI represents a quantitative variable, we use a scatterplot to visualize the relationship with charges.\n",
    "# We can see that the left side of our plot has a tighter concentration of points compared to the right side. \n",
    "# A general trend we can explain is that as bmi increases, the range of possible charges values also increase.\n",
    "# Regardless of bmi value, there remains many values for charges concentrated between 0 and 20000. As bmi increases, the range\n",
    "# of charges also increases and once the bmi surpasses ~30, it appears that a separate higher charge group appears with values\n",
    "# concentrated between 30000 and 50000. Perhaps there is another feature that explains the appearance of that second cluster."
   ]
  },
  {
   "cell_type": "code",
   "execution_count": 31,
   "id": "6de310de",
   "metadata": {},
   "outputs": [
    {
     "data": {
      "image/png": "[encoded data removed]",
      "text/plain": [
       "<Figure size 720x432 with 1 Axes>"
      ]
     },
     "metadata": {
      "needs_background": "light"
     },
     "output_type": "display_data"
    }
   ],
   "source": [
    "# Children \n",
    "\n",
    "plt.figure(figsize=(10,6))\n",
    "plt.title(\"Correlation of Number of Children and Charges\")\n",
    "sns.boxplot(x=raw['children'], y=raw['charges'])\n",
    "plt.show()\n",
    "\n",
    "# Since 'children' is a categorical column, we use boxplots to observe the relationship with 'charges'.\n",
    "# The interquartile range (middle 50% of data) for each possible value of 'children' appear to be relatively the same.\n",
    "# The lower values of children have much more outliers than higher values. Children values of {2,3} have higher third-quartile\n",
    "# values than the other categories. Between values of 0 and 3, the general trend is that higher values for children relate\n",
    "# to larger ranges of charges. Values for children that are higher than 3 have smaller ranges than the rest and are located\n",
    "# near the bottom of the plot (lower possible values for charges)."
   ]
  },
  {
   "cell_type": "code",
   "execution_count": 32,
   "id": "f2169e09",
   "metadata": {},
   "outputs": [
    {
     "data": {
      "image/png": "[encoded data removed]",
      "text/plain": [
       "<Figure size 432x288 with 1 Axes>"
      ]
     },
     "metadata": {
      "needs_background": "light"
     },
     "output_type": "display_data"
    }
   ],
   "source": [
    "# Smoker\n",
    "\n",
    "plt.show(\"Correlation of Smoker and Charges\")\n",
    "sns.boxplot(x=raw['smoker'], y=raw['charges'])\n",
    "plt.show()\n",
    "\n",
    "# Here we can see a very clear relationship between different values in the \"smoker\" column and varying values of \"charges\".\n",
    "# We have 2 distinct values for \"smoker\" : yes and no. Records where the value of smoker is 'yes' have higher average\n",
    "# values for charges as well as a large range of possible values. Record with a smoker value of 'no' have lower average\n",
    "# values for charges. This relationship can be clearly seen with our box plots as the IQR or main box body of the 'yes'\n",
    "# value for smoker is higher than that of \"no\". Since the main box body of the \"no\" value is smaller, we can say that the\n",
    "# possible values for \"charges\" is more concentrated while the box of \"yes\" is longer meaning the inter-quartile range\n",
    "# is wider."
   ]
  },
  {
   "cell_type": "code",
   "execution_count": 33,
   "id": "c74c3345",
   "metadata": {},
   "outputs": [
    {
     "data": {
      "image/png": "[encoded data removed]",
      "text/plain": [
       "<Figure size 576x360 with 1 Axes>"
      ]
     },
     "metadata": {
      "needs_background": "light"
     },
     "output_type": "display_data"
    }
   ],
   "source": [
    "# Region\n",
    "\n",
    "plt.figure(figsize=(8,5))\n",
    "plt.title(\"Correlation of Region and Charges\")\n",
    "sns.boxplot(x=raw['region'], y=raw['charges'])\n",
    "plt.show()\n",
    "\n",
    "# If we include outliers, the range of possible values for \"charges\" is relatively the same regardless of \"region\" value.\n",
    "# If we remove outliers, we can see that records with regions of \"southeast\" have a higher maximum charge value compared to \n",
    "# other regions. Records with a region of \"northeast\" can expect the next highest range for charges while \"southwest\" and\n",
    "# \"northwest\" regions can expect relatively the same range of charge values. The main box body (IQR) of \"southeast\" is larger\n",
    "# than other regions so it can be said that records with a region of \"southeast\" can expect higher average values for \"charges\"\n",
    "# as well."
   ]
  },
  {
   "cell_type": "markdown",
   "id": "a96f9ee5",
   "metadata": {},
   "source": [
    "# Data Transformation"
   ]
  },
  {
   "cell_type": "markdown",
   "id": "3f7f1aa3",
   "metadata": {},
   "source": [
    "Now that we have visualized our features and observed their relationships with our target outcome, we need to further prepare our data to be compatible with our machine learning model. Since our target outcome ('charges') is a continuous variable (contains decimal values), we know we want to use some sort of Regression model. There are many types of Regression models that we can use such as a Linear model, Polynomial Model, or Random Forest Regressor but all of these models require our independent features to be of numeric data-types. A few of our features are already numeric like 'age' and 'bmi' but we also have categorical features such as 'smoker' and 'region' which have values in object form. Before feeding our data into a Regression model, we need to convert these categorical features to contain numeric values instead of strings.  \n",
    "<br>\n",
    "We can accomplish this goal in one of two ways. Option 1 is to use categorical codes to translate possible values of each feature into an integer. This is done with the ```pd.Series.cat.codes``` method but it has a major drawback. Using cat codes assigns each possible value (in each feature) an integer starting from 0 and incrementing by 1 for each subsequent value i.e. the values of the 'region' column might be converted as 'southwest'=0, 'southeast'=1, 'northwest'=2, and 'northeast'=3. While this method does accomplish our goal in converted the different values to numeric ones, it also implies an ordering of values. 0 is less than 1 and 1 is less than 2 but we can't say that a region of 'southwest' is _less than_ a region of 'southeast'. Unfortunately, our model would view the data in that way which would create an inaccurate relationship between values in each categorical feature.  \n",
    "<br>\n",
    "Our other option for converting categorical values is to use ```pd.get_dummies()```. This method creates new columns for every possible value of each categorical feature and then assigns those values to be either 0 or 1 to indicate the original value. To use our 'region' example, this method would break the feature into four columns: region_southwest, region_southeast, etc. If the 'region' value of a record was 'southeast', the value for that new column would be 1 while the other region columns would be 0. This allows us to convert our categorical data into numeric values without implying any unnecessary ordering between values. This method does have an issue where if a categorical feature has 50 possible values, 50 new columns would be created (now imagine if we have 20 of these features). Our dataset would become very complex and would need much more space to store the new data. This is a trade-off we need to think about when creating a Machine Learning model though (is a small improvement in our final models accuracy worth creating dozens if not hundreds of new features in our dataset).  \n",
    "<br>\n",
    "To address this problem, one might want to perform Principal Component Analysis (PCA) to drastically reduce the number of features in our dataset (with the cost of lower prediction accuracy). We won't be doing that in this project since we only have a few categorical columns each with a small number of possible values, but it is worth mentioning that these strategies exist to help resolve some of the issues being discussed here.  \n",
    "<br>\n",
    "We will begin the process of converting our categorical features to numeric ones by using ```pd.get_dummies()```."
   ]
  },
  {
   "cell_type": "code",
   "execution_count": 34,
   "id": "a029fd15",
   "metadata": {},
   "outputs": [
    {
     "data": {
      "text/plain": [
       "sex       object\n",
       "smoker    object\n",
       "region    object\n",
       "dtype: object"
      ]
     },
     "execution_count": 34,
     "metadata": {},
     "output_type": "execute_result"
    }
   ],
   "source": [
    "# Identifying our features with the 'object' datatype.\n",
    "\n",
    "raw.dtypes[raw.dtypes=='object']"
   ]
  },
  {
   "cell_type": "code",
   "execution_count": 35,
   "id": "58a91c61",
   "metadata": {},
   "outputs": [],
   "source": [
    "# Calling get_dummies on our entire dataframe is the same as calling it on each categorical column.\n",
    "# We set drop_first to 'True' to remove the first dummy column of each converted feature. The intuition behind this is that\n",
    "# only one dummy column per feature can have a value of 1. So, if we know the values of the other dummy columns to be 0, we \n",
    "# know the last dummy column must have a value of 1. This follow for any combination of values (0s or 1s). Our model will\n",
    "# know this too so we can drop the first dummy column of each feature and save a little space in our dataset.\n",
    "# This also prevents the 'Dummy Variable Trap' which is the unnecessary duplication of known information within our dataset.\n",
    "\n",
    "raw = pd.get_dummies(raw, drop_first=True)"
   ]
  },
  {
   "cell_type": "code",
   "execution_count": 36,
   "id": "c34c2387",
   "metadata": {},
   "outputs": [
    {
     "data": {
      "text/plain": [
       "smoker_yes          0.787234\n",
       "age                 0.298308\n",
       "bmi                 0.198401\n",
       "region_southeast    0.073578\n",
       "children            0.067389\n",
       "sex_male            0.058044\n",
       "region_northwest   -0.038695\n",
       "region_southwest   -0.043637\n",
       "Name: charges, dtype: float64"
      ]
     },
     "execution_count": 36,
     "metadata": {},
     "output_type": "execute_result"
    }
   ],
   "source": [
    "# Now that all of our columns contain numeric data, we can repeat .corr() like before but now we should see all columns.\n",
    "# Correlation between features and target outcome (charges)\n",
    "\n",
    "raw.corr()['charges'].drop('charges').sort_values(ascending=False)\n",
    "\n",
    "# Like we predicted when viewing our visualizations, changes in 'smoker' values is highly correlated to changes in 'charges'.\n",
    "# 'age' and 'bmi' also seem to have relatively important positive correlations. Some of our features actually have negative\n",
    "# correlations with 'charges' All of the other features have relatively insignificant correlations compared to the top three."
   ]
  },
  {
   "cell_type": "code",
   "execution_count": 37,
   "id": "c6eaae17",
   "metadata": {},
   "outputs": [
    {
     "data": {
      "text/plain": [
       "smoker_yes          0.787234\n",
       "age                 0.298308\n",
       "bmi                 0.198401\n",
       "region_southeast    0.073578\n",
       "children            0.067389\n",
       "sex_male            0.058044\n",
       "region_southwest    0.043637\n",
       "region_northwest    0.038695\n",
       "Name: charges, dtype: float64"
      ]
     },
     "execution_count": 37,
     "metadata": {},
     "output_type": "execute_result"
    }
   ],
   "source": [
    "# Absolute value correlation between features and target outcome (charges)\n",
    "\n",
    "abs(pd.get_dummies(raw, drop_first=True).corr()['charges'].drop('charges')).sort_values(ascending=False)\n",
    "\n",
    "# We also look at the absolute value correlations to get a better idea of the overall impact each feature has on 'charges'\n",
    "# regardless of being positive or negative. It seems there isn't much change with our ordering here as the other features\n",
    "# had very small correlation values already."
   ]
  },
  {
   "cell_type": "code",
   "execution_count": 38,
   "id": "fb50df62",
   "metadata": {},
   "outputs": [
    {
     "data": {
      "image/png": "[encoded data removed]",
      "text/plain": [
       "<Figure size 864x576 with 2 Axes>"
      ]
     },
     "metadata": {
      "needs_background": "light"
     },
     "output_type": "display_data"
    }
   ],
   "source": [
    "# Visualizing ALL correlations with a heatmap\n",
    "\n",
    "plt.figure(figsize=(12,8))\n",
    "sns.heatmap(pd.get_dummies(raw, drop_first=True).corr(), annot=True)\n",
    "plt.show()\n",
    "\n",
    "# This visualization helps us understand the correlations shared between ALL features (not just our target outcome).\n",
    "# We don't gain a whole lot of new information here besides the fact that different regions are negatively correlated with\n",
    "# each other (which makes sense since people can't live in two different regions). \n",
    "\n",
    "# Another interesting relationship we can see which we didn't know before was the relatively significant correlation between\n",
    "# BMI and region_southeast. Remember before when we used a scatterplot to visualize BMI and Charges, we saw that there was\n",
    "# a strange cluster of points near the top of the plot which we suggested was caused by interaction with another feature.\n",
    "# It's possible that this relationship with a region value of \"southeast\" explains that cluster (also remember that a region\n",
    "# value of 'southeast' had a larger range of possible charge values compared to other regions)."
   ]
  },
  {
   "cell_type": "markdown",
   "id": "81f761db",
   "metadata": {},
   "source": [
    "After completing this step, we now have all categorical features converted to numeric data. We are now ready to create our machine learning model and train it to (hopefully) make relatively accurate predictions. We were also able to visualize the correlations between all columns now that everything is numeric. We can assume that 'smoker', 'age', and 'bmi' features will likely have the most significant impact in our final model based on their high correlations with charges. After we create and optimize our model, we will look at the exact coefficients it assigned to each feature and see which ones it deemed to be most important (and least important) for making its predictions."
   ]
  },
  {
   "cell_type": "markdown",
   "id": "7878a2bf",
   "metadata": {},
   "source": [
    "# Preprocessing"
   ]
  },
  {
   "cell_type": "markdown",
   "id": "b62ffa6e",
   "metadata": {},
   "source": [
    "Now that all categorical features are converted to numeric values, it is time to create and train our Regression model. First, we need to separate our data into X (indepdent) and Y(dependent/target) feature sets. Next, we need to identify records that will be used to train and optimize our model, and records that will only be used for final model evaluation (we won't be able to adjust our model based on its predictions for these records). Lastly, we will scale our X features (normalizing the values due to varying value ranges and unit scales for each feature). After that, we will be ready to train our model."
   ]
  },
  {
   "cell_type": "markdown",
   "id": "7d6bba5a",
   "metadata": {},
   "source": [
    "## Separate into X and Y features"
   ]
  },
  {
   "cell_type": "code",
   "execution_count": 39,
   "id": "ae84cfe4",
   "metadata": {},
   "outputs": [],
   "source": [
    "# Our X features will be all columns except for 'charges'\n",
    "\n",
    "X = raw.drop('charges',axis=1)"
   ]
  },
  {
   "cell_type": "code",
   "execution_count": 40,
   "id": "d9e5514f",
   "metadata": {},
   "outputs": [],
   "source": [
    "# Our Y feature will be only the 'charges' column\n",
    "\n",
    "y = raw['charges']"
   ]
  },
  {
   "cell_type": "markdown",
   "id": "f04a3ec1",
   "metadata": {},
   "source": [
    "## Creating our Train Test Split"
   ]
  },
  {
   "cell_type": "code",
   "execution_count": 41,
   "id": "489637a5",
   "metadata": {},
   "outputs": [],
   "source": [
    "# Importing the necessary method\n",
    "\n",
    "from sklearn.model_selection import train_test_split"
   ]
  },
  {
   "cell_type": "code",
   "execution_count": 42,
   "id": "348d5f48",
   "metadata": {},
   "outputs": [],
   "source": [
    "# Separating our X and Y features into train and test record sets.\n",
    "# Our test size will determine the percentage of records that will be held back for the test record set.\n",
    "# We will be using GridSearch Cross Validation in our model training so this does not have to be as large.\n",
    "# The random state is set to ensure the 'same' set of random records are separated for training and testing. This will be \n",
    "# important if we later want to train a different model in hopes of making more accurate predictions.\n",
    "\n",
    "X_train, X_test, y_train, y_test = train_test_split(X, y, test_size=0.15, random_state=101)"
   ]
  },
  {
   "cell_type": "markdown",
   "id": "63ea2ebe",
   "metadata": {},
   "source": [
    "## Scale the X features"
   ]
  },
  {
   "cell_type": "code",
   "execution_count": 43,
   "id": "95200c61",
   "metadata": {},
   "outputs": [],
   "source": [
    "# Importing the correct scaler\n",
    "\n",
    "from sklearn.preprocessing import StandardScaler"
   ]
  },
  {
   "cell_type": "code",
   "execution_count": 44,
   "id": "f25fbf4e",
   "metadata": {},
   "outputs": [],
   "source": [
    "# Creating an instance of the Standard Scaler\n",
    "\n",
    "scaler = StandardScaler()"
   ]
  },
  {
   "cell_type": "code",
   "execution_count": 45,
   "id": "2ea717a6",
   "metadata": {},
   "outputs": [
    {
     "data": {
      "text/plain": [
       "StandardScaler()"
      ]
     },
     "execution_count": 45,
     "metadata": {},
     "output_type": "execute_result"
    }
   ],
   "source": [
    "# Fitting the scaler on our X_train dataset\n",
    "\n",
    "scaler.fit(X_train)"
   ]
  },
  {
   "cell_type": "code",
   "execution_count": 46,
   "id": "5291b3e0",
   "metadata": {},
   "outputs": [],
   "source": [
    "# Transforming our X_train and X_test\n",
    "\n",
    "X_train = scaler.transform(X_train)\n",
    "X_test = scaler.transform(X_test)"
   ]
  },
  {
   "cell_type": "markdown",
   "id": "b41fd746",
   "metadata": {},
   "source": [
    "# Model Selection"
   ]
  },
  {
   "cell_type": "markdown",
   "id": "d73d6842",
   "metadata": {},
   "source": [
    "When creating a Linear Regression model, we need to avoid overfitting. Overfitting occurs when our model has high variance causing it to account for even the smallest changes in training values. This causes our model to perform extremely well in training but leads to poor performance when being tested (on data it has never seen before). A way to resolve this problem of overfitting is through Regularization. Regularization adds an extra penalty term to the model's loss function (which already attempts to minimize residual or distance from predictions and true values) known as the regularization term. This term changes depending on the type of regularization being either L1 (Lasso) or L2 (Ridge).  \n",
    "<br>\n",
    "L1 or Lasso Regularization penalizes the Regression model based on the absolute value of beta coefficients (the coefficients attached to each of our independent features in our model). This penalty simplifies our model by allowing beta coefficients to become 0 if the model deems them insignificant enough. The benefit of this type of regularization is simplifying our model but the drawback is it can completely ignore features which do have some small effect on our predictions (even if they are small they may not be worthless).\n",
    "<br>\n",
    "L2 or Ridge Regularization penalizes the Regression model based on the square of the beta coefficients attached to each feature. This type of regularization minimizes beta coeffecients and also creates simpler models but beta coefficients cannot become 0 here. This ensures that the effect of each feature is considered in our model but that comes with the possibility of including many additional features (adding complexity) even if they have very little impact on our final predictions.  \n",
    "<br>\n",
    "Rather than choosing between L1 or L2 Regularization, we can train an Elastic Net model and search for the optimal value of l1_ratio which gives our model the possibility of blending the benefits of both regularization types without the significant drawbacks of each."
   ]
  },
  {
   "cell_type": "markdown",
   "id": "93dcb764",
   "metadata": {},
   "source": [
    "## Creating our Elastic Net Model"
   ]
  },
  {
   "cell_type": "code",
   "execution_count": 47,
   "id": "ec4860df",
   "metadata": {},
   "outputs": [],
   "source": [
    "# Importing our Elastic Net constructor\n",
    "\n",
    "from sklearn.linear_model import ElasticNet"
   ]
  },
  {
   "cell_type": "code",
   "execution_count": 48,
   "id": "9c7cc947",
   "metadata": {},
   "outputs": [],
   "source": [
    "# We will only specify a value for max iterations and use GridSearch Cross Validation to find the optimal values of \n",
    "# l1_ratio and the penalty term for our model as a whole: alpha.\n",
    "\n",
    "elastic_model = ElasticNet(max_iter=1000000)"
   ]
  },
  {
   "cell_type": "code",
   "execution_count": 49,
   "id": "df4dd45d",
   "metadata": {},
   "outputs": [],
   "source": [
    "# Creating our param_grid with values for alpha and l1_ratio\n",
    "# Alpha values are typically arranged on a logarithmic scale between 0 and 100 but for this project we will choose a few values\n",
    "# between 0.1 and 100. For l1_ratio, scikit-learns documentation suggests to choose values between 0 and 1 but lean more\n",
    "# towards 1 (lasso regularization).\n",
    "\n",
    "\n",
    "param_grid = {\n",
    "    'alpha' : [0.1,1,5,10,50,100],\n",
    "    'l1_ratio' : [.1,.5,.7,.95,.99,1]\n",
    "}"
   ]
  },
  {
   "cell_type": "markdown",
   "id": "cc17c7ad",
   "metadata": {},
   "source": [
    "## Optimizing Hyperparameters with GridSearchCV"
   ]
  },
  {
   "cell_type": "code",
   "execution_count": 50,
   "id": "cfb39b2b",
   "metadata": {},
   "outputs": [],
   "source": [
    "# Importing GridSearchCV\n",
    "\n",
    "from sklearn.model_selection import GridSearchCV"
   ]
  },
  {
   "cell_type": "code",
   "execution_count": 51,
   "id": "1095aee1",
   "metadata": {},
   "outputs": [],
   "source": [
    "# Creating our grid model which will test our base Elastic Net model with each combination of alpha and l1_ratio in param_grid\n",
    "\n",
    "grid_model = GridSearchCV(estimator=elastic_model, param_grid=param_grid, scoring='neg_mean_squared_error', cv=5)"
   ]
  },
  {
   "cell_type": "code",
   "execution_count": 52,
   "id": "b90c0781",
   "metadata": {},
   "outputs": [
    {
     "data": {
      "text/plain": [
       "GridSearchCV(cv=5, estimator=ElasticNet(max_iter=1000000),\n",
       "             param_grid={'alpha': [0.1, 1, 5, 10, 50, 100],\n",
       "                         'l1_ratio': [0.1, 0.5, 0.7, 0.95, 0.99, 1]},\n",
       "             scoring='neg_mean_squared_error')"
      ]
     },
     "execution_count": 52,
     "metadata": {},
     "output_type": "execute_result"
    }
   ],
   "source": [
    "# Fitting our Grid Model (finding the optimal hyperparameters)\n",
    "\n",
    "grid_model.fit(X_train,y_train)"
   ]
  },
  {
   "cell_type": "code",
   "execution_count": 53,
   "id": "3786f805",
   "metadata": {},
   "outputs": [
    {
     "data": {
      "text/plain": [
       "{'alpha': 100, 'l1_ratio': 1}"
      ]
     },
     "execution_count": 53,
     "metadata": {},
     "output_type": "execute_result"
    }
   ],
   "source": [
    "# Displaying the best parameters found by our Grid Search\n",
    "\n",
    "grid_model.best_params_\n",
    "\n",
    "# Our grid model found that an alpha value of 100 and l1_ratio of 1 (purely Lasso Regularization) was best"
   ]
  },
  {
   "cell_type": "code",
   "execution_count": 54,
   "id": "e87ae80f",
   "metadata": {},
   "outputs": [
    {
     "data": {
      "text/plain": [
       "array([3436.49350469, 1883.61579713,  446.86394228,   -0.        ,\n",
       "       9421.35578697,   -0.        ,  -94.64467779,  -63.04729663])"
      ]
     },
     "execution_count": 54,
     "metadata": {},
     "output_type": "execute_result"
    }
   ],
   "source": [
    "# Seeing what coefficients our model performed best with\n",
    "\n",
    "grid_model.best_estimator_.coef_\n",
    "\n",
    "# Note that two of the coefficients became 0 which is a possibility with Lasso Regularization. This means that our model\n",
    "# deemed their respective features to be insignificant in optimizing our loss functino"
   ]
  },
  {
   "cell_type": "code",
   "execution_count": 55,
   "id": "6c4d984c",
   "metadata": {},
   "outputs": [
    {
     "data": {
      "text/plain": [
       "smoker_yes          9421.355787\n",
       "age                 3436.493505\n",
       "bmi                 1883.615797\n",
       "children             446.863942\n",
       "sex_male              -0.000000\n",
       "region_northwest      -0.000000\n",
       "region_southwest     -63.047297\n",
       "region_southeast     -94.644678\n",
       "dtype: float64"
      ]
     },
     "execution_count": 55,
     "metadata": {},
     "output_type": "execute_result"
    }
   ],
   "source": [
    "# Displaying the coefficients given for each feature\n",
    "\n",
    "coefficients = pd.Series(index = X.columns, data = grid_model.best_estimator_.coef_).sort_values(ascending=False)\n",
    "coefficients\n",
    "\n",
    "# As we predicted before 'smoker_yes', 'age', and 'bmi' all have high coefficients ('children' is relatively high as well).\n",
    "# Our model giving 'sex_male' a coefficient of 0 implies that gender of a patient is a poor indicator of insurance costs."
   ]
  },
  {
   "cell_type": "code",
   "execution_count": 56,
   "id": "e9df1a85",
   "metadata": {},
   "outputs": [
    {
     "data": {
      "text/plain": [
       "smoker_yes          9421.355787\n",
       "age                 3436.493505\n",
       "bmi                 1883.615797\n",
       "children             446.863942\n",
       "region_southeast      94.644678\n",
       "region_southwest      63.047297\n",
       "sex_male               0.000000\n",
       "region_northwest       0.000000\n",
       "dtype: float64"
      ]
     },
     "execution_count": 56,
     "metadata": {},
     "output_type": "execute_result"
    }
   ],
   "source": [
    "# Displaying the absolute values of our feature coefficients\n",
    "\n",
    "abs_coefficients = abs(coefficients).sort_values(ascending=False)\n",
    "abs_coefficients"
   ]
  },
  {
   "cell_type": "code",
   "execution_count": 57,
   "id": "bddd923d",
   "metadata": {},
   "outputs": [
    {
     "data": {
      "image/png": "[encoded data removed]",
      "text/plain": [
       "<Figure size 600x400 with 1 Axes>"
      ]
     },
     "metadata": {
      "needs_background": "light"
     },
     "output_type": "display_data"
    }
   ],
   "source": [
    "# Visualizing the absolute value feature coefficients\n",
    "\n",
    "plt.figure(dpi=100)\n",
    "plt.title('Absolute Value Coeffecients of Features')\n",
    "sns.barplot(x=abs_coefficients.index, y=abs_coefficients.values)\n",
    "plt.xticks(rotation=90)\n",
    "plt.xlabel('Feature Name')\n",
    "plt.ylabel('Coefficient (absolute value)')\n",
    "plt.show()\n",
    "\n",
    "# We can visually see that patients with a positive smoker status have the highest impact on insurance costs."
   ]
  },
  {
   "cell_type": "markdown",
   "id": "186566ef",
   "metadata": {},
   "source": [
    "# Model Performance Evaluation"
   ]
  },
  {
   "cell_type": "markdown",
   "id": "34d3ddda",
   "metadata": {},
   "source": [
    "Now that we've searched for the optimal hyperparameters (if we wanted to we could do a more detailed search of alpha parameters between 50 and 100 but let's say we are satisfied with our model right now), it is time to give it our X_test data (which it has never seen before) and evaluate its performance in accurately predicting the appropriate values of 'charges'. For Regression models, this is done by reducing the Mean Absolute Error (the average absolute value error between predicted outcomes and true outcomes) and Root Mean Squared Error (same units as MAE but this metric penalizes a few very inaccurate predictions much more than MAE)."
   ]
  },
  {
   "cell_type": "code",
   "execution_count": 58,
   "id": "50e7ca1f",
   "metadata": {},
   "outputs": [],
   "source": [
    "# Making our y predictions\n",
    "\n",
    "y_pred = grid_model.predict(X_test)"
   ]
  },
  {
   "cell_type": "code",
   "execution_count": 59,
   "id": "62c9abab",
   "metadata": {},
   "outputs": [],
   "source": [
    "# Importing our performance evaluation metrics\n",
    "\n",
    "from sklearn.metrics import mean_absolute_error, mean_squared_error"
   ]
  },
  {
   "cell_type": "code",
   "execution_count": 60,
   "id": "17e001f1",
   "metadata": {},
   "outputs": [
    {
     "data": {
      "text/plain": [
       "4351.718954689854"
      ]
     },
     "execution_count": 60,
     "metadata": {},
     "output_type": "execute_result"
    }
   ],
   "source": [
    "# Calculating our MAE\n",
    "\n",
    "MAE = mean_absolute_error(y_test, y_pred)\n",
    "MAE"
   ]
  },
  {
   "cell_type": "code",
   "execution_count": 61,
   "id": "aa0163c3",
   "metadata": {},
   "outputs": [
    {
     "data": {
      "text/plain": [
       "6559.715600271675"
      ]
     },
     "execution_count": 61,
     "metadata": {},
     "output_type": "execute_result"
    }
   ],
   "source": [
    "# Calculating our RMSE\n",
    "\n",
    "RMSE = np.sqrt(mean_squared_error(y_test, y_pred))\n",
    "RMSE"
   ]
  },
  {
   "cell_type": "markdown",
   "id": "23f84372",
   "metadata": {},
   "source": [
    "## Explaining our Model Performance"
   ]
  },
  {
   "cell_type": "code",
   "execution_count": 62,
   "id": "8237371f",
   "metadata": {},
   "outputs": [
    {
     "data": {
      "text/plain": [
       "count      201.000000\n",
       "mean     13899.714631\n",
       "std      13046.736048\n",
       "min       1121.873900\n",
       "25%       4686.388700\n",
       "50%       9625.920000\n",
       "75%      18246.495500\n",
       "max      63770.428010\n",
       "Name: charges, dtype: float64"
      ]
     },
     "execution_count": 62,
     "metadata": {},
     "output_type": "execute_result"
    }
   ],
   "source": [
    "# Statistical measures of our y_test (test 'charges') values\n",
    "\n",
    "y_test.describe()"
   ]
  },
  {
   "cell_type": "markdown",
   "id": "816c9cb7",
   "metadata": {},
   "source": [
    "After making our predictions by feeding the X_test records into our model, we ARE NOT allowed to go back and tweak any parameters of our model. This would cause data leakage as we would be training our model to predict on data it shouldn't be able to see (simulated 'real-world' data after our model has been created). The predictions made by our model are only to be compared with the true values of y_test so we can evaluate our models overall performance when given previously unseen data.  \n",
    "<br>\n",
    "Our first performance metric was a Mean Absolute Error value of ~4351.72. This means that on average, the difference between our models predicted charges and the true value of charges is 4351.72. Is this good or bad? We would likely need to present our findings to a domain expert to help add context to these values but if we look at the statistical description of y_test above, we can see that the mean value for charge is ~13900 dollars. Compared to this value our MAE of 4351.72 dollars tells us that on average our predictions are inaccurate by ~31%. Since MAE measure the absolute value of the difference between predictions and true values, in this context we would be misrepresenting the true value of a patient's insurance cost by +/- 31%.  \n",
    "<br>\n",
    "Our second performance metric was a Root Mean Squared Error value of ~6559.72. RMSE penalizes high magnitudes of error more than MAE so it being somewhat far off from our MAE raises some concerns. In fact, the value of our model's RMSE represents 47% of the average value of charge in our y_test set. It is more difficult to extrapolate the significance of this value since the errors are squared first before being added and taking the root however, it indicates that there are a few instances where our model has larger inaccurate predictions than the average."
   ]
  },
  {
   "cell_type": "markdown",
   "id": "8223be16",
   "metadata": {},
   "source": [
    "# Addressing Major Assumptions"
   ]
  },
  {
   "cell_type": "markdown",
   "id": "072ba115",
   "metadata": {},
   "source": [
    "Aside from examining the performance metrics of our model's predictions, there are also several assumptions that must be met to test the overall validity of applying a Multiple Linear Regression model to our dataset. If any of these assumptions fail, we might need to alter our data (through feature engineering) and retrain our model, or try a different Regression model altogether."
   ]
  },
  {
   "cell_type": "markdown",
   "id": "ca704132",
   "metadata": {},
   "source": [
    "## Assumption 1: Our Target Outcome is a Continuous Variable"
   ]
  },
  {
   "cell_type": "markdown",
   "id": "247fe4a0",
   "metadata": {},
   "source": [
    "**TRUE**: Looking back at our EDA process, we saw that our target outcome feature - the 'charges' column - had a datatype of float. Typically, quantitative data that contains float values are referred to as continuous data while those that contain integers are discrete. While the definition of a contious variable is one that can be infinitely divided, measurements of money are typically viewed as continuous variables rather than discrete."
   ]
  },
  {
   "cell_type": "markdown",
   "id": "50740a2b",
   "metadata": {},
   "source": [
    "## Assumption 2: Linear Relationship between our DV and each IV"
   ]
  },
  {
   "cell_type": "markdown",
   "id": "f2d0897d",
   "metadata": {},
   "source": [
    "By definition, each of our dummy variable columns already satisfy this assumption so we just need to test our numeric features. Although our ordinal 'children' column is numeric, typically the distance between ordinal categories are unknown. In this case we decided to keep that feature as ordinal but we could have also expanded it into dummy columns like our other categorical features. If that were the case, the feature would already satisfy this assumption. Therefore, we will only observe the relationship of our two continous indepdent features {age, bmi} with our dependent feature 'charges'."
   ]
  },
  {
   "cell_type": "markdown",
   "id": "327f7385",
   "metadata": {},
   "source": [
    "We already created both scatterplot visualizations during our Visualization process so we will just summarize the trends here.  \n",
    "<br>\n",
    "The relationship between 'age' and 'charges' appeared linear. Although we observed separated vertical clusters relating to 'charges', that does not violate the overall linear relationship between the two features. As 'age' increases, 'charges' appeared to increase at a relatively constant proportion.  \n",
    "<br>\n",
    "The linearity of 'bmi' and 'charges' is a little harder to discern. Points remain concentrated near 0 as 'bmi' increases but the range of possible 'charges' values also increase with 'bmi' causing more points to appear with positive values of 'charges'. We can still say the relationship is relatively linear (with the absence of more data to confirm or deny this) as there doesn't seem to be any clearly recognizable pattern illustrated by the visualization.  "
   ]
  },
  {
   "cell_type": "markdown",
   "id": "5306d637",
   "metadata": {},
   "source": [
    "Therefore, we can say that this assumption hold **true**."
   ]
  },
  {
   "cell_type": "markdown",
   "id": "4c2ed186",
   "metadata": {},
   "source": [
    "## Assumption 3: No Multicollinearity"
   ]
  },
  {
   "cell_type": "markdown",
   "id": "87fc4799",
   "metadata": {},
   "source": [
    "Specifically, this assumption relates to having no highly correlated pairs of independent features."
   ]
  },
  {
   "cell_type": "markdown",
   "id": "d1f033e2",
   "metadata": {},
   "source": [
    "To test this assumption, we can inspect the correlation matrix for our independent features and look for correlations above 0.7 or we can calculate the Variance Inflation Factors (VIF) for each feature."
   ]
  },
  {
   "cell_type": "markdown",
   "id": "811e89f1",
   "metadata": {},
   "source": [
    "### Correlation Matrix Method"
   ]
  },
  {
   "cell_type": "code",
   "execution_count": 63,
   "id": "ea4828ce",
   "metadata": {
    "scrolled": false
   },
   "outputs": [
    {
     "data": {
      "image/png": "[encoded data removed]",
      "text/plain": [
       "<Figure size 800x640 with 2 Axes>"
      ]
     },
     "metadata": {
      "needs_background": "light"
     },
     "output_type": "display_data"
    }
   ],
   "source": [
    "# Visualizing a correlation matrix for our independent features\n",
    "\n",
    "plt.figure(figsize=(10,8), dpi=80)\n",
    "sns.heatmap(raw.drop('charges', axis=1).corr(), annot=True)\n",
    "plt.show()\n",
    "\n",
    "# As we can see, no pairs of independent features have correlations above 0.7. The highest positive correlation we\n",
    "# observe is between 'bmi' and 'region_southeast' with a correlation of 0.27."
   ]
  },
  {
   "cell_type": "markdown",
   "id": "7bd249bb",
   "metadata": {},
   "source": [
    "### VIF Method"
   ]
  },
  {
   "cell_type": "code",
   "execution_count": 64,
   "id": "31f0b38a",
   "metadata": {},
   "outputs": [],
   "source": [
    "# Importing the necessary method\n",
    "\n",
    "from statsmodels.stats.outliers_influence import variance_inflation_factor"
   ]
  },
  {
   "cell_type": "code",
   "execution_count": 65,
   "id": "9399ec59",
   "metadata": {},
   "outputs": [
    {
     "data": {
      "text/html": [
       "<div>\n",
       "<style scoped>\n",
       "    .dataframe tbody tr th:only-of-type {\n",
       "        vertical-align: middle;\n",
       "    }\n",
       "\n",
       "    .dataframe tbody tr th {\n",
       "        vertical-align: top;\n",
       "    }\n",
       "\n",
       "    .dataframe thead th {\n",
       "        text-align: right;\n",
       "    }\n",
       "</style>\n",
       "<table border=\"1\" class=\"dataframe\">\n",
       "  <thead>\n",
       "    <tr style=\"text-align: right;\">\n",
       "      <th></th>\n",
       "      <th>feature</th>\n",
       "      <th>VIF</th>\n",
       "    </tr>\n",
       "  </thead>\n",
       "  <tbody>\n",
       "    <tr>\n",
       "      <th>1</th>\n",
       "      <td>bmi</td>\n",
       "      <td>11.359739</td>\n",
       "    </tr>\n",
       "    <tr>\n",
       "      <th>0</th>\n",
       "      <td>age</td>\n",
       "      <td>7.696862</td>\n",
       "    </tr>\n",
       "    <tr>\n",
       "      <th>6</th>\n",
       "      <td>region_southeast</td>\n",
       "      <td>2.265574</td>\n",
       "    </tr>\n",
       "    <tr>\n",
       "      <th>3</th>\n",
       "      <td>sex_male</td>\n",
       "      <td>2.001959</td>\n",
       "    </tr>\n",
       "    <tr>\n",
       "      <th>7</th>\n",
       "      <td>region_southwest</td>\n",
       "      <td>1.960750</td>\n",
       "    </tr>\n",
       "    <tr>\n",
       "      <th>5</th>\n",
       "      <td>region_northwest</td>\n",
       "      <td>1.888020</td>\n",
       "    </tr>\n",
       "    <tr>\n",
       "      <th>2</th>\n",
       "      <td>children</td>\n",
       "      <td>1.810971</td>\n",
       "    </tr>\n",
       "    <tr>\n",
       "      <th>4</th>\n",
       "      <td>smoker_yes</td>\n",
       "      <td>1.261476</td>\n",
       "    </tr>\n",
       "  </tbody>\n",
       "</table>\n",
       "</div>"
      ],
      "text/plain": [
       "            feature        VIF\n",
       "1               bmi  11.359739\n",
       "0               age   7.696862\n",
       "6  region_southeast   2.265574\n",
       "3          sex_male   2.001959\n",
       "7  region_southwest   1.960750\n",
       "5  region_northwest   1.888020\n",
       "2          children   1.810971\n",
       "4        smoker_yes   1.261476"
      ]
     },
     "execution_count": 65,
     "metadata": {},
     "output_type": "execute_result"
    }
   ],
   "source": [
    "# VIF dataframe\n",
    "\n",
    "vif_set = raw.drop('charges', axis=1)\n",
    "\n",
    "vif_data = pd.DataFrame()\n",
    "vif_data[\"feature\"] = vif_set.columns\n",
    "  \n",
    "# calculating VIF for each feature\n",
    "vif_data[\"VIF\"] = [variance_inflation_factor(vif_set.values, i)\n",
    "                          for i in range(len(vif_set.columns))]\n",
    "  \n",
    "vif_data.sort_values('VIF', axis=0, ascending=False)"
   ]
  },
  {
   "cell_type": "markdown",
   "id": "b3a5eb86",
   "metadata": {},
   "source": [
    "There seems to be some disagreement as to what VIF value should be set as the lower limit for being \"highly correlated\". Some sources suggest a VIF value of 5 or greater while others suggest 10 or greater. Regardless of which value we choose for our limit, we can see that the VIF of our 'bmi' value is higher than both with a value of ~ 11.36. 'Age' is the second highest with a VIF value of ~ 7.697. This means our assumption of not having multicollinearity is **FALSE**."
   ]
  },
  {
   "cell_type": "markdown",
   "id": "a2ab0dac",
   "metadata": {},
   "source": [
    "## Assumption 4: Normal Distribution of Residual Errors"
   ]
  },
  {
   "cell_type": "code",
   "execution_count": 66,
   "id": "7a1928b4",
   "metadata": {},
   "outputs": [],
   "source": [
    "# Creating a series of residual errors\n",
    "\n",
    "residuals = y_pred - y_test"
   ]
  },
  {
   "cell_type": "markdown",
   "id": "5eeecb47",
   "metadata": {},
   "source": [
    "### Histogram Method"
   ]
  },
  {
   "cell_type": "markdown",
   "id": "3ec62b61",
   "metadata": {},
   "source": [
    "For this method, we create a histogram with our list of residual values. We are looking for a bell-shaped curve that is relatively symmetric on both sides. It should be highest in the middle (at the mean/median/mode) and then taper off into tails in either side."
   ]
  },
  {
   "cell_type": "code",
   "execution_count": 67,
   "id": "97f14fa3",
   "metadata": {},
   "outputs": [
    {
     "data": {
      "image/png": "[encoded data removed]",
      "text/plain": [
       "<Figure size 432x288 with 1 Axes>"
      ]
     },
     "metadata": {
      "needs_background": "light"
     },
     "output_type": "display_data"
    }
   ],
   "source": [
    "# Histogram\n",
    "\n",
    "sns.histplot(residuals, kde=True)\n",
    "plt.show()"
   ]
  },
  {
   "cell_type": "markdown",
   "id": "573e92d2",
   "metadata": {},
   "source": [
    "This distribution appears relatively normally distributed as there is a bell-shape however, there is a small bump on the left tail which is atypical in normal distributions. This leads us to suspect that our model failed this assumption but let's also create a Q-Q Plot to visualize the residual distribution through a different method."
   ]
  },
  {
   "cell_type": "markdown",
   "id": "32753017",
   "metadata": {},
   "source": [
    "### Q-Q Plot Method"
   ]
  },
  {
   "cell_type": "markdown",
   "id": "6391f1c5",
   "metadata": {},
   "source": [
    "A Q-Q Plot (Quantile-Quantile Plot) is used to determine if a data set adheres to a specific distribution. The red line indicates how a theoretical normally distributed data set would look while the blue dots show the distribution of our data set. Ideally, the blue dots should remain close to the red line (small deviations at the ends are acceptable though). If our dots do not remain close to the red line, it suggests that our data set does not adhere to the theoretical distribution we are testing it against."
   ]
  },
  {
   "cell_type": "code",
   "execution_count": 68,
   "id": "4c021a25",
   "metadata": {},
   "outputs": [],
   "source": [
    "# Importing the necessary method\n",
    "\n",
    "from statsmodels.graphics.gofplots import qqplot"
   ]
  },
  {
   "cell_type": "code",
   "execution_count": 69,
   "id": "c62c0820",
   "metadata": {},
   "outputs": [
    {
     "data": {
      "image/png": "[encoded data removed]",
      "text/plain": [
       "<Figure size 432x288 with 1 Axes>"
      ]
     },
     "metadata": {
      "needs_background": "light"
     },
     "output_type": "display_data"
    }
   ],
   "source": [
    "# Creating the visualization\n",
    "\n",
    "qqplot(data=residuals, line='s')\n",
    "plt.show()"
   ]
  },
  {
   "cell_type": "markdown",
   "id": "5be41d56",
   "metadata": {},
   "source": [
    "We can see that our residuals deviate negatively from the theoretical distribution quite significantly at either end. Additionally, they deviate positively in the middle. Typically, we would expect a normally distributed data set to deviate slightly at the tails but not at all in the middle. Therefore, it seems our suspicions from our Histogram Method are confirmed and our residuals are not normally distributed. Our assumption is **False**."
   ]
  },
  {
   "cell_type": "markdown",
   "id": "e4857764",
   "metadata": {},
   "source": [
    "## Assumption 5: Homoscedasticity"
   ]
  },
  {
   "cell_type": "markdown",
   "id": "38fd2dca",
   "metadata": {},
   "source": [
    "For this assumption, we are looking to see if the variance of our residuals remains releatively constant. We can test this by visualizing a scatterplot of our residuals for every predicted y_value. We should expect to see a relatively shapeless scatter of points across the x-axis. Shifts in residual variance (recognizable shapes such as bell or cone, or general changes in deviation) may be causes of concern."
   ]
  },
  {
   "cell_type": "code",
   "execution_count": 70,
   "id": "1220d198",
   "metadata": {},
   "outputs": [
    {
     "data": {
      "image/png": "[encoded data removed]",
      "text/plain": [
       "<Figure size 432x288 with 1 Axes>"
      ]
     },
     "metadata": {
      "needs_background": "light"
     },
     "output_type": "display_data"
    }
   ],
   "source": [
    "fig,ax = plt.subplots()\n",
    "ax.set_title('Homoscedasticity Assumption')\n",
    "sns.scatterplot(x=y_pred,y=residuals, ax=ax, alpha=0.8, )\n",
    "sns.lineplot(x=y_pred, y=0, ax=ax, linestyle=\"--\", color='darkorange')\n",
    "ax.set_ylabel('Residuals')\n",
    "ax.set_ylim(bottom=-20000, top=20000)\n",
    "plt.show()"
   ]
  },
  {
   "cell_type": "markdown",
   "id": "887bb3b7",
   "metadata": {},
   "source": [
    "Here we observe a few clusters of points which is more indicative of predicted value frequency than residual variance. If we observe the variance of the points we can see along the x-axis, we see points are relatively concentrated around the 0 line but also expand into dispersed negative values. Honestly, it is hard to tell if this violates our assumption of homoscedasticity because while the points are not as clustered on the right side, we have less points there in general. For now, we can probably say that our assumption holds **true** but more research is needed to definitively answer the question of homodescasticity in this dataset."
   ]
  },
  {
   "cell_type": "markdown",
   "id": "627952b4",
   "metadata": {},
   "source": [
    "## Assumption 6: Independence of Errors"
   ]
  },
  {
   "cell_type": "markdown",
   "id": "9ea64fc8",
   "metadata": {},
   "source": [
    "For our final assumption, we want to test that our errors in predicted values (residuals) are independent and not correlated with eachother. To test this we can calculate the Durbin-Watson statistic for our set of residuals. This statistic can take a value between 0 and 4 with a value of 2 meaning no correlation between residuals. A statistic closer to 0 suggests positive serial correlation while one closer to 4 suggests negative serial correlation. Generally, if the statistic falls between 1.5 and 2.5, the null hypothesis is not rejected meaning there is no significant correlation in our residuals."
   ]
  },
  {
   "cell_type": "code",
   "execution_count": 71,
   "id": "6494396c",
   "metadata": {},
   "outputs": [],
   "source": [
    "# Importing the necessary method\n",
    "\n",
    "from statsmodels.stats.stattools import durbin_watson"
   ]
  },
  {
   "cell_type": "code",
   "execution_count": 72,
   "id": "ce87af55",
   "metadata": {},
   "outputs": [
    {
     "data": {
      "text/plain": [
       "2.0009751588142572"
      ]
     },
     "execution_count": 72,
     "metadata": {},
     "output_type": "execute_result"
    }
   ],
   "source": [
    "# Calculating the Durbin-Watson statistic\n",
    "\n",
    "durbin_watson(residuals)"
   ]
  },
  {
   "cell_type": "markdown",
   "id": "b05e2bda",
   "metadata": {},
   "source": [
    "We can see our calculated Durbin-Watson statistic is approximately 2.001 which is extremely close to 2 and definitely falls within our acceptable range for maintaining the null hypothesis. Therefore, we can say that there is correlation between our residuals or that our errors are independent meaning this assumption is **true**."
   ]
  },
  {
   "cell_type": "markdown",
   "id": "a7b0aa29",
   "metadata": {},
   "source": [
    "## Assumption Summary"
   ]
  },
  {
   "cell_type": "markdown",
   "id": "69f54063",
   "metadata": {},
   "source": [
    "Assumption 1: TRUE  \n",
    "Assumption 2: TRUE  \n",
    "Assumption 3: **FALSE**  \n",
    "Assumption 4: **FALSE**  \n",
    "Assumption 5:  TRUE  \n",
    "Assumption 6: TRUE"
   ]
  },
  {
   "cell_type": "markdown",
   "id": "67b47326",
   "metadata": {},
   "source": [
    "After testing all major assumptions for Multiple Linear Regression, we see that two of them failed: No Multicolinearity and Normal Distribution of Residuals.  \n",
    "<br>\n",
    "We tested for Multicolinearity by calculating the correlations between all independent features and visualizing them with a heatmap. We didn't observe any correlations above 0.7 which is a general rule of thumb that our dataset lacks multicolinearity but we also calculated the Variance Inflation Factors for each feature just in case. After calculating those statistics, we saw that our 'age' and 'bmi' columns had VIF values greater than 7. Although sources disagree whether the acceptable lower limit for VIF is 5 or 10, our 'age' feature had a VIF value of 11 which violates both definitions.  \n",
    "<br>\n",
    "To test for the Normal Distribution of Residuals we visualized the residual for each predicted y-value using a Histogram. The distribution appeared relatively normal but the left side had a slight bump which is atypical of normally distributed datasets so we used a Q-Q plot to test the assumption further. In our Q-Q Plot, we observed deviation at either end as well as the middle of our plot which is atypical of normally distributed sets. Slight deviation at either end is generally acceptable but values near the center are generally expected to stay close to the theoretical fit line.\n",
    "<br>\n",
    "Since we failed one or more of the major assumptions for Multiple Linear Regression, it is evident that our model was not valid for predicting on our current data set. To address these issues, we would most likely have to produce interaction terms for our highly correlated independent features. After that, we would have to train and test our model again and re-evaluate its performance."
   ]
  },
  {
   "cell_type": "markdown",
   "id": "de9db7f0",
   "metadata": {},
   "source": [
    "# Model Deployment"
   ]
  },
  {
   "cell_type": "markdown",
   "id": "501059c9",
   "metadata": {},
   "source": [
    "Although we found out that our Multiple Linear Regression model is not valid for our dataset in its current form, I will demonstrate how one would go about deploying their model so others can use it to make their own predictions."
   ]
  },
  {
   "cell_type": "markdown",
   "id": "5d2addff",
   "metadata": {},
   "source": [
    "## Dumping"
   ]
  },
  {
   "cell_type": "code",
   "execution_count": 73,
   "id": "1f68810a",
   "metadata": {},
   "outputs": [],
   "source": [
    "# The first step is to recreate our desired model with the optimal hyperparameters we found through our GridSearchCV\n",
    "\n",
    "final_model = ElasticNet(alpha=100, l1_ratio=1)"
   ]
  },
  {
   "cell_type": "code",
   "execution_count": 74,
   "id": "4d98f4bb",
   "metadata": {},
   "outputs": [],
   "source": [
    "# Next we want to recreate our StandardScaler but this time fit and transform the ENTIRE X (now the entire X will be our \n",
    "# 'train' since we want our model to have as much information as possible to use in the real world)\n",
    "\n",
    "final_scaler = StandardScaler()"
   ]
  },
  {
   "cell_type": "code",
   "execution_count": 75,
   "id": "6ba1bcd2",
   "metadata": {},
   "outputs": [],
   "source": [
    "# Now we are going to fit transform the entire X with our scaler\n",
    "\n",
    "X_final = final_scaler.fit_transform(X)"
   ]
  },
  {
   "cell_type": "code",
   "execution_count": 76,
   "id": "d6629f94",
   "metadata": {},
   "outputs": [
    {
     "data": {
      "text/plain": [
       "ElasticNet(alpha=100, l1_ratio=1)"
      ]
     },
     "execution_count": 76,
     "metadata": {},
     "output_type": "execute_result"
    }
   ],
   "source": [
    "# Now we are going to fit our ElasticNet model to our newly scaled X and the ENTIRE y \n",
    "\n",
    "final_model.fit(X_final,y)"
   ]
  },
  {
   "cell_type": "code",
   "execution_count": 77,
   "id": "1ac2a05c",
   "metadata": {},
   "outputs": [],
   "source": [
    "# Now we're going to use joblib to \"dump\" our final model, scaler, and column names\n",
    "\n",
    "import joblib"
   ]
  },
  {
   "cell_type": "code",
   "execution_count": 78,
   "id": "69cfd385",
   "metadata": {},
   "outputs": [
    {
     "data": {
      "text/plain": [
       "['final_model.pkl']"
      ]
     },
     "execution_count": 78,
     "metadata": {},
     "output_type": "execute_result"
    }
   ],
   "source": [
    "# Dumping our final model\n",
    "\n",
    "joblib.dump(final_model, 'final_model.pkl')"
   ]
  },
  {
   "cell_type": "code",
   "execution_count": 79,
   "id": "07ce17ec",
   "metadata": {},
   "outputs": [
    {
     "data": {
      "text/plain": [
       "['final_scaler.pkl']"
      ]
     },
     "execution_count": 79,
     "metadata": {},
     "output_type": "execute_result"
    }
   ],
   "source": [
    "# Dumping our Standard Scaler\n",
    "\n",
    "joblib.dump(final_scaler, 'final_scaler.pkl')"
   ]
  },
  {
   "cell_type": "code",
   "execution_count": 80,
   "id": "df461821",
   "metadata": {},
   "outputs": [
    {
     "data": {
      "text/plain": [
       "['final_column_names.pkl']"
      ]
     },
     "execution_count": 80,
     "metadata": {},
     "output_type": "execute_result"
    }
   ],
   "source": [
    "# It's also considered good practice to dump the column names of the X features you used to fit the final model\n",
    "\n",
    "joblib.dump(list(X.columns), 'final_column_names.pkl')"
   ]
  },
  {
   "cell_type": "markdown",
   "id": "edc7ba63",
   "metadata": {},
   "source": [
    "Now everything we need has been dumped and saved as .pkl files on our computer. If someone wanted to use our model to make their own predictions, we would just need to send them the files. After that, they could load up our model and make their predictions as follows."
   ]
  },
  {
   "cell_type": "markdown",
   "id": "0ce5d047",
   "metadata": {},
   "source": [
    "## Loading"
   ]
  },
  {
   "cell_type": "code",
   "execution_count": 81,
   "id": "7d01e747",
   "metadata": {},
   "outputs": [
    {
     "data": {
      "text/plain": [
       "['age',\n",
       " 'bmi',\n",
       " 'children',\n",
       " 'sex_male',\n",
       " 'smoker_yes',\n",
       " 'region_northwest',\n",
       " 'region_southeast',\n",
       " 'region_southwest']"
      ]
     },
     "execution_count": 81,
     "metadata": {},
     "output_type": "execute_result"
    }
   ],
   "source": [
    "# New Person wants to know what values they should enter (what are our column names)\n",
    "\n",
    "new_columns = joblib.load('final_column_names.pkl')\n",
    "new_columns"
   ]
  },
  {
   "cell_type": "code",
   "execution_count": 82,
   "id": "617162bf",
   "metadata": {},
   "outputs": [],
   "source": [
    "# Now they would load our model\n",
    "\n",
    "loaded_model = joblib.load('final_model.pkl')"
   ]
  },
  {
   "cell_type": "code",
   "execution_count": 83,
   "id": "a52bf5df",
   "metadata": {},
   "outputs": [
    {
     "data": {
      "text/plain": [
       "array([[-0.30074188, -1.99460144, -0.90923416,  0.99032355, -0.50770174,\n",
       "        -0.5655458 , -0.61163774, -0.56669767]])"
      ]
     },
     "execution_count": 83,
     "metadata": {},
     "output_type": "execute_result"
    }
   ],
   "source": [
    "# And transform their desired values using our scaler\n",
    "# We use double brackets because our model expects 1 or more rows of values. So we input an entire row as the first index.\n",
    "\n",
    "sample_data = [[35,18.5,0,1,0,0,0,0]]\n",
    "\n",
    "new_scaler = joblib.load('final_scaler.pkl')\n",
    "sample_data = new_scaler.transform(sample_data)\n",
    "\n",
    "sample_data"
   ]
  },
  {
   "cell_type": "code",
   "execution_count": 84,
   "id": "ee172988",
   "metadata": {},
   "outputs": [
    {
     "data": {
      "text/plain": [
       "array([3328.66809691])"
      ]
     },
     "execution_count": 84,
     "metadata": {},
     "output_type": "execute_result"
    }
   ],
   "source": [
    "# Finally they would enter the scaled values for each feature and predict using our model\n",
    "\n",
    "\n",
    "# Making predictions using hypothetical values\n",
    "loaded_model.predict(sample_data)"
   ]
  },
  {
   "cell_type": "markdown",
   "id": "993035bb",
   "metadata": {},
   "source": [
    "This means that the final version of our Multiple Linear Regression model, which was fit on our entire independent feature dataset, predicts that a patient with the attributes provided in sample_data will have an insurance cost of approximately $3328.67."
   ]
  },
  {
   "cell_type": "markdown",
   "id": "97f7e232",
   "metadata": {},
   "source": [
    "# Next Steps"
   ]
  },
  {
   "cell_type": "markdown",
   "id": "d2c7025b",
   "metadata": {},
   "source": [
    "If I was to expand on this project in the future, I would like to...\n",
    "* Create a better performing Regression model which addresses the issues found in our major assumption tests\n",
    "* Learn a bit more about how to test the various major assumptions (some of them could be tested in multiple ways and I want a better understanding of the benefits and drawbacks of using each method)\n",
    "* Learn how to deploy my final model using an API or software rather than requiring a new user to use Python."
   ]
  }
 ],
 "metadata": {
  "kernelspec": {
   "display_name": "Python 3",
   "language": "python",
   "name": "python3"
  },
  "language_info": {
   "codemirror_mode": {
    "name": "ipython",
    "version": 3
   },
   "file_extension": ".py",
   "mimetype": "text/x-python",
   "name": "python",
   "nbconvert_exporter": "python",
   "pygments_lexer": "ipython3",
   "version": "3.8.8"
  }
 },
 "nbformat": 4,
 "nbformat_minor": 5
}
